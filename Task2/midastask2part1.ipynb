{
 "cells": [
  {
   "cell_type": "markdown",
   "metadata": {
    "id": "uHJMYYjww263"
   },
   "source": [
    "Author: Pushkar Patel"
   ]
  },
  {
   "cell_type": "markdown",
   "metadata": {
    "id": "CGftaDedj2ll"
   },
   "source": [
    "# Task 2 - Part 1"
   ]
  },
  {
   "cell_type": "markdown",
   "metadata": {
    "id": "aJuLlwqSP4_P"
   },
   "source": [
    "Imports"
   ]
  },
  {
   "cell_type": "code",
   "execution_count": 10,
   "metadata": {
    "execution": {
     "iopub.execute_input": "2021-04-09T10:13:07.040774Z",
     "iopub.status.busy": "2021-04-09T10:13:07.039851Z",
     "iopub.status.idle": "2021-04-09T10:13:11.836005Z",
     "shell.execute_reply": "2021-04-09T10:13:11.834306Z",
     "shell.execute_reply.started": "2021-04-09T10:13:07.040541Z"
    },
    "id": "jR8HjU5jP4_S"
   },
   "outputs": [],
   "source": [
    "import shutil\n",
    "from PIL import Image\n",
    "import numpy as np\n",
    "import matplotlib.pyplot as plt\n",
    "from matplotlib.pyplot import imshow\n",
    "%matplotlib inline\n",
    "\n",
    "import tensorflow as tf\n",
    "from tensorflow import keras\n",
    "from tensorflow.keras.preprocessing.image import ImageDataGenerator\n",
    "from tensorflow.keras.preprocessing import image\n",
    "\n",
    "from tensorflow.keras.models import Sequential\n",
    "from tensorflow.keras.layers import Dense, Dropout, Flatten, Lambda\n",
    "from tensorflow.keras.layers import Conv2D, MaxPooling2D\n",
    "from tensorflow.keras.layers import BatchNormalization\n",
    "from tensorflow.keras.optimizers import Adam"
   ]
  },
  {
   "cell_type": "markdown",
   "metadata": {
    "id": "njW9YzvpQnaC"
   },
   "source": [
    "Extracting the imges"
   ]
  },
  {
   "cell_type": "code",
   "execution_count": 2,
   "metadata": {
    "execution": {
     "iopub.execute_input": "2021-04-09T10:13:13.333244Z",
     "iopub.status.busy": "2021-04-09T10:13:13.332738Z",
     "iopub.status.idle": "2021-04-09T10:13:14.492674Z",
     "shell.execute_reply": "2021-04-09T10:13:14.490850Z",
     "shell.execute_reply.started": "2021-04-09T10:13:13.333185Z"
    },
    "id": "dZfXG01zQhZv"
   },
   "outputs": [],
   "source": [
    "shutil.unpack_archive('trainPart1.zip', '../input/trainpart1zip')"
   ]
  },
  {
   "cell_type": "markdown",
   "metadata": {
    "id": "fCwPDuoDbZSX"
   },
   "source": [
    "## Inspecting the image"
   ]
  },
  {
   "cell_type": "markdown",
   "metadata": {
    "id": "Wu6PcN7voZpM"
   },
   "source": [
    "Browsing through the dataset, we can see that there a total of 62 classes - 10 numbers from 0 to 9, 26 lowercase alphabets and 26 uppercase alphabets, having 40 examples each.\n",
    "\n",
    "Inspecting the image to view its dimensions and colour channels"
   ]
  },
  {
   "cell_type": "code",
   "execution_count": null,
   "metadata": {
    "colab": {
     "base_uri": "https://localhost:8080/",
     "height": 321
    },
    "execution": {
     "iopub.execute_input": "2021-04-09T10:13:16.701168Z",
     "iopub.status.busy": "2021-04-09T10:13:16.700668Z",
     "iopub.status.idle": "2021-04-09T10:13:17.558952Z",
     "shell.execute_reply": "2021-04-09T10:13:17.557146Z",
     "shell.execute_reply.started": "2021-04-09T10:13:16.701111Z"
    },
    "id": "R7E0uzeinH_M",
    "outputId": "c036738f-1c6b-4f6c-f758-f73280fd9da6",
    "tags": []
   },
   "outputs": [
    {
     "name": "stdout",
     "output_type": "stream",
     "text": [
      "(900, 1200, 3)\n",
      "RGB\n"
     ]
    },
    {
     "data": {
      "text/plain": [
       "<matplotlib.image.AxesImage at 0x7f6d8e70a2b0>"
      ]
     },
     "execution_count": 3,
     "metadata": {
      "tags": []
     },
     "output_type": "execute_result"
    },
    {
     "data": {
      "image/png": "[encoded data removed]",
      "text/plain": [
       "<Figure size 432x288 with 1 Axes>"
      ]
     },
     "metadata": {
      "needs_background": "light",
      "tags": []
     },
     "output_type": "display_data"
    }
   ],
   "source": [
    "image = Image.open('../input/trainpart1zip/train/Sample001/img001-001.png')\n",
    "np_image = np.array(image)\n",
    "print(np_image.shape)\n",
    "print(image.mode)\n",
    "imshow(image)"
   ]
  },
  {
   "cell_type": "markdown",
   "metadata": {
    "id": "95GlEPFEbZSk"
   },
   "source": [
    "The image is of dimension 900x1200 with three colour channels. Looking at the images in the directory, I found that all the images are black and white and contain only handwritten digits or alphabets. We can convert them to single grayscale colour channel to reduce computations, improve speed and make the architecture less compled."
   ]
  },
  {
   "cell_type": "markdown",
   "metadata": {
    "id": "J3HnRFaUbZSm"
   },
   "source": [
    "## Preprossing the images to convert test and validation input and labels"
   ]
  },
  {
   "cell_type": "markdown",
   "metadata": {
    "id": "l1EhcCnHZwzV"
   },
   "source": [
    "NOTE: Initially, I tried to build the network on the full image dimension of 900x1200, but that just overloaded the memory with too many parameters. Scaling down the dimensions, I found that reducing the image by 20x i.e. image of dimension 45x60 has comparatively smaller number of parameters to train and the images are still recognizable from each other."
   ]
  },
  {
   "cell_type": "markdown",
   "metadata": {
    "id": "VmZNiJkGbZSq"
   },
   "source": [
    "I'll use ImageDataGenerator from Keras to preprocess and split the training images into train and validations sets.\n",
    "\n",
    "I've normalized all pixel values to be in the range of 0 to 1 for the data to have similar range.\n",
    "\n",
    "I split the training and validation sets in 80:20 ratio."
   ]
  },
  {
   "cell_type": "code",
   "execution_count": 3,
   "metadata": {
    "execution": {
     "iopub.execute_input": "2021-04-09T10:13:52.308556Z",
     "iopub.status.busy": "2021-04-09T10:13:52.307673Z",
     "iopub.status.idle": "2021-04-09T10:13:52.317856Z",
     "shell.execute_reply": "2021-04-09T10:13:52.316184Z",
     "shell.execute_reply.started": "2021-04-09T10:13:52.308446Z"
    },
    "id": "kvqAdvMKbZSu",
    "tags": []
   },
   "outputs": [],
   "source": [
    "train_datagen1 = ImageDataGenerator(rescale=1./255, validation_split=0.2)"
   ]
  },
  {
   "cell_type": "markdown",
   "metadata": {
    "id": "SDaFawcbbZSw"
   },
   "source": [
    "I create the generator object which would generate the training and validation sets. It takes the input from the images folder. I'm reducing the size of the images by 20x while taking the input, and changing the colour channel to grayscale.\n",
    "Each set is of batch size 64. I chose this as it's a good enough batch size for this size of dataset. The class labels are categorical and are one-hot encoded for all of the 62 classes (10 numbers + 26 lowercase alphabets + 26 uppercase alphabets)."
   ]
  },
  {
   "cell_type": "markdown",
   "metadata": {
    "id": "aZUIZXqbP4_c"
   },
   "source": [
    "Variables that would be used globally"
   ]
  },
  {
   "cell_type": "code",
   "execution_count": 4,
   "metadata": {
    "execution": {
     "iopub.execute_input": "2021-04-09T10:13:53.846163Z",
     "iopub.status.busy": "2021-04-09T10:13:53.845632Z",
     "iopub.status.idle": "2021-04-09T10:13:53.853072Z",
     "shell.execute_reply": "2021-04-09T10:13:53.851287Z",
     "shell.execute_reply.started": "2021-04-09T10:13:53.846102Z"
    },
    "id": "Jg3_tABhby39",
    "tags": []
   },
   "outputs": [],
   "source": [
    "BATCH_SIZE = 64\n",
    "IMAGE_SIZE = (45, 60)\n",
    "EPOCHS = 400"
   ]
  },
  {
   "cell_type": "code",
   "execution_count": 5,
   "metadata": {
    "colab": {
     "base_uri": "https://localhost:8080/"
    },
    "execution": {
     "iopub.execute_input": "2021-04-09T10:13:54.386233Z",
     "iopub.status.busy": "2021-04-09T10:13:54.385704Z",
     "iopub.status.idle": "2021-04-09T10:13:54.651471Z",
     "shell.execute_reply": "2021-04-09T10:13:54.649765Z",
     "shell.execute_reply.started": "2021-04-09T10:13:54.386175Z"
    },
    "id": "oFn5F1pPbZSy",
    "outputId": "20e228aa-9fad-40ce-db3e-a94106518bd3",
    "tags": []
   },
   "outputs": [
    {
     "name": "stdout",
     "output_type": "stream",
     "text": [
      "Found 1984 images belonging to 62 classes.\n"
     ]
    }
   ],
   "source": [
    "train_generator1 = train_datagen1.flow_from_directory(\n",
    "        '../input/trainpart1zip/train',\n",
    "        target_size=IMAGE_SIZE,\n",
    "        batch_size=BATCH_SIZE,\n",
    "        class_mode='categorical',\n",
    "        color_mode='grayscale',\n",
    "        subset='training',\n",
    "        seed=42,\n",
    "        shuffle=True)"
   ]
  },
  {
   "cell_type": "code",
   "execution_count": 6,
   "metadata": {
    "colab": {
     "base_uri": "https://localhost:8080/"
    },
    "execution": {
     "iopub.execute_input": "2021-04-09T10:13:55.001241Z",
     "iopub.status.busy": "2021-04-09T10:13:55.000722Z",
     "iopub.status.idle": "2021-04-09T10:13:55.128514Z",
     "shell.execute_reply": "2021-04-09T10:13:55.126873Z",
     "shell.execute_reply.started": "2021-04-09T10:13:55.001181Z"
    },
    "id": "jr385xFTbZS1",
    "outputId": "0d477c5a-5ff5-4561-c5de-01d1df9a5c26",
    "tags": []
   },
   "outputs": [
    {
     "name": "stdout",
     "output_type": "stream",
     "text": [
      "Found 496 images belonging to 62 classes.\n"
     ]
    }
   ],
   "source": [
    "validation_generator1 = train_datagen1.flow_from_directory(\n",
    "        '../input/trainpart1zip/train',\n",
    "        target_size=tf.squeeze(IMAGE_SIZE),\n",
    "        batch_size=BATCH_SIZE,\n",
    "        class_mode='categorical',\n",
    "        color_mode='grayscale',\n",
    "        subset='validation',\n",
    "        seed=42,\n",
    "        shuffle=True)"
   ]
  },
  {
   "cell_type": "markdown",
   "metadata": {
    "id": "KTrRClAHe7zp"
   },
   "source": [
    "The ImageDataGenerator class has automatically detected the 62 classes and has one-hot encoded them accordingly."
   ]
  },
  {
   "cell_type": "markdown",
   "metadata": {
    "id": "hxdjUMeOIJRB"
   },
   "source": [
    "Viewing the generated samples"
   ]
  },
  {
   "cell_type": "code",
   "execution_count": null,
   "metadata": {
    "colab": {
     "base_uri": "https://localhost:8080/",
     "height": 720
    },
    "execution": {
     "iopub.execute_input": "2021-04-09T10:14:05.070178Z",
     "iopub.status.busy": "2021-04-09T10:14:05.069390Z",
     "iopub.status.idle": "2021-04-09T10:14:10.777651Z",
     "shell.execute_reply": "2021-04-09T10:14:10.776065Z",
     "shell.execute_reply.started": "2021-04-09T10:14:05.070084Z"
    },
    "id": "D0fIuQydbZS4",
    "outputId": "1bafaedd-c762-4460-9c44-38a19ffe7f9f",
    "tags": []
   },
   "outputs": [
    {
     "name": "stdout",
     "output_type": "stream",
     "text": [
      "(64, 45, 60, 1) (64, 62)\n",
      "[0. 0. 0. 0. 0. 0. 0. 0. 0. 0. 0. 0. 0. 0. 0. 0. 0. 0. 1. 0. 0. 0. 0. 0.\n",
      " 0. 0. 0. 0. 0. 0. 0. 0. 0. 0. 0. 0. 0. 0. 0. 0. 0. 0. 0. 0. 0. 0. 0. 0.\n",
      " 0. 0. 0. 0. 0. 0. 0. 0. 0. 0. 0. 0. 0. 0.]\n"
     ]
    },
    {
     "data": {
      "image/png": "[encoded data removed]",
      "text/plain": [
       "<Figure size 1152x864 with 16 Axes>"
      ]
     },
     "metadata": {
      "needs_background": "light",
      "tags": []
     },
     "output_type": "display_data"
    }
   ],
   "source": [
    "X_train_batch0, y_train_batch0 = train_generator1.next()\n",
    "print(X_train_batch0.shape, y_train_batch0.shape)\n",
    "print(y_train_batch0[0])\n",
    "plt.figure(figsize=(16,12))\n",
    "for i in range(1, 17):\n",
    "    plt.subplot(4,4,i)\n",
    "    imshow(tf.squeeze(X_train_batch0[i]), cmap='gray')\n",
    "plt.show() "
   ]
  },
  {
   "cell_type": "code",
   "execution_count": null,
   "metadata": {
    "colab": {
     "base_uri": "https://localhost:8080/",
     "height": 720
    },
    "execution": {
     "iopub.execute_input": "2021-04-09T10:14:42.539841Z",
     "iopub.status.busy": "2021-04-09T10:14:42.539116Z",
     "iopub.status.idle": "2021-04-09T10:14:49.668317Z",
     "shell.execute_reply": "2021-04-09T10:14:49.666745Z",
     "shell.execute_reply.started": "2021-04-09T10:14:42.539752Z"
    },
    "id": "Es5HCNCGctE6",
    "outputId": "e576aed9-d293-4551-b81b-a4286324e41e",
    "tags": []
   },
   "outputs": [
    {
     "name": "stdout",
     "output_type": "stream",
     "text": [
      "(64, 45, 60, 1) (64, 62)\n",
      "[0. 0. 0. 0. 0. 0. 0. 0. 0. 0. 0. 0. 0. 0. 0. 0. 0. 0. 0. 0. 0. 0. 0. 0.\n",
      " 0. 0. 0. 0. 0. 0. 0. 0. 0. 0. 0. 0. 0. 0. 0. 0. 0. 0. 0. 0. 0. 0. 0. 0.\n",
      " 0. 0. 0. 0. 0. 0. 0. 0. 0. 1. 0. 0. 0. 0.]\n"
     ]
    },
    {
     "data": {
      "image/png": "[encoded data removed]",
      "text/plain": [
       "<Figure size 1152x864 with 16 Axes>"
      ]
     },
     "metadata": {
      "needs_background": "light",
      "tags": []
     },
     "output_type": "display_data"
    }
   ],
   "source": [
    "X_validation_batch0, y_validation_batch0 = validation_generator1.next()\n",
    "print(X_validation_batch0.shape, y_validation_batch0.shape)\n",
    "print(y_validation_batch0[0])\n",
    "plt.figure(figsize=(16,12))\n",
    "for i in range(1, 17):\n",
    "    plt.subplot(4,4,i)\n",
    "    imshow(tf.squeeze(X_validation_batch0[i]), cmap='gray')\n",
    "plt.show() "
   ]
  },
  {
   "cell_type": "markdown",
   "metadata": {
    "id": "KZ-GDd6rbZS6",
    "tags": []
   },
   "source": [
    "## Building the model"
   ]
  },
  {
   "cell_type": "markdown",
   "metadata": {
    "id": "pe0CSC_YheY3"
   },
   "source": [
    "### Experiment 1: Building the first model inspired from LeNet"
   ]
  },
  {
   "cell_type": "markdown",
   "metadata": {
    "id": "a4oHMOGxcU8a"
   },
   "source": [
    "I quickly build a first model, which inspired by the original LeNet, with slight modifications, to check how it performs and will then tune the hyperparameter accordingly. I also use dropouts with a probability of 0.4 for each Fully Connected Layer."
   ]
  },
  {
   "cell_type": "code",
   "execution_count": null,
   "metadata": {
    "execution": {
     "iopub.execute_input": "2021-04-08T15:30:53.074727Z",
     "iopub.status.busy": "2021-04-08T15:30:53.074022Z",
     "iopub.status.idle": "2021-04-08T15:30:53.340765Z",
     "shell.execute_reply": "2021-04-08T15:30:53.338649Z",
     "shell.execute_reply.started": "2021-04-08T15:30:53.074640Z"
    },
    "id": "aDEwHyU2bZS-",
    "tags": []
   },
   "outputs": [],
   "source": [
    "model1 = Sequential()\n",
    "\n",
    "# 1st Convolution Layer\n",
    "model1.add(Conv2D(6, input_shape=(*IMAGE_SIZE, 1), kernel_size=(5,5), padding='same', activation='relu'))\n",
    "model1.add(BatchNormalization())\n",
    "model1.add(MaxPooling2D(pool_size=(2,2), strides=2))\n",
    "\n",
    "# 2nd Convolution Layer\n",
    "model1.add(Conv2D(16, kernel_size=(5,5), activation='relu'))\n",
    "model1.add(BatchNormalization())\n",
    "model1.add(MaxPooling2D(pool_size=(2,2), strides=2))\n",
    "\n",
    "# Passing to a Fully Connected Layer\n",
    "model1.add(Flatten())\n",
    "\n",
    "# 1st Fully Connected Layer\n",
    "model1.add(Dense(256, activation='relu'))\n",
    "model1.add(BatchNormalization())\n",
    "model1.add(Dropout(0.4))\n",
    "\n",
    "# 2nd Fully Connected Layer\n",
    "model1.add(Dense(128, activation='relu'))\n",
    "model1.add(BatchNormalization())\n",
    "model1.add(Dropout(0.4))\n",
    "\n",
    "# Output Layer\n",
    "model1.add(Dense(62, activation='softmax'))"
   ]
  },
  {
   "cell_type": "code",
   "execution_count": null,
   "metadata": {
    "execution": {
     "iopub.execute_input": "2021-04-08T15:30:53.978303Z",
     "iopub.status.busy": "2021-04-08T15:30:53.977740Z",
     "iopub.status.idle": "2021-04-08T15:30:54.001260Z",
     "shell.execute_reply": "2021-04-08T15:30:53.999631Z",
     "shell.execute_reply.started": "2021-04-08T15:30:53.978213Z"
    },
    "id": "DN7gfiQLjnlc",
    "outputId": "873d65bc-3d15-48b6-da44-b9390b4ba628",
    "tags": []
   },
   "outputs": [
    {
     "name": "stdout",
     "output_type": "stream",
     "text": [
      "Model: \"sequential\"\n",
      "_________________________________________________________________\n",
      "Layer (type)                 Output Shape              Param #   \n",
      "=================================================================\n",
      "conv2d (Conv2D)              (None, 45, 60, 6)         156       \n",
      "_________________________________________________________________\n",
      "batch_normalization (BatchNo (None, 45, 60, 6)         24        \n",
      "_________________________________________________________________\n",
      "max_pooling2d (MaxPooling2D) (None, 22, 30, 6)         0         \n",
      "_________________________________________________________________\n",
      "conv2d_1 (Conv2D)            (None, 18, 26, 16)        2416      \n",
      "_________________________________________________________________\n",
      "batch_normalization_1 (Batch (None, 18, 26, 16)        64        \n",
      "_________________________________________________________________\n",
      "max_pooling2d_1 (MaxPooling2 (None, 9, 13, 16)         0         \n",
      "_________________________________________________________________\n",
      "flatten (Flatten)            (None, 1872)              0         \n",
      "_________________________________________________________________\n",
      "dense (Dense)                (None, 256)               479488    \n",
      "_________________________________________________________________\n",
      "batch_normalization_2 (Batch (None, 256)               1024      \n",
      "_________________________________________________________________\n",
      "dropout (Dropout)            (None, 256)               0         \n",
      "_________________________________________________________________\n",
      "dense_1 (Dense)              (None, 128)               32896     \n",
      "_________________________________________________________________\n",
      "batch_normalization_3 (Batch (None, 128)               512       \n",
      "_________________________________________________________________\n",
      "dropout_1 (Dropout)          (None, 128)               0         \n",
      "_________________________________________________________________\n",
      "dense_2 (Dense)              (None, 62)                7998      \n",
      "=================================================================\n",
      "Total params: 524,578\n",
      "Trainable params: 523,766\n",
      "Non-trainable params: 812\n",
      "_________________________________________________________________\n"
     ]
    }
   ],
   "source": [
    "model1.summary()"
   ]
  },
  {
   "cell_type": "code",
   "execution_count": null,
   "metadata": {
    "execution": {
     "iopub.execute_input": "2021-04-08T15:30:59.268936Z",
     "iopub.status.busy": "2021-04-08T15:30:59.268141Z",
     "iopub.status.idle": "2021-04-08T15:30:59.302256Z",
     "shell.execute_reply": "2021-04-08T15:30:59.300162Z",
     "shell.execute_reply.started": "2021-04-08T15:30:59.268843Z"
    },
    "id": "Zkq402VgUPzz",
    "tags": []
   },
   "outputs": [],
   "source": [
    "model1.compile(loss='categorical_crossentropy', optimizer=Adam(), metrics=['accuracy'])"
   ]
  },
  {
   "cell_type": "markdown",
   "metadata": {
    "id": "vzbx2hKnb7QR"
   },
   "source": [
    "Using Early Stopping"
   ]
  },
  {
   "cell_type": "code",
   "execution_count": 7,
   "metadata": {
    "execution": {
     "iopub.execute_input": "2021-04-08T15:31:09.780067Z",
     "iopub.status.busy": "2021-04-08T15:31:09.779371Z",
     "iopub.status.idle": "2021-04-08T15:31:09.787659Z",
     "shell.execute_reply": "2021-04-08T15:31:09.786068Z",
     "shell.execute_reply.started": "2021-04-08T15:31:09.779985Z"
    },
    "id": "0LBHpsBcb-El",
    "tags": []
   },
   "outputs": [],
   "source": [
    "early_stopping_callback = tf.keras.callbacks.EarlyStopping(\n",
    "    monitor='val_loss',\n",
    "    mode='min',\n",
    "    patience=20,\n",
    "    restore_best_weights=True,\n",
    "    verbose=1)"
   ]
  },
  {
   "cell_type": "markdown",
   "metadata": {
    "id": "CblrL1PKW_pe"
   },
   "source": [
    "Saving the checkpoint"
   ]
  },
  {
   "cell_type": "code",
   "execution_count": null,
   "metadata": {
    "execution": {
     "iopub.execute_input": "2021-04-08T15:31:12.702697Z",
     "iopub.status.busy": "2021-04-08T15:31:12.702208Z",
     "iopub.status.idle": "2021-04-08T15:31:12.711584Z",
     "shell.execute_reply": "2021-04-08T15:31:12.709331Z",
     "shell.execute_reply.started": "2021-04-08T15:31:12.702638Z"
    },
    "id": "Gzhxfc-KXCnj",
    "tags": []
   },
   "outputs": [],
   "source": [
    "checkpoint_filepath1 = 'exp1/checkpoint'\n",
    "model_checkpoint_callback1 = tf.keras.callbacks.ModelCheckpoint(\n",
    "    filepath=checkpoint_filepath1,\n",
    "    save_weights_only=True,\n",
    "    monitor='val_loss',\n",
    "    mode='min',\n",
    "    save_best_only=True)"
   ]
  },
  {
   "cell_type": "markdown",
   "metadata": {
    "id": "NEVpTxQfe70A"
   },
   "source": [
    "I train the model for 400 epochs and use early stopping with a patience level of 20 epochs in order to prevent model from overfitting and save the best weights of the mode."
   ]
  },
  {
   "cell_type": "code",
   "execution_count": null,
   "metadata": {
    "execution": {
     "iopub.status.busy": "2021-04-07T17:09:28.360821Z",
     "iopub.status.idle": "2021-04-07T17:09:28.361946Z",
     "shell.execute_reply": "2021-04-07T17:09:28.361349Z"
    },
    "id": "ZYT4aN5zUPz0",
    "outputId": "c6a5fd1b-9b8e-4180-b222-cee88887d953",
    "tags": []
   },
   "outputs": [
    {
     "name": "stdout",
     "output_type": "stream",
     "text": [
      "Epoch 1/400\n",
      "31/31 [==============================] - 43s 1s/step - loss: 4.7297 - accuracy: 0.0399 - val_loss: 4.1328 - val_accuracy: 0.0268\n",
      "Epoch 2/400\n",
      "31/31 [==============================] - 34s 1s/step - loss: 3.5383 - accuracy: 0.1537 - val_loss: 4.2610 - val_accuracy: 0.0179\n",
      "Epoch 3/400\n",
      "31/31 [==============================] - 35s 1s/step - loss: 2.9516 - accuracy: 0.2491 - val_loss: 4.5346 - val_accuracy: 0.0179\n",
      "Epoch 4/400\n",
      "31/31 [==============================] - 35s 1s/step - loss: 2.4749 - accuracy: 0.3632 - val_loss: 4.8323 - val_accuracy: 0.0179\n",
      "Epoch 5/400\n",
      "31/31 [==============================] - 34s 1s/step - loss: 2.1175 - accuracy: 0.4701 - val_loss: 5.0776 - val_accuracy: 0.0179\n",
      "Epoch 6/400\n",
      "31/31 [==============================] - 34s 1s/step - loss: 1.8282 - accuracy: 0.5311 - val_loss: 5.4448 - val_accuracy: 0.0179\n",
      "Epoch 7/400\n",
      "31/31 [==============================] - 34s 1s/step - loss: 1.6815 - accuracy: 0.5558 - val_loss: 5.6547 - val_accuracy: 0.0156\n",
      "Epoch 8/400\n",
      "31/31 [==============================] - 34s 1s/step - loss: 1.3730 - accuracy: 0.6490 - val_loss: 5.9653 - val_accuracy: 0.0201\n",
      "Epoch 9/400\n",
      "31/31 [==============================] - 34s 1s/step - loss: 1.2582 - accuracy: 0.6807 - val_loss: 6.1347 - val_accuracy: 0.0201\n",
      "Epoch 10/400\n",
      "31/31 [==============================] - 34s 1s/step - loss: 1.0790 - accuracy: 0.7250 - val_loss: 6.0689 - val_accuracy: 0.0201\n",
      "Epoch 11/400\n",
      "31/31 [==============================] - 34s 1s/step - loss: 0.9504 - accuracy: 0.7733 - val_loss: 5.8072 - val_accuracy: 0.0246\n",
      "Epoch 12/400\n",
      "31/31 [==============================] - 34s 1s/step - loss: 0.8048 - accuracy: 0.8265 - val_loss: 5.8509 - val_accuracy: 0.0201\n",
      "Epoch 13/400\n",
      "31/31 [==============================] - 34s 1s/step - loss: 0.7183 - accuracy: 0.8360 - val_loss: 5.5358 - val_accuracy: 0.0268\n",
      "Epoch 14/400\n",
      "31/31 [==============================] - 34s 1s/step - loss: 0.6578 - accuracy: 0.8456 - val_loss: 5.2758 - val_accuracy: 0.0379\n",
      "Epoch 15/400\n",
      "31/31 [==============================] - 34s 1s/step - loss: 0.5658 - accuracy: 0.8655 - val_loss: 4.6730 - val_accuracy: 0.0714\n",
      "Epoch 16/400\n",
      "31/31 [==============================] - 34s 1s/step - loss: 0.4676 - accuracy: 0.8971 - val_loss: 3.8975 - val_accuracy: 0.1496\n",
      "Epoch 17/400\n",
      "31/31 [==============================] - 34s 1s/step - loss: 0.4240 - accuracy: 0.9136 - val_loss: 3.4903 - val_accuracy: 0.2232\n",
      "Epoch 18/400\n",
      "31/31 [==============================] - 34s 1s/step - loss: 0.3808 - accuracy: 0.9151 - val_loss: 3.5444 - val_accuracy: 0.2589\n",
      "Epoch 19/400\n",
      "31/31 [==============================] - 35s 1s/step - loss: 0.3431 - accuracy: 0.9351 - val_loss: 2.6495 - val_accuracy: 0.3683\n",
      "Epoch 20/400\n",
      "31/31 [==============================] - 34s 1s/step - loss: 0.3319 - accuracy: 0.9314 - val_loss: 2.2859 - val_accuracy: 0.4152\n",
      "Epoch 21/400\n",
      "31/31 [==============================] - 34s 1s/step - loss: 0.3103 - accuracy: 0.9346 - val_loss: 2.2489 - val_accuracy: 0.4643\n",
      "Epoch 22/400\n",
      "31/31 [==============================] - 34s 1s/step - loss: 0.2913 - accuracy: 0.9393 - val_loss: 2.0367 - val_accuracy: 0.4978\n",
      "Epoch 23/400\n",
      "31/31 [==============================] - 34s 1s/step - loss: 0.2471 - accuracy: 0.9489 - val_loss: 1.9282 - val_accuracy: 0.5223\n",
      "Epoch 24/400\n",
      "31/31 [==============================] - 34s 1s/step - loss: 0.2128 - accuracy: 0.9565 - val_loss: 1.7473 - val_accuracy: 0.5692\n",
      "Epoch 25/400\n",
      "31/31 [==============================] - 34s 1s/step - loss: 0.2219 - accuracy: 0.9592 - val_loss: 2.0040 - val_accuracy: 0.5335\n",
      "Epoch 26/400\n",
      "31/31 [==============================] - 34s 1s/step - loss: 0.1746 - accuracy: 0.9658 - val_loss: 1.7587 - val_accuracy: 0.5424\n",
      "Epoch 27/400\n",
      "31/31 [==============================] - 34s 1s/step - loss: 0.1728 - accuracy: 0.9705 - val_loss: 1.6786 - val_accuracy: 0.5469\n",
      "Epoch 28/400\n",
      "31/31 [==============================] - 34s 1s/step - loss: 0.1582 - accuracy: 0.9673 - val_loss: 1.7511 - val_accuracy: 0.5580\n",
      "Epoch 29/400\n",
      "31/31 [==============================] - 34s 1s/step - loss: 0.1567 - accuracy: 0.9695 - val_loss: 1.7618 - val_accuracy: 0.5781\n",
      "Epoch 30/400\n",
      "31/31 [==============================] - 34s 1s/step - loss: 0.1358 - accuracy: 0.9740 - val_loss: 1.7916 - val_accuracy: 0.5580\n",
      "Epoch 31/400\n",
      "31/31 [==============================] - 35s 1s/step - loss: 0.1129 - accuracy: 0.9795 - val_loss: 1.7857 - val_accuracy: 0.5558\n",
      "Epoch 32/400\n",
      "31/31 [==============================] - 34s 1s/step - loss: 0.1104 - accuracy: 0.9858 - val_loss: 1.7867 - val_accuracy: 0.5647\n",
      "Epoch 33/400\n",
      "31/31 [==============================] - 34s 1s/step - loss: 0.1180 - accuracy: 0.9760 - val_loss: 1.7575 - val_accuracy: 0.5536\n",
      "Epoch 34/400\n",
      "31/31 [==============================] - 34s 1s/step - loss: 0.1020 - accuracy: 0.9823 - val_loss: 1.6768 - val_accuracy: 0.5781\n",
      "Epoch 35/400\n",
      "31/31 [==============================] - 34s 1s/step - loss: 0.1037 - accuracy: 0.9852 - val_loss: 1.8017 - val_accuracy: 0.5625\n",
      "Epoch 36/400\n",
      "31/31 [==============================] - 34s 1s/step - loss: 0.0904 - accuracy: 0.9817 - val_loss: 1.7548 - val_accuracy: 0.5670\n",
      "Epoch 37/400\n",
      "31/31 [==============================] - 34s 1s/step - loss: 0.0850 - accuracy: 0.9863 - val_loss: 1.7734 - val_accuracy: 0.5558\n",
      "Epoch 38/400\n",
      "31/31 [==============================] - 34s 1s/step - loss: 0.0803 - accuracy: 0.9871 - val_loss: 1.7862 - val_accuracy: 0.5580\n",
      "Epoch 39/400\n",
      "31/31 [==============================] - 34s 1s/step - loss: 0.0766 - accuracy: 0.9893 - val_loss: 1.7373 - val_accuracy: 0.5804\n",
      "Epoch 40/400\n",
      "31/31 [==============================] - 34s 1s/step - loss: 0.0851 - accuracy: 0.9844 - val_loss: 1.8073 - val_accuracy: 0.5804\n",
      "Epoch 41/400\n",
      "31/31 [==============================] - 34s 1s/step - loss: 0.0808 - accuracy: 0.9867 - val_loss: 1.7614 - val_accuracy: 0.5804\n",
      "Epoch 42/400\n",
      "31/31 [==============================] - 34s 1s/step - loss: 0.0896 - accuracy: 0.9763 - val_loss: 1.8213 - val_accuracy: 0.5670\n",
      "Epoch 43/400\n",
      "31/31 [==============================] - 34s 1s/step - loss: 0.0644 - accuracy: 0.9921 - val_loss: 1.7591 - val_accuracy: 0.5759\n",
      "Epoch 44/400\n",
      "31/31 [==============================] - 34s 1s/step - loss: 0.0647 - accuracy: 0.9889 - val_loss: 1.9004 - val_accuracy: 0.5781\n",
      "Epoch 45/400\n",
      "31/31 [==============================] - 34s 1s/step - loss: 0.0744 - accuracy: 0.9847 - val_loss: 1.8357 - val_accuracy: 0.5603\n",
      "Epoch 46/400\n",
      "31/31 [==============================] - 34s 1s/step - loss: 0.0603 - accuracy: 0.9899 - val_loss: 2.3372 - val_accuracy: 0.5201\n",
      "Epoch 47/400\n",
      "31/31 [==============================] - 34s 1s/step - loss: 0.0596 - accuracy: 0.9920 - val_loss: 1.8935 - val_accuracy: 0.5625\n",
      "Epoch 48/400\n",
      "31/31 [==============================] - 34s 1s/step - loss: 0.0561 - accuracy: 0.9887 - val_loss: 1.9065 - val_accuracy: 0.5603\n",
      "Epoch 49/400\n",
      "31/31 [==============================] - 34s 1s/step - loss: 0.0620 - accuracy: 0.9896 - val_loss: 1.8022 - val_accuracy: 0.5714\n",
      "Epoch 50/400\n",
      "31/31 [==============================] - 34s 1s/step - loss: 0.0662 - accuracy: 0.9922 - val_loss: 1.9641 - val_accuracy: 0.5558\n",
      "Epoch 51/400\n",
      "31/31 [==============================] - 34s 1s/step - loss: 0.0629 - accuracy: 0.9847 - val_loss: 1.8878 - val_accuracy: 0.5670\n",
      "Epoch 52/400\n",
      "31/31 [==============================] - 34s 1s/step - loss: 0.0588 - accuracy: 0.9910 - val_loss: 1.8750 - val_accuracy: 0.5848\n",
      "Epoch 53/400\n",
      "31/31 [==============================] - 34s 1s/step - loss: 0.0488 - accuracy: 0.9928 - val_loss: 1.9083 - val_accuracy: 0.5625\n",
      "Epoch 54/400\n",
      "31/31 [==============================] - 34s 1s/step - loss: 0.0613 - accuracy: 0.9827 - val_loss: 1.8758 - val_accuracy: 0.5759\n",
      "Restoring model weights from the end of the best epoch.\n",
      "Epoch 00054: early stopping\n"
     ]
    }
   ],
   "source": [
    "history1 = model1.fit(\n",
    "    train_generator1,\n",
    "    epochs=EPOCHS,\n",
    "    validation_data=validation_generator1,\n",
    "    steps_per_epoch = train_generator1.samples // BATCH_SIZE,\n",
    "    validation_steps = validation_generator1.samples // BATCH_SIZE,\n",
    "    callbacks=[model_checkpoint_callback1, early_stopping_callback]\n",
    ")"
   ]
  },
  {
   "cell_type": "code",
   "execution_count": null,
   "metadata": {
    "id": "j3OK3o8QVqjo",
    "outputId": "520f69f7-3a6f-49da-b32d-7e42785defc8"
   },
   "outputs": [
    {
     "data": {
      "image/png": "[encoded data removed]",
      "text/plain": [
       "<Figure size 432x288 with 1 Axes>"
      ]
     },
     "metadata": {
      "needs_background": "light",
      "tags": []
     },
     "output_type": "display_data"
    }
   ],
   "source": [
    "plt.plot(history1.history['accuracy'])\n",
    "plt.plot(history1.history['val_accuracy'])\n",
    "plt.title('model accuracy')\n",
    "plt.ylabel('accuracy')\n",
    "plt.xlabel('epoch')\n",
    "plt.legend(['training', 'validation'], loc='best')\n",
    "plt.show()"
   ]
  },
  {
   "cell_type": "code",
   "execution_count": null,
   "metadata": {
    "id": "pSbfDFywV49i",
    "outputId": "244aad42-3834-4ca0-d664-1cde9d291c3b"
   },
   "outputs": [
    {
     "data": {
      "image/png": "[encoded data removed]",
      "text/plain": [
       "<Figure size 432x288 with 1 Axes>"
      ]
     },
     "metadata": {
      "needs_background": "light",
      "tags": []
     },
     "output_type": "display_data"
    }
   ],
   "source": [
    "plt.plot(history1.history['loss'])\n",
    "plt.plot(history1.history['val_loss'])\n",
    "plt.title('model loss')\n",
    "plt.ylabel('loss')\n",
    "plt.xlabel('epoch')\n",
    "plt.legend(['training', 'validation'], loc='best')\n",
    "plt.show()"
   ]
  },
  {
   "cell_type": "markdown",
   "metadata": {
    "id": "vzIJAwe6gSpe"
   },
   "source": [
    "The model performs well on the training set but goes not generalizes well on the validation set. The model is overfitting on the training data.\n",
    "\n",
    "One reason for the overfitting can be that there's not enough training data. For this part of the task, this cannot be improved upon. So, I'll try other ways to reduce overfitting:\n",
    "- Data Augmentation\n",
    "- Regularizarion\n",
    "- Using different activation function\n",
    "- Changing the model architecture"
   ]
  },
  {
   "cell_type": "markdown",
   "metadata": {
    "id": "AZ-paVhlhh8T"
   },
   "source": [
    "### Experiment 2: Augmenting training data"
   ]
  },
  {
   "cell_type": "markdown",
   "metadata": {
    "id": "9HHytQDzkTVt"
   },
   "source": [
    "I augment the data by randomly shearing it by a range of 0.1 and rotating it by a range of 0.5 degrees. \n",
    "\n",
    "So, these augmentation methods should help generalize better on unseen images."
   ]
  },
  {
   "cell_type": "markdown",
   "metadata": {
    "id": "9jASSYR6e70J"
   },
   "source": [
    "#### **Sidenote**: On using other data augmentation techniques"
   ]
  },
  {
   "cell_type": "markdown",
   "metadata": {
    "id": "X2pga7Xbe70K"
   },
   "source": [
    "I tried other parameters tool, like horizontal and vertical shifts but, they blurred the images and the training set and they didn't really looked like the validation samples anymore (I also tested them for a small epoch and they were actually giving worse results than the first experiment). I'll show some samples to see why I did not augment much on these images, before going forward with the model building."
   ]
  },
  {
   "cell_type": "markdown",
   "metadata": {
    "id": "Xf7ba4cye70M"
   },
   "source": [
    "##### Unaugmented data"
   ]
  },
  {
   "cell_type": "code",
   "execution_count": null,
   "metadata": {
    "execution": {
     "iopub.execute_input": "2021-04-09T11:17:36.979353Z",
     "iopub.status.busy": "2021-04-09T11:17:36.978777Z",
     "iopub.status.idle": "2021-04-09T11:17:43.300680Z",
     "shell.execute_reply": "2021-04-09T11:17:43.299100Z",
     "shell.execute_reply.started": "2021-04-09T11:17:36.979287Z"
    },
    "id": "W-YpE1uve70M",
    "outputId": "01ad8408-c305-4beb-d53b-101a5bd7c6e3"
   },
   "outputs": [
    {
     "name": "stdout",
     "output_type": "stream",
     "text": [
      "Found 2480 images belonging to 62 classes.\n"
     ]
    },
    {
     "data": {
      "image/png": "[encoded data removed]",
      "text/plain": [
       "<Figure size 1152x864 with 16 Axes>"
      ]
     },
     "metadata": {
      "needs_background": "light",
      "tags": []
     },
     "output_type": "display_data"
    }
   ],
   "source": [
    "no_augmentation = ImageDataGenerator(rescale=1./255)\n",
    "\n",
    "no_augmentation_gen = no_augmentation.flow_from_directory(\n",
    "        '../input/trainpart1zip/train',\n",
    "        target_size=IMAGE_SIZE,\n",
    "        batch_size=BATCH_SIZE,\n",
    "        class_mode='categorical',\n",
    "        color_mode='grayscale',\n",
    "        seed=42,\n",
    "        shuffle=True)\n",
    "\n",
    "X_no_aug, _ = no_augmentation_gen.next()\n",
    "plt.figure(figsize=(16,12))\n",
    "for i in range(1, 17):\n",
    "    plt.subplot(4,4,i)\n",
    "    imshow(tf.squeeze(X_no_aug[i]), cmap='gray')\n",
    "plt.show() "
   ]
  },
  {
   "cell_type": "markdown",
   "metadata": {
    "id": "tKuY52X2e70Q"
   },
   "source": [
    "##### Checking rotation with max angle of 15"
   ]
  },
  {
   "cell_type": "code",
   "execution_count": null,
   "metadata": {
    "execution": {
     "iopub.execute_input": "2021-04-09T10:47:07.682194Z",
     "iopub.status.busy": "2021-04-09T10:47:07.681700Z",
     "iopub.status.idle": "2021-04-09T10:47:13.893020Z",
     "shell.execute_reply": "2021-04-09T10:47:13.891287Z",
     "shell.execute_reply.started": "2021-04-09T10:47:07.682136Z"
    },
    "id": "_gkLE6n1e70R",
    "outputId": "dda4dcfc-5cba-4565-ea9e-7e7b0df78771"
   },
   "outputs": [
    {
     "name": "stdout",
     "output_type": "stream",
     "text": [
      "Found 2480 images belonging to 62 classes.\n"
     ]
    },
    {
     "data": {
      "image/png": "[encoded data removed]",
      "text/plain": [
       "<Figure size 1152x864 with 16 Axes>"
      ]
     },
     "metadata": {
      "needs_background": "light",
      "tags": []
     },
     "output_type": "display_data"
    }
   ],
   "source": [
    "augmentation_test_rotation = ImageDataGenerator(rescale=1./255, rotation_range=15)\n",
    "\n",
    "augmentation_test_rotation_gen = augmentation_test_rotation.flow_from_directory(\n",
    "        '../input/trainpart1zip/train',\n",
    "        target_size=IMAGE_SIZE,\n",
    "        batch_size=BATCH_SIZE,\n",
    "        class_mode='categorical',\n",
    "        color_mode='grayscale',\n",
    "        seed=42,\n",
    "        shuffle=True)\n",
    "\n",
    "X_aug_rot, _ = augmentation_test_rotation_gen.next()\n",
    "plt.figure(figsize=(16,12))\n",
    "for i in range(1, 17):\n",
    "    plt.subplot(4,4,i)\n",
    "    imshow(tf.squeeze(X_aug_rot[i]), cmap='gray')\n",
    "plt.show() "
   ]
  },
  {
   "cell_type": "markdown",
   "metadata": {
    "id": "EVc_ztJCe70T"
   },
   "source": [
    "##### Checking shear with max shear of 0.3"
   ]
  },
  {
   "cell_type": "code",
   "execution_count": null,
   "metadata": {
    "execution": {
     "iopub.execute_input": "2021-04-09T11:18:45.601901Z",
     "iopub.status.busy": "2021-04-09T11:18:45.601398Z",
     "iopub.status.idle": "2021-04-09T11:18:52.721302Z",
     "shell.execute_reply": "2021-04-09T11:18:52.710582Z",
     "shell.execute_reply.started": "2021-04-09T11:18:45.601844Z"
    },
    "id": "dZIwjiI0e70U",
    "outputId": "9c72f9c5-db2c-49ca-a0b3-fdbf135c6e92",
    "tags": []
   },
   "outputs": [
    {
     "name": "stdout",
     "output_type": "stream",
     "text": [
      "Found 2480 images belonging to 62 classes.\n"
     ]
    },
    {
     "data": {
      "image/png": "[encoded data removed]",
      "text/plain": [
       "<Figure size 1152x864 with 16 Axes>"
      ]
     },
     "metadata": {
      "needs_background": "light",
      "tags": []
     },
     "output_type": "display_data"
    }
   ],
   "source": [
    "augmentation_test_shear = ImageDataGenerator(rescale=1./255, shear_range=0.3)\n",
    "\n",
    "augmentation_test_shear_gen = augmentation_test_shear.flow_from_directory(\n",
    "        '../input/trainpart1zip/train',\n",
    "        target_size=IMAGE_SIZE,\n",
    "        batch_size=BATCH_SIZE,\n",
    "        class_mode='categorical',\n",
    "        color_mode='grayscale',\n",
    "        seed=42,\n",
    "        shuffle=True)\n",
    "\n",
    "X_aug_shear, _ = augmentation_test_shear_gen.next()\n",
    "plt.figure(figsize=(16,12))\n",
    "for i in range(1, 17):\n",
    "    plt.subplot(4,4,i)\n",
    "    imshow(tf.squeeze(X_aug_shear[i]), cmap='gray')\n",
    "plt.show() "
   ]
  },
  {
   "cell_type": "markdown",
   "metadata": {
    "id": "83t6wgQ3e70W"
   },
   "source": [
    "##### Checking zoom with max zoom of 0.2"
   ]
  },
  {
   "cell_type": "code",
   "execution_count": null,
   "metadata": {
    "execution": {
     "iopub.execute_input": "2021-04-09T11:19:52.132525Z",
     "iopub.status.busy": "2021-04-09T11:19:52.132023Z",
     "iopub.status.idle": "2021-04-09T11:19:58.692868Z",
     "shell.execute_reply": "2021-04-09T11:19:58.690871Z",
     "shell.execute_reply.started": "2021-04-09T11:19:52.132465Z"
    },
    "id": "nrYlRGHVe70X",
    "outputId": "a121d743-9b5c-4e08-91e7-183305124238"
   },
   "outputs": [
    {
     "name": "stdout",
     "output_type": "stream",
     "text": [
      "Found 2480 images belonging to 62 classes.\n"
     ]
    },
    {
     "data": {
      "image/png": "[encoded data removed]",
      "text/plain": [
       "<Figure size 1152x864 with 16 Axes>"
      ]
     },
     "metadata": {
      "needs_background": "light",
      "tags": []
     },
     "output_type": "display_data"
    }
   ],
   "source": [
    "augmentation_test_zoom = ImageDataGenerator(rescale=1./255, zoom_range=0.2)\n",
    "\n",
    "augmentation_test_zoom_gen = augmentation_test_zoom.flow_from_directory(\n",
    "        '../input/trainpart1zip/train',\n",
    "        target_size=IMAGE_SIZE,\n",
    "        batch_size=BATCH_SIZE,\n",
    "        class_mode='categorical',\n",
    "        color_mode='grayscale',\n",
    "        seed=42,\n",
    "        shuffle=True)\n",
    "\n",
    "X_aug_zoom, _ = augmentation_test_zoom_gen.next()\n",
    "plt.figure(figsize=(16,12))\n",
    "for i in range(1, 17):\n",
    "    plt.subplot(4,4,i)\n",
    "    imshow(tf.squeeze(X_aug_zoom[i]), cmap='gray')\n",
    "plt.show() "
   ]
  },
  {
   "cell_type": "markdown",
   "metadata": {
    "id": "wvTMpyU3e70Y"
   },
   "source": [
    "##### Checking with horizontal and vertical shift of 0.2"
   ]
  },
  {
   "cell_type": "code",
   "execution_count": null,
   "metadata": {
    "execution": {
     "iopub.execute_input": "2021-04-09T11:22:35.407851Z",
     "iopub.status.busy": "2021-04-09T11:22:35.407326Z",
     "iopub.status.idle": "2021-04-09T11:22:41.592346Z",
     "shell.execute_reply": "2021-04-09T11:22:41.590842Z",
     "shell.execute_reply.started": "2021-04-09T11:22:35.407790Z"
    },
    "id": "HLw8TN2ze70Z",
    "outputId": "8184ea89-52de-45f3-bbb9-9f3587300599",
    "tags": []
   },
   "outputs": [
    {
     "name": "stdout",
     "output_type": "stream",
     "text": [
      "Found 2480 images belonging to 62 classes.\n"
     ]
    },
    {
     "data": {
      "image/png": "[encoded data removed]",
      "text/plain": [
       "<Figure size 1152x864 with 16 Axes>"
      ]
     },
     "metadata": {
      "needs_background": "light",
      "tags": []
     },
     "output_type": "display_data"
    }
   ],
   "source": [
    "augmentation_test_shift = ImageDataGenerator(rescale=1./255, width_shift_range=0.2, height_shift_range=0.2)\n",
    "\n",
    "augmentation_test_shift_gen = augmentation_test_shift.flow_from_directory(\n",
    "        '../input/trainpart1zip/train',\n",
    "        target_size=IMAGE_SIZE,\n",
    "        batch_size=BATCH_SIZE,\n",
    "        class_mode='categorical',\n",
    "        color_mode='grayscale',\n",
    "        seed=42,\n",
    "        shuffle=True)\n",
    "\n",
    "X_aug_shift, _ = augmentation_test_shift_gen.next()\n",
    "plt.figure(figsize=(16,12))\n",
    "for i in range(1, 17):\n",
    "    plt.subplot(4,4,i)\n",
    "    imshow(tf.squeeze(X_aug_shift[i]), cmap='gray')\n",
    "plt.show() "
   ]
  },
  {
   "cell_type": "markdown",
   "metadata": {
    "id": "g2tnZNBfe70b"
   },
   "source": [
    "#### Conclusion: On what augmentation to choose"
   ]
  },
  {
   "cell_type": "markdown",
   "metadata": {
    "id": "g2ZxtJ1Ye70c"
   },
   "source": [
    "These augmentations don't turn out very well. They look very different form the training data. I think the closest is the shear, but there's no noticeable effect that I can see from the naked eye. I think I'll still go on with a little of shear and a little of rotation and see how the model performs."
   ]
  },
  {
   "cell_type": "code",
   "execution_count": null,
   "metadata": {
    "execution": {
     "iopub.execute_input": "2021-04-09T10:43:35.481797Z",
     "iopub.status.busy": "2021-04-09T10:43:35.481288Z",
     "iopub.status.idle": "2021-04-09T10:43:35.490397Z",
     "shell.execute_reply": "2021-04-09T10:43:35.488524Z",
     "shell.execute_reply.started": "2021-04-09T10:43:35.481736Z"
    },
    "id": "Ak3ZzghphkA_",
    "tags": []
   },
   "outputs": [],
   "source": [
    "train_datagen2 = ImageDataGenerator(\n",
    "    rescale=1./255,\n",
    "    validation_split=0.2,\n",
    "    shear_range=0.1,\n",
    "    rotation_range=0.5)\n",
    "\n",
    "validation_datagen2 = ImageDataGenerator(\n",
    "    rescale=1./255,\n",
    "    validation_split=0.2)"
   ]
  },
  {
   "cell_type": "code",
   "execution_count": null,
   "metadata": {
    "execution": {
     "iopub.execute_input": "2021-04-09T10:44:11.703958Z",
     "iopub.status.busy": "2021-04-09T10:44:11.703462Z",
     "iopub.status.idle": "2021-04-09T10:44:11.962167Z",
     "shell.execute_reply": "2021-04-09T10:44:11.959515Z",
     "shell.execute_reply.started": "2021-04-09T10:44:11.703899Z"
    },
    "id": "1btLkiz7kai6",
    "outputId": "40b20dd6-247c-403f-b8da-cd9c3e7d06d2",
    "tags": []
   },
   "outputs": [
    {
     "name": "stdout",
     "output_type": "stream",
     "text": [
      "Found 1984 images belonging to 62 classes.\n"
     ]
    }
   ],
   "source": [
    "train_generator2 = train_datagen2.flow_from_directory(\n",
    "        '../input/trainpart1zip/train',\n",
    "        target_size=IMAGE_SIZE,\n",
    "        batch_size=BATCH_SIZE,\n",
    "        class_mode='categorical',\n",
    "        color_mode='grayscale',\n",
    "        subset='training',\n",
    "        seed=42,\n",
    "        shuffle=True)"
   ]
  },
  {
   "cell_type": "code",
   "execution_count": null,
   "metadata": {
    "execution": {
     "iopub.execute_input": "2021-04-09T10:38:16.910054Z",
     "iopub.status.busy": "2021-04-09T10:38:16.909524Z",
     "iopub.status.idle": "2021-04-09T10:38:17.049048Z",
     "shell.execute_reply": "2021-04-09T10:38:17.047107Z",
     "shell.execute_reply.started": "2021-04-09T10:38:16.909994Z"
    },
    "id": "j1hnbhUEkiYA",
    "outputId": "4ef4c627-5e43-4463-f3b1-ecc6c3988690",
    "tags": []
   },
   "outputs": [
    {
     "name": "stdout",
     "output_type": "stream",
     "text": [
      "Found 496 images belonging to 62 classes.\n"
     ]
    }
   ],
   "source": [
    "validation_generator2 = validation_datagen2.flow_from_directory(\n",
    "        '../input/trainpart1zip/train',\n",
    "        target_size=IMAGE_SIZE,\n",
    "        batch_size=BATCH_SIZE,\n",
    "        class_mode='categorical',\n",
    "        color_mode='grayscale',\n",
    "        subset='validation',\n",
    "        seed=42,\n",
    "        shuffle=True)"
   ]
  },
  {
   "cell_type": "markdown",
   "metadata": {
    "id": "eooK5ZTGP4_v"
   },
   "source": [
    "Viewing the Generated samples"
   ]
  },
  {
   "cell_type": "code",
   "execution_count": null,
   "metadata": {
    "execution": {
     "iopub.execute_input": "2021-04-09T10:38:20.833169Z",
     "iopub.status.busy": "2021-04-09T10:38:20.832653Z",
     "iopub.status.idle": "2021-04-09T10:38:27.671791Z",
     "shell.execute_reply": "2021-04-09T10:38:27.670151Z",
     "shell.execute_reply.started": "2021-04-09T10:38:20.833111Z"
    },
    "id": "f3pRGM1GP4_w",
    "outputId": "4d1cb486-093e-4e24-849b-8c2fcd446ee6"
   },
   "outputs": [
    {
     "name": "stdout",
     "output_type": "stream",
     "text": [
      "(64, 45, 60, 1) (64, 62)\n"
     ]
    },
    {
     "data": {
      "image/png": "[encoded data removed]",
      "text/plain": [
       "<Figure size 1152x864 with 16 Axes>"
      ]
     },
     "metadata": {
      "needs_background": "light",
      "tags": []
     },
     "output_type": "display_data"
    }
   ],
   "source": [
    "X_train_batch0, y_train_batch0 = train_generator2.next()\n",
    "print(X_train_batch0.shape, y_train_batch0.shape)\n",
    "plt.figure(figsize=(16,12))\n",
    "for i in range(1, 17):\n",
    "    plt.subplot(4,4,i)\n",
    "    imshow(tf.squeeze(X_train_batch0[i]), cmap='gray')\n",
    "plt.show() "
   ]
  },
  {
   "cell_type": "code",
   "execution_count": null,
   "metadata": {
    "execution": {
     "iopub.execute_input": "2021-04-09T10:38:27.674751Z",
     "iopub.status.busy": "2021-04-09T10:38:27.674241Z",
     "iopub.status.idle": "2021-04-09T10:38:33.946133Z",
     "shell.execute_reply": "2021-04-09T10:38:33.944541Z",
     "shell.execute_reply.started": "2021-04-09T10:38:27.674694Z"
    },
    "id": "HSI-Ag85P4_x",
    "outputId": "fb9ea314-5cd4-49d8-edba-34d05bbb85a5"
   },
   "outputs": [
    {
     "name": "stdout",
     "output_type": "stream",
     "text": [
      "(64, 45, 60, 1) (64, 62)\n"
     ]
    },
    {
     "data": {
      "image/png": "[encoded data removed]",
      "text/plain": [
       "<Figure size 1152x864 with 16 Axes>"
      ]
     },
     "metadata": {
      "needs_background": "light",
      "tags": []
     },
     "output_type": "display_data"
    }
   ],
   "source": [
    "X_validation_batch0, y_validation_batch0 = validation_generator2.next()\n",
    "print(X_validation_batch0.shape, y_validation_batch0.shape)\n",
    "plt.figure(figsize=(16,12))\n",
    "for i in range(1, 17):\n",
    "    plt.subplot(4,4,i)\n",
    "    imshow(tf.squeeze(X_validation_batch0[i]), cmap='gray')\n",
    "plt.show() "
   ]
  },
  {
   "cell_type": "markdown",
   "metadata": {
    "id": "Yo7wEg5iIJRf"
   },
   "source": [
    "Using the same architecture as before"
   ]
  },
  {
   "cell_type": "code",
   "execution_count": null,
   "metadata": {
    "execution": {
     "iopub.execute_input": "2021-04-08T15:32:06.542343Z",
     "iopub.status.busy": "2021-04-08T15:32:06.541838Z",
     "iopub.status.idle": "2021-04-08T15:32:06.638516Z",
     "shell.execute_reply": "2021-04-08T15:32:06.635526Z",
     "shell.execute_reply.started": "2021-04-08T15:32:06.542281Z"
    },
    "id": "7Rl8qh5nIJRf",
    "tags": []
   },
   "outputs": [],
   "source": [
    "model2 = Sequential()\n",
    "\n",
    "# 1st Convolution Layer\n",
    "model2.add(Conv2D(6, input_shape=(*IMAGE_SIZE, 1), kernel_size=(5,5), padding='same', activation='relu'))\n",
    "model2.add(BatchNormalization())\n",
    "model2.add(MaxPooling2D(pool_size=(2,2), strides=2))\n",
    "\n",
    "# 2nd Convolution Layer\n",
    "model2.add(Conv2D(16, kernel_size=(5,5), activation='relu'))\n",
    "model2.add(BatchNormalization())\n",
    "model2.add(MaxPooling2D(pool_size=(2,2), strides=2))\n",
    "\n",
    "# Passing to a Fully Connected Layer\n",
    "model2.add(Flatten())\n",
    "\n",
    "# 1st Fully Connected Layer\n",
    "model2.add(Dense(256, activation='relu'))\n",
    "model2.add(BatchNormalization())\n",
    "model2.add(Dropout(0.4))\n",
    "\n",
    "# 2nd Fully Connected Layer\n",
    "model2.add(Dense(128, activation='relu'))\n",
    "model2.add(BatchNormalization())\n",
    "model2.add(Dropout(0.4))\n",
    "\n",
    "# Output Layer\n",
    "model2.add(Dense(62, activation='softmax'))"
   ]
  },
  {
   "cell_type": "code",
   "execution_count": null,
   "metadata": {
    "execution": {
     "iopub.execute_input": "2021-04-08T11:00:38.387108Z",
     "iopub.status.busy": "2021-04-08T11:00:38.386602Z",
     "iopub.status.idle": "2021-04-08T11:00:38.409904Z",
     "shell.execute_reply": "2021-04-08T11:00:38.408220Z",
     "shell.execute_reply.started": "2021-04-08T11:00:38.387047Z"
    },
    "id": "VA5tacfrIJRh",
    "outputId": "cd0698c5-b20c-4c54-a883-91d22a1eaaf4",
    "tags": []
   },
   "outputs": [
    {
     "name": "stdout",
     "output_type": "stream",
     "text": [
      "Model: \"sequential_2\"\n",
      "_________________________________________________________________\n",
      "Layer (type)                 Output Shape              Param #   \n",
      "=================================================================\n",
      "conv2d_4 (Conv2D)            (None, 45, 60, 6)         156       \n",
      "_________________________________________________________________\n",
      "batch_normalization_8 (Batch (None, 45, 60, 6)         24        \n",
      "_________________________________________________________________\n",
      "max_pooling2d_4 (MaxPooling2 (None, 22, 30, 6)         0         \n",
      "_________________________________________________________________\n",
      "conv2d_5 (Conv2D)            (None, 18, 26, 16)        2416      \n",
      "_________________________________________________________________\n",
      "batch_normalization_9 (Batch (None, 18, 26, 16)        64        \n",
      "_________________________________________________________________\n",
      "max_pooling2d_5 (MaxPooling2 (None, 9, 13, 16)         0         \n",
      "_________________________________________________________________\n",
      "flatten_2 (Flatten)          (None, 1872)              0         \n",
      "_________________________________________________________________\n",
      "dense_6 (Dense)              (None, 256)               479488    \n",
      "_________________________________________________________________\n",
      "batch_normalization_10 (Batc (None, 256)               1024      \n",
      "_________________________________________________________________\n",
      "dropout_4 (Dropout)          (None, 256)               0         \n",
      "_________________________________________________________________\n",
      "dense_7 (Dense)              (None, 128)               32896     \n",
      "_________________________________________________________________\n",
      "batch_normalization_11 (Batc (None, 128)               512       \n",
      "_________________________________________________________________\n",
      "dropout_5 (Dropout)          (None, 128)               0         \n",
      "_________________________________________________________________\n",
      "dense_8 (Dense)              (None, 62)                7998      \n",
      "=================================================================\n",
      "Total params: 524,578\n",
      "Trainable params: 523,766\n",
      "Non-trainable params: 812\n",
      "_________________________________________________________________\n"
     ]
    }
   ],
   "source": [
    "model2.summary()"
   ]
  },
  {
   "cell_type": "code",
   "execution_count": null,
   "metadata": {
    "execution": {
     "iopub.execute_input": "2021-04-08T11:00:39.514576Z",
     "iopub.status.busy": "2021-04-08T11:00:39.514076Z",
     "iopub.status.idle": "2021-04-08T11:00:39.538176Z",
     "shell.execute_reply": "2021-04-08T11:00:39.536475Z",
     "shell.execute_reply.started": "2021-04-08T11:00:39.514516Z"
    },
    "id": "5dZqJEEoIJRi",
    "tags": []
   },
   "outputs": [],
   "source": [
    "model2.compile(loss='categorical_crossentropy', optimizer=Adam(), metrics=['accuracy'])"
   ]
  },
  {
   "cell_type": "markdown",
   "metadata": {
    "id": "ZB346_TSO-82"
   },
   "source": [
    "Saving the checkpoint"
   ]
  },
  {
   "cell_type": "code",
   "execution_count": null,
   "metadata": {
    "id": "qZSQ_j7FPBtW"
   },
   "outputs": [],
   "source": [
    "checkpoint_filepath2 = 'exp2/checkpoint'\n",
    "model_checkpoint_callback2 = tf.keras.callbacks.ModelCheckpoint(\n",
    "    filepath=checkpoint_filepath2,\n",
    "    save_weights_only=True,\n",
    "    monitor='val_loss',\n",
    "    mode='min',\n",
    "    save_best_only=True)"
   ]
  },
  {
   "cell_type": "code",
   "execution_count": null,
   "metadata": {
    "execution": {
     "iopub.execute_input": "2021-04-08T11:00:41.881464Z",
     "iopub.status.busy": "2021-04-08T11:00:41.880957Z",
     "iopub.status.idle": "2021-04-08T11:18:06.288883Z",
     "shell.execute_reply": "2021-04-08T11:18:06.287091Z",
     "shell.execute_reply.started": "2021-04-08T11:00:41.881401Z"
    },
    "id": "_XCaoKf6IJRj",
    "outputId": "f1557a4d-5ffa-4869-f6a4-16977fbd883e",
    "tags": []
   },
   "outputs": [
    {
     "name": "stdout",
     "output_type": "stream",
     "text": [
      "Epoch 1/400\n",
      "31/31 [==============================] - 37s 1s/step - loss: 4.8922 - accuracy: 0.0325 - val_loss: 4.1346 - val_accuracy: 0.0201\n",
      "Epoch 2/400\n",
      "31/31 [==============================] - 35s 1s/step - loss: 3.6093 - accuracy: 0.1459 - val_loss: 4.1228 - val_accuracy: 0.0290\n",
      "Epoch 3/400\n",
      "31/31 [==============================] - 35s 1s/step - loss: 3.0967 - accuracy: 0.2445 - val_loss: 4.1612 - val_accuracy: 0.0179\n",
      "Epoch 4/400\n",
      "31/31 [==============================] - 35s 1s/step - loss: 2.5994 - accuracy: 0.3480 - val_loss: 4.2471 - val_accuracy: 0.0223\n",
      "Epoch 5/400\n",
      "31/31 [==============================] - 35s 1s/step - loss: 2.3611 - accuracy: 0.3881 - val_loss: 4.4078 - val_accuracy: 0.0268\n",
      "Epoch 6/400\n",
      "31/31 [==============================] - 35s 1s/step - loss: 2.0162 - accuracy: 0.4768 - val_loss: 4.4157 - val_accuracy: 0.0312\n",
      "Epoch 7/400\n",
      "31/31 [==============================] - 35s 1s/step - loss: 1.7933 - accuracy: 0.5240 - val_loss: 4.4367 - val_accuracy: 0.0357\n",
      "Epoch 8/400\n",
      "31/31 [==============================] - 35s 1s/step - loss: 1.5300 - accuracy: 0.6031 - val_loss: 4.3013 - val_accuracy: 0.0402\n",
      "Epoch 9/400\n",
      "31/31 [==============================] - 35s 1s/step - loss: 1.4667 - accuracy: 0.6171 - val_loss: 4.1002 - val_accuracy: 0.0625\n",
      "Epoch 10/400\n",
      "31/31 [==============================] - 35s 1s/step - loss: 1.2777 - accuracy: 0.6694 - val_loss: 3.8498 - val_accuracy: 0.1161\n",
      "Epoch 11/400\n",
      "31/31 [==============================] - 35s 1s/step - loss: 1.0951 - accuracy: 0.7186 - val_loss: 3.5382 - val_accuracy: 0.1317\n",
      "Epoch 12/400\n",
      "31/31 [==============================] - 35s 1s/step - loss: 0.9612 - accuracy: 0.7594 - val_loss: 3.4244 - val_accuracy: 0.1786\n",
      "Epoch 13/400\n",
      "31/31 [==============================] - 35s 1s/step - loss: 0.8540 - accuracy: 0.7684 - val_loss: 2.6652 - val_accuracy: 0.3147\n",
      "Epoch 14/400\n",
      "31/31 [==============================] - 35s 1s/step - loss: 0.7494 - accuracy: 0.8225 - val_loss: 2.8891 - val_accuracy: 0.2634\n",
      "Epoch 15/400\n",
      "31/31 [==============================] - 35s 1s/step - loss: 0.6920 - accuracy: 0.8349 - val_loss: 2.6686 - val_accuracy: 0.3504\n",
      "Epoch 16/400\n",
      "31/31 [==============================] - 35s 1s/step - loss: 0.5955 - accuracy: 0.8527 - val_loss: 2.2025 - val_accuracy: 0.4420\n",
      "Epoch 17/400\n",
      "31/31 [==============================] - 35s 1s/step - loss: 0.4886 - accuracy: 0.8892 - val_loss: 2.2851 - val_accuracy: 0.4420\n",
      "Epoch 18/400\n",
      "31/31 [==============================] - 35s 1s/step - loss: 0.4765 - accuracy: 0.8902 - val_loss: 2.1791 - val_accuracy: 0.4397\n",
      "Epoch 19/400\n",
      "31/31 [==============================] - 35s 1s/step - loss: 0.4340 - accuracy: 0.8955 - val_loss: 2.2505 - val_accuracy: 0.4353\n",
      "Epoch 20/400\n",
      "31/31 [==============================] - 35s 1s/step - loss: 0.3878 - accuracy: 0.9079 - val_loss: 1.9392 - val_accuracy: 0.4866\n",
      "Epoch 21/400\n",
      "31/31 [==============================] - 35s 1s/step - loss: 0.3592 - accuracy: 0.9107 - val_loss: 2.5304 - val_accuracy: 0.3951\n",
      "Epoch 22/400\n",
      "31/31 [==============================] - 35s 1s/step - loss: 0.3237 - accuracy: 0.9417 - val_loss: 1.8786 - val_accuracy: 0.5067\n",
      "Epoch 23/400\n",
      "31/31 [==============================] - 35s 1s/step - loss: 0.2836 - accuracy: 0.9400 - val_loss: 2.1518 - val_accuracy: 0.4487\n",
      "Epoch 24/400\n",
      "31/31 [==============================] - 35s 1s/step - loss: 0.2584 - accuracy: 0.9481 - val_loss: 1.9832 - val_accuracy: 0.4643\n",
      "Epoch 25/400\n",
      "31/31 [==============================] - 35s 1s/step - loss: 0.2542 - accuracy: 0.9443 - val_loss: 2.1004 - val_accuracy: 0.4911\n",
      "Epoch 26/400\n",
      "31/31 [==============================] - 35s 1s/step - loss: 0.2368 - accuracy: 0.9513 - val_loss: 2.8309 - val_accuracy: 0.3594\n",
      "Epoch 27/400\n",
      "31/31 [==============================] - 35s 1s/step - loss: 0.2171 - accuracy: 0.9552 - val_loss: 1.9439 - val_accuracy: 0.4933\n",
      "Epoch 28/400\n",
      "31/31 [==============================] - 35s 1s/step - loss: 0.2030 - accuracy: 0.9621 - val_loss: 1.8581 - val_accuracy: 0.5201\n",
      "Epoch 29/400\n",
      "31/31 [==============================] - 35s 1s/step - loss: 0.1912 - accuracy: 0.9569 - val_loss: 2.3338 - val_accuracy: 0.4107\n",
      "Epoch 30/400\n",
      "31/31 [==============================] - 35s 1s/step - loss: 0.1776 - accuracy: 0.9610 - val_loss: 2.3470 - val_accuracy: 0.4464\n",
      "Epoch 31/400\n",
      "31/31 [==============================] - 35s 1s/step - loss: 0.1876 - accuracy: 0.9665 - val_loss: 2.1871 - val_accuracy: 0.4688\n",
      "Epoch 32/400\n",
      "31/31 [==============================] - 35s 1s/step - loss: 0.1733 - accuracy: 0.9631 - val_loss: 2.0909 - val_accuracy: 0.5067\n",
      "Epoch 33/400\n",
      "31/31 [==============================] - 35s 1s/step - loss: 0.1565 - accuracy: 0.9613 - val_loss: 2.3205 - val_accuracy: 0.4375\n",
      "Epoch 34/400\n",
      "31/31 [==============================] - 36s 1s/step - loss: 0.1285 - accuracy: 0.9763 - val_loss: 2.0606 - val_accuracy: 0.4933\n",
      "Epoch 35/400\n",
      "31/31 [==============================] - 35s 1s/step - loss: 0.1391 - accuracy: 0.9703 - val_loss: 2.0791 - val_accuracy: 0.4710\n",
      "Epoch 36/400\n",
      "31/31 [==============================] - 35s 1s/step - loss: 0.1356 - accuracy: 0.9708 - val_loss: 2.1052 - val_accuracy: 0.4732\n",
      "Epoch 37/400\n",
      "31/31 [==============================] - 35s 1s/step - loss: 0.1227 - accuracy: 0.9763 - val_loss: 2.7295 - val_accuracy: 0.4062\n",
      "Epoch 38/400\n",
      "31/31 [==============================] - 35s 1s/step - loss: 0.1429 - accuracy: 0.9722 - val_loss: 2.3375 - val_accuracy: 0.4353\n",
      "Epoch 39/400\n",
      "31/31 [==============================] - 35s 1s/step - loss: 0.1105 - accuracy: 0.9727 - val_loss: 3.5850 - val_accuracy: 0.3371\n",
      "Epoch 40/400\n",
      "31/31 [==============================] - 35s 1s/step - loss: 0.1190 - accuracy: 0.9701 - val_loss: 3.0252 - val_accuracy: 0.3862\n",
      "Epoch 41/400\n",
      "31/31 [==============================] - 35s 1s/step - loss: 0.1185 - accuracy: 0.9741 - val_loss: 1.9610 - val_accuracy: 0.5223\n",
      "Epoch 42/400\n",
      "31/31 [==============================] - 35s 1s/step - loss: 0.0945 - accuracy: 0.9801 - val_loss: 2.6051 - val_accuracy: 0.4196\n",
      "Epoch 43/400\n",
      "31/31 [==============================] - 35s 1s/step - loss: 0.1067 - accuracy: 0.9750 - val_loss: 2.0708 - val_accuracy: 0.4844\n",
      "Epoch 44/400\n",
      "31/31 [==============================] - 35s 1s/step - loss: 0.0985 - accuracy: 0.9771 - val_loss: 2.5087 - val_accuracy: 0.4955\n",
      "Epoch 45/400\n",
      "31/31 [==============================] - 35s 1s/step - loss: 0.0933 - accuracy: 0.9733 - val_loss: 2.4463 - val_accuracy: 0.4598\n",
      "Epoch 46/400\n",
      "31/31 [==============================] - 35s 1s/step - loss: 0.0832 - accuracy: 0.9854 - val_loss: 2.1240 - val_accuracy: 0.4754\n",
      "Epoch 47/400\n",
      "31/31 [==============================] - 35s 1s/step - loss: 0.0771 - accuracy: 0.9873 - val_loss: 2.0747 - val_accuracy: 0.4866\n",
      "Epoch 48/400\n",
      "31/31 [==============================] - 35s 1s/step - loss: 0.0920 - accuracy: 0.9787 - val_loss: 2.4396 - val_accuracy: 0.4531\n",
      "Restoring model weights from the end of the best epoch.\n",
      "Epoch 00048: early stopping\n"
     ]
    }
   ],
   "source": [
    "history2 = model2.fit(\n",
    "    train_generator2,\n",
    "    epochs=EPOCHS,\n",
    "    validation_data=validation_generator2,\n",
    "    steps_per_epoch = train_generator2.samples // BATCH_SIZE,\n",
    "    validation_steps = validation_generator2.samples // BATCH_SIZE,\n",
    "    callbacks=[model_checkpoint_callback2, early_stopping_callback]\n",
    ")"
   ]
  },
  {
   "cell_type": "code",
   "execution_count": null,
   "metadata": {
    "execution": {
     "iopub.execute_input": "2021-04-08T11:18:06.291506Z",
     "iopub.status.busy": "2021-04-08T11:18:06.291033Z",
     "iopub.status.idle": "2021-04-08T11:18:06.734888Z",
     "shell.execute_reply": "2021-04-08T11:18:06.732712Z",
     "shell.execute_reply.started": "2021-04-08T11:18:06.291447Z"
    },
    "id": "MPFGZUbBIJRl",
    "outputId": "f66370b7-9361-4e73-ee4d-3ad5ebf49a8c"
   },
   "outputs": [
    {
     "data": {
      "image/png": "[encoded data removed]",
      "text/plain": [
       "<Figure size 432x288 with 1 Axes>"
      ]
     },
     "metadata": {
      "needs_background": "light",
      "tags": []
     },
     "output_type": "display_data"
    }
   ],
   "source": [
    "plt.plot(history2.history['accuracy'])\n",
    "plt.plot(history2.history['val_accuracy'])\n",
    "plt.title('model accuracy')\n",
    "plt.ylabel('accuracy')\n",
    "plt.xlabel('epoch')\n",
    "plt.legend(['training', 'validation'], loc='best')\n",
    "plt.show()"
   ]
  },
  {
   "cell_type": "code",
   "execution_count": null,
   "metadata": {
    "execution": {
     "iopub.execute_input": "2021-04-08T11:18:06.739826Z",
     "iopub.status.busy": "2021-04-08T11:18:06.739030Z",
     "iopub.status.idle": "2021-04-08T11:18:07.522405Z",
     "shell.execute_reply": "2021-04-08T11:18:07.520642Z",
     "shell.execute_reply.started": "2021-04-08T11:18:06.739718Z"
    },
    "id": "tf1eA7IzIJRm",
    "outputId": "0026ed1f-6b30-4a83-c2ba-b82597e411de"
   },
   "outputs": [
    {
     "data": {
      "image/png": "[encoded data removed]",
      "text/plain": [
       "<Figure size 432x288 with 1 Axes>"
      ]
     },
     "metadata": {
      "needs_background": "light",
      "tags": []
     },
     "output_type": "display_data"
    }
   ],
   "source": [
    "plt.plot(history2.history['loss'])\n",
    "plt.plot(history2.history['val_loss'])\n",
    "plt.title('model loss')\n",
    "plt.ylabel('loss')\n",
    "plt.xlabel('epoch')\n",
    "plt.legend(['training', 'validation'], loc='best')\n",
    "plt.show()"
   ]
  },
  {
   "cell_type": "markdown",
   "metadata": {
    "id": "cdcXekrLP4_8"
   },
   "source": [
    "We see that this actually performs worse than the first experiment. I think this is so becuase in this case, even slightly augmenting data leads to larger variations and since we don't have a lot of training samples, it still overfits to this data and does not generalize well on the validation set."
   ]
  },
  {
   "cell_type": "markdown",
   "metadata": {
    "id": "k8NjAx4NlOfW"
   },
   "source": [
    "### Experiment 3: Using different activation function"
   ]
  },
  {
   "cell_type": "markdown",
   "metadata": {
    "id": "UhvmLdmIzhWH"
   },
   "source": [
    "#### Using Mish Activation"
   ]
  },
  {
   "cell_type": "markdown",
   "metadata": {
    "id": "PL6wffIFlcY7"
   },
   "source": [
    "From refs. [4] and [5], I will use the new Mish activation over ReLU. I'll use the training samples from first experiment as they gave better results than the second experiment and will use the same activation."
   ]
  },
  {
   "cell_type": "code",
   "execution_count": 8,
   "metadata": {
    "id": "7Ll67lRvP4_-"
   },
   "outputs": [],
   "source": [
    "# Mish Activation Function\n",
    "def mish(x):\n",
    "    return tf.keras.layers.Lambda(lambda x: x*tf.tanh(tf.math.log(1+tf.exp(x))))(x)"
   ]
  },
  {
   "cell_type": "code",
   "execution_count": null,
   "metadata": {
    "id": "FuynOqUqkl5b"
   },
   "outputs": [],
   "source": [
    "model3 = Sequential()\n",
    "\n",
    "# 1st Convolution Layer\n",
    "model3.add(Conv2D(6, input_shape=(*IMAGE_SIZE, 1),\n",
    "                  kernel_size=(5,5), padding='same', activation=mish))\n",
    "model3.add(BatchNormalization())\n",
    "model3.add(MaxPooling2D(pool_size=(2,2), strides=2))\n",
    "\n",
    "# 2nd Convolution Layer\n",
    "model3.add(Conv2D(16, kernel_size=(5,5), activation=mish))\n",
    "model3.add(BatchNormalization())\n",
    "model3.add(MaxPooling2D(pool_size=(2,2), strides=2))\n",
    "\n",
    "# Passing to a Fully Connected Layer\n",
    "model3.add(Flatten())\n",
    "\n",
    "# 1st Fully Connected Layer\n",
    "model3.add(Dense(256, activation=mish))\n",
    "model3.add(BatchNormalization())\n",
    "model3.add(Dropout(0.4))\n",
    "\n",
    "# 2nd Fully Connected Layer\n",
    "model3.add(Dense(128, activation=mish))\n",
    "model3.add(BatchNormalization())\n",
    "model3.add(Dropout(0.4))\n",
    "\n",
    "# Output Layer\n",
    "model3.add(Dense(62, activation='softmax'))"
   ]
  },
  {
   "cell_type": "code",
   "execution_count": null,
   "metadata": {
    "colab": {
     "base_uri": "https://localhost:8080/"
    },
    "id": "FbCBUIh1p85O",
    "outputId": "efbd6b78-744b-4362-8d79-abc56d1a1ce1"
   },
   "outputs": [
    {
     "name": "stdout",
     "output_type": "stream",
     "text": [
      "Model: \"sequential\"\n",
      "_________________________________________________________________\n",
      "Layer (type)                 Output Shape              Param #   \n",
      "=================================================================\n",
      "conv2d (Conv2D)              (None, 45, 60, 6)         156       \n",
      "_________________________________________________________________\n",
      "batch_normalization (BatchNo (None, 45, 60, 6)         24        \n",
      "_________________________________________________________________\n",
      "max_pooling2d (MaxPooling2D) (None, 22, 30, 6)         0         \n",
      "_________________________________________________________________\n",
      "conv2d_1 (Conv2D)            (None, 18, 26, 16)        2416      \n",
      "_________________________________________________________________\n",
      "batch_normalization_1 (Batch (None, 18, 26, 16)        64        \n",
      "_________________________________________________________________\n",
      "max_pooling2d_1 (MaxPooling2 (None, 9, 13, 16)         0         \n",
      "_________________________________________________________________\n",
      "flatten (Flatten)            (None, 1872)              0         \n",
      "_________________________________________________________________\n",
      "dense (Dense)                (None, 256)               479488    \n",
      "_________________________________________________________________\n",
      "batch_normalization_2 (Batch (None, 256)               1024      \n",
      "_________________________________________________________________\n",
      "dropout (Dropout)            (None, 256)               0         \n",
      "_________________________________________________________________\n",
      "dense_1 (Dense)              (None, 128)               32896     \n",
      "_________________________________________________________________\n",
      "batch_normalization_3 (Batch (None, 128)               512       \n",
      "_________________________________________________________________\n",
      "dropout_1 (Dropout)          (None, 128)               0         \n",
      "_________________________________________________________________\n",
      "dense_2 (Dense)              (None, 62)                7998      \n",
      "=================================================================\n",
      "Total params: 524,578\n",
      "Trainable params: 523,766\n",
      "Non-trainable params: 812\n",
      "_________________________________________________________________\n"
     ]
    }
   ],
   "source": [
    "model3.summary()"
   ]
  },
  {
   "cell_type": "code",
   "execution_count": null,
   "metadata": {
    "id": "2GcWULycp_Gc"
   },
   "outputs": [],
   "source": [
    "model3.compile(loss='categorical_crossentropy', optimizer=Adam(), metrics=['accuracy'])"
   ]
  },
  {
   "cell_type": "markdown",
   "metadata": {
    "id": "iCHSnieIsEEg"
   },
   "source": [
    "Saving the checkpoint"
   ]
  },
  {
   "cell_type": "code",
   "execution_count": null,
   "metadata": {
    "id": "7sAxVbjwsG1H"
   },
   "outputs": [],
   "source": [
    "checkpoint_filepath3 = 'exp3/checkpoint'\n",
    "model_checkpoint_callback3 = tf.keras.callbacks.ModelCheckpoint(\n",
    "    filepath=checkpoint_filepath3,\n",
    "    save_weights_only=True,\n",
    "    monitor='val_loss',\n",
    "    mode='min',\n",
    "    save_best_only=True)"
   ]
  },
  {
   "cell_type": "code",
   "execution_count": null,
   "metadata": {
    "colab": {
     "base_uri": "https://localhost:8080/"
    },
    "id": "KK7OP0K2q55R",
    "outputId": "3122b8b1-ad35-42d0-f2e4-feb13785c7a2"
   },
   "outputs": [
    {
     "name": "stdout",
     "output_type": "stream",
     "text": [
      "Epoch 1/400\n",
      "31/31 [==============================] - 61s 984ms/step - loss: 4.8382 - accuracy: 0.0325 - val_loss: 4.1591 - val_accuracy: 0.0156\n",
      "Epoch 2/400\n",
      "31/31 [==============================] - 30s 973ms/step - loss: 3.5108 - accuracy: 0.1671 - val_loss: 4.4229 - val_accuracy: 0.0201\n",
      "Epoch 3/400\n",
      "31/31 [==============================] - 30s 974ms/step - loss: 2.8792 - accuracy: 0.2770 - val_loss: 4.8254 - val_accuracy: 0.0179\n",
      "Epoch 4/400\n",
      "31/31 [==============================] - 30s 979ms/step - loss: 2.4508 - accuracy: 0.3762 - val_loss: 5.2647 - val_accuracy: 0.0179\n",
      "Epoch 5/400\n",
      "31/31 [==============================] - 30s 974ms/step - loss: 2.1049 - accuracy: 0.4616 - val_loss: 5.6886 - val_accuracy: 0.0179\n",
      "Epoch 6/400\n",
      "31/31 [==============================] - 30s 974ms/step - loss: 1.8642 - accuracy: 0.5457 - val_loss: 5.7846 - val_accuracy: 0.0134\n",
      "Epoch 7/400\n",
      "31/31 [==============================] - 30s 969ms/step - loss: 1.5534 - accuracy: 0.6157 - val_loss: 5.8400 - val_accuracy: 0.0201\n",
      "Epoch 8/400\n",
      "31/31 [==============================] - 30s 972ms/step - loss: 1.3556 - accuracy: 0.6605 - val_loss: 5.8334 - val_accuracy: 0.0223\n",
      "Epoch 9/400\n",
      "31/31 [==============================] - 30s 975ms/step - loss: 1.1340 - accuracy: 0.7309 - val_loss: 5.7567 - val_accuracy: 0.0246\n",
      "Epoch 10/400\n",
      "31/31 [==============================] - 30s 971ms/step - loss: 1.0382 - accuracy: 0.7475 - val_loss: 5.3880 - val_accuracy: 0.0268\n",
      "Epoch 11/400\n",
      "31/31 [==============================] - 30s 975ms/step - loss: 0.8675 - accuracy: 0.7990 - val_loss: 5.2196 - val_accuracy: 0.0402\n",
      "Epoch 12/400\n",
      "31/31 [==============================] - 30s 975ms/step - loss: 0.7569 - accuracy: 0.8240 - val_loss: 4.4228 - val_accuracy: 0.0625\n",
      "Epoch 13/400\n",
      "31/31 [==============================] - 30s 972ms/step - loss: 0.6856 - accuracy: 0.8373 - val_loss: 3.9223 - val_accuracy: 0.1317\n",
      "Epoch 14/400\n",
      "31/31 [==============================] - 30s 971ms/step - loss: 0.5931 - accuracy: 0.8610 - val_loss: 3.3662 - val_accuracy: 0.2143\n",
      "Epoch 15/400\n",
      "31/31 [==============================] - 30s 973ms/step - loss: 0.5410 - accuracy: 0.8735 - val_loss: 3.1947 - val_accuracy: 0.2344\n",
      "Epoch 16/400\n",
      "31/31 [==============================] - 30s 972ms/step - loss: 0.4776 - accuracy: 0.8918 - val_loss: 2.5398 - val_accuracy: 0.3527\n",
      "Epoch 17/400\n",
      "31/31 [==============================] - 30s 974ms/step - loss: 0.4035 - accuracy: 0.9192 - val_loss: 2.2641 - val_accuracy: 0.4330\n",
      "Epoch 18/400\n",
      "31/31 [==============================] - 30s 969ms/step - loss: 0.3627 - accuracy: 0.9253 - val_loss: 2.1770 - val_accuracy: 0.4464\n",
      "Epoch 19/400\n",
      "31/31 [==============================] - 30s 976ms/step - loss: 0.3120 - accuracy: 0.9305 - val_loss: 2.0948 - val_accuracy: 0.4554\n",
      "Epoch 20/400\n",
      "31/31 [==============================] - 30s 975ms/step - loss: 0.3011 - accuracy: 0.9381 - val_loss: 2.0228 - val_accuracy: 0.4911\n",
      "Epoch 21/400\n",
      "31/31 [==============================] - 30s 980ms/step - loss: 0.2495 - accuracy: 0.9470 - val_loss: 1.9106 - val_accuracy: 0.4911\n",
      "Epoch 22/400\n",
      "31/31 [==============================] - 30s 969ms/step - loss: 0.2261 - accuracy: 0.9564 - val_loss: 1.7929 - val_accuracy: 0.5335\n",
      "Epoch 23/400\n",
      "31/31 [==============================] - 30s 973ms/step - loss: 0.2143 - accuracy: 0.9579 - val_loss: 2.0653 - val_accuracy: 0.5089\n",
      "Epoch 24/400\n",
      "31/31 [==============================] - 30s 978ms/step - loss: 0.2132 - accuracy: 0.9561 - val_loss: 1.8173 - val_accuracy: 0.5513\n",
      "Epoch 25/400\n",
      "31/31 [==============================] - 30s 975ms/step - loss: 0.1900 - accuracy: 0.9605 - val_loss: 1.8378 - val_accuracy: 0.5424\n",
      "Epoch 26/400\n",
      "31/31 [==============================] - 30s 970ms/step - loss: 0.1631 - accuracy: 0.9706 - val_loss: 1.8676 - val_accuracy: 0.5424\n",
      "Epoch 27/400\n",
      "31/31 [==============================] - 30s 972ms/step - loss: 0.1586 - accuracy: 0.9627 - val_loss: 1.8381 - val_accuracy: 0.5402\n",
      "Epoch 28/400\n",
      "31/31 [==============================] - 30s 977ms/step - loss: 0.1482 - accuracy: 0.9689 - val_loss: 1.6875 - val_accuracy: 0.5848\n",
      "Epoch 29/400\n",
      "31/31 [==============================] - 30s 978ms/step - loss: 0.1289 - accuracy: 0.9766 - val_loss: 2.3107 - val_accuracy: 0.4621\n",
      "Epoch 30/400\n",
      "31/31 [==============================] - 30s 977ms/step - loss: 0.1297 - accuracy: 0.9744 - val_loss: 1.8469 - val_accuracy: 0.5402\n",
      "Epoch 31/400\n",
      "31/31 [==============================] - 30s 982ms/step - loss: 0.1049 - accuracy: 0.9822 - val_loss: 1.8450 - val_accuracy: 0.5714\n",
      "Epoch 32/400\n",
      "31/31 [==============================] - 30s 973ms/step - loss: 0.1050 - accuracy: 0.9804 - val_loss: 1.8608 - val_accuracy: 0.5692\n",
      "Epoch 33/400\n",
      "31/31 [==============================] - 30s 975ms/step - loss: 0.0973 - accuracy: 0.9831 - val_loss: 1.7893 - val_accuracy: 0.5491\n",
      "Epoch 34/400\n",
      "31/31 [==============================] - 30s 978ms/step - loss: 0.0946 - accuracy: 0.9812 - val_loss: 1.7682 - val_accuracy: 0.5714\n",
      "Epoch 35/400\n",
      "31/31 [==============================] - 30s 973ms/step - loss: 0.0927 - accuracy: 0.9788 - val_loss: 1.8935 - val_accuracy: 0.5647\n",
      "Epoch 36/400\n",
      "31/31 [==============================] - 30s 976ms/step - loss: 0.0775 - accuracy: 0.9832 - val_loss: 2.9494 - val_accuracy: 0.3951\n",
      "Epoch 37/400\n",
      "31/31 [==============================] - 30s 969ms/step - loss: 0.0749 - accuracy: 0.9908 - val_loss: 2.1115 - val_accuracy: 0.5223\n",
      "Epoch 38/400\n",
      "31/31 [==============================] - 30s 971ms/step - loss: 0.0970 - accuracy: 0.9828 - val_loss: 1.8960 - val_accuracy: 0.5603\n",
      "Epoch 39/400\n",
      "31/31 [==============================] - 30s 976ms/step - loss: 0.0695 - accuracy: 0.9889 - val_loss: 1.9347 - val_accuracy: 0.5469\n",
      "Epoch 40/400\n",
      "31/31 [==============================] - 30s 979ms/step - loss: 0.0806 - accuracy: 0.9848 - val_loss: 3.0861 - val_accuracy: 0.3750\n",
      "Epoch 41/400\n",
      "31/31 [==============================] - 30s 972ms/step - loss: 0.0650 - accuracy: 0.9918 - val_loss: 2.1020 - val_accuracy: 0.5067\n",
      "Epoch 42/400\n",
      "31/31 [==============================] - 30s 977ms/step - loss: 0.0664 - accuracy: 0.9845 - val_loss: 1.9804 - val_accuracy: 0.5402\n",
      "Epoch 43/400\n",
      "31/31 [==============================] - 30s 968ms/step - loss: 0.0686 - accuracy: 0.9859 - val_loss: 1.8390 - val_accuracy: 0.5580\n",
      "Epoch 44/400\n",
      "31/31 [==============================] - 30s 978ms/step - loss: 0.0598 - accuracy: 0.9881 - val_loss: 1.8656 - val_accuracy: 0.5714\n",
      "Epoch 45/400\n",
      "31/31 [==============================] - 30s 976ms/step - loss: 0.0538 - accuracy: 0.9946 - val_loss: 1.8879 - val_accuracy: 0.5737\n",
      "Epoch 46/400\n",
      "31/31 [==============================] - 30s 972ms/step - loss: 0.0532 - accuracy: 0.9894 - val_loss: 1.8488 - val_accuracy: 0.5580\n",
      "Epoch 47/400\n",
      "31/31 [==============================] - 30s 975ms/step - loss: 0.0459 - accuracy: 0.9925 - val_loss: 1.8268 - val_accuracy: 0.5826\n",
      "Epoch 48/400\n",
      "31/31 [==============================] - 30s 969ms/step - loss: 0.0443 - accuracy: 0.9918 - val_loss: 2.3868 - val_accuracy: 0.4821\n",
      "Restoring model weights from the end of the best epoch.\n",
      "Epoch 00048: early stopping\n"
     ]
    }
   ],
   "source": [
    "history3 = model3.fit(\n",
    "    train_generator1,\n",
    "    epochs=EPOCHS,\n",
    "    validation_data=validation_generator1,\n",
    "    steps_per_epoch = train_generator1.samples // BATCH_SIZE,\n",
    "    validation_steps = validation_generator1.samples // BATCH_SIZE,\n",
    "    callbacks=[model_checkpoint_callback3, early_stopping_callback]\n",
    ")"
   ]
  },
  {
   "cell_type": "code",
   "execution_count": null,
   "metadata": {
    "colab": {
     "base_uri": "https://localhost:8080/",
     "height": 295
    },
    "id": "IGRhV1nnrwoV",
    "outputId": "46b97655-d203-468e-9e67-45002bff1f6d"
   },
   "outputs": [
    {
     "data": {
      "image/png": "[encoded data removed]",
      "text/plain": [
       "<Figure size 432x288 with 1 Axes>"
      ]
     },
     "metadata": {
      "needs_background": "light",
      "tags": []
     },
     "output_type": "display_data"
    }
   ],
   "source": [
    "plt.plot(history3.history['accuracy'])\n",
    "plt.plot(history3.history['val_accuracy'])\n",
    "plt.title('model accuracy')\n",
    "plt.ylabel('accuracy')\n",
    "plt.xlabel('epoch')\n",
    "plt.legend(['training', 'validation'], loc='best')\n",
    "plt.show()"
   ]
  },
  {
   "cell_type": "code",
   "execution_count": null,
   "metadata": {
    "colab": {
     "base_uri": "https://localhost:8080/",
     "height": 295
    },
    "id": "OOi-sW85rxPB",
    "outputId": "8276b14f-4520-42a2-fbe9-08a9bdc4741e"
   },
   "outputs": [
    {
     "data": {
      "image/png": "[encoded data removed]",
      "text/plain": [
       "<Figure size 432x288 with 1 Axes>"
      ]
     },
     "metadata": {
      "needs_background": "light",
      "tags": []
     },
     "output_type": "display_data"
    }
   ],
   "source": [
    "plt.plot(history3.history['loss'])\n",
    "plt.plot(history3.history['val_loss'])\n",
    "plt.title('model loss')\n",
    "plt.ylabel('loss')\n",
    "plt.xlabel('epoch')\n",
    "plt.legend(['training', 'validation'], loc='best')\n",
    "plt.show()"
   ]
  },
  {
   "cell_type": "markdown",
   "metadata": {
    "id": "dBFe6_NmWuM6"
   },
   "source": [
    "This model performs \"slightly\" better than our model from Experiment 1 and also does so in less epochs. However, there is some variance as the model overfits. We used early stopping with patience level 20, so our model gives best results at around epoch 28."
   ]
  },
  {
   "cell_type": "markdown",
   "metadata": {
    "id": "G6ge_4Jtzf4w"
   },
   "source": [
    "#### Experiment 7: Using higher temperature in Softmax"
   ]
  },
  {
   "cell_type": "markdown",
   "metadata": {
    "id": "ZGnfPBDEzuXT"
   },
   "source": [
    "Higher temperature in softmax helps get 'softer' weights. This is actually the last experiment that I perform here, but put it here in the middle because it fits this section better."
   ]
  },
  {
   "cell_type": "code",
   "execution_count": 11,
   "metadata": {
    "id": "QVjYWYnwz9pb"
   },
   "outputs": [],
   "source": [
    "model7 = Sequential()\n",
    "\n",
    "# 1st Convolution Layer\n",
    "model7.add(Conv2D(6, input_shape=(*IMAGE_SIZE, 1),\n",
    "                  kernel_size=(5,5), padding='same', activation=mish))\n",
    "model7.add(BatchNormalization())\n",
    "model7.add(MaxPooling2D(pool_size=(2,2), strides=2))\n",
    "\n",
    "# 2nd Convolution Layer\n",
    "model7.add(Conv2D(16, kernel_size=(5,5), activation=mish))\n",
    "model7.add(BatchNormalization())\n",
    "model7.add(MaxPooling2D(pool_size=(2,2), strides=2))\n",
    "\n",
    "# Passing to a Fully Connected Layer\n",
    "model7.add(Flatten())\n",
    "\n",
    "# 1st Fully Connected Layer\n",
    "model7.add(Dense(256, activation=mish))\n",
    "model7.add(BatchNormalization())\n",
    "model7.add(Dropout(0.4))\n",
    "\n",
    "# 2nd Fully Connected Layer\n",
    "model7.add(Dense(128, activation=mish))\n",
    "model7.add(BatchNormalization())\n",
    "model7.add(Dropout(0.4))\n",
    "\n",
    "# Output Layer\n",
    "# Increasing the softmax temperature\n",
    "temp = 5\n",
    "model7.add(Lambda(lambda x: x / temp))\n",
    "model7.add(Dense(62, activation='softmax'))"
   ]
  },
  {
   "cell_type": "code",
   "execution_count": 12,
   "metadata": {
    "colab": {
     "base_uri": "https://localhost:8080/"
    },
    "id": "KppXteeT0hao",
    "outputId": "9759e315-ade1-4d5c-b1c8-686f84ea7c29"
   },
   "outputs": [
    {
     "name": "stdout",
     "output_type": "stream",
     "text": [
      "Model: \"sequential\"\n",
      "_________________________________________________________________\n",
      "Layer (type)                 Output Shape              Param #   \n",
      "=================================================================\n",
      "conv2d (Conv2D)              (None, 45, 60, 6)         156       \n",
      "_________________________________________________________________\n",
      "batch_normalization (BatchNo (None, 45, 60, 6)         24        \n",
      "_________________________________________________________________\n",
      "max_pooling2d (MaxPooling2D) (None, 22, 30, 6)         0         \n",
      "_________________________________________________________________\n",
      "conv2d_1 (Conv2D)            (None, 18, 26, 16)        2416      \n",
      "_________________________________________________________________\n",
      "batch_normalization_1 (Batch (None, 18, 26, 16)        64        \n",
      "_________________________________________________________________\n",
      "max_pooling2d_1 (MaxPooling2 (None, 9, 13, 16)         0         \n",
      "_________________________________________________________________\n",
      "flatten (Flatten)            (None, 1872)              0         \n",
      "_________________________________________________________________\n",
      "dense (Dense)                (None, 256)               479488    \n",
      "_________________________________________________________________\n",
      "batch_normalization_2 (Batch (None, 256)               1024      \n",
      "_________________________________________________________________\n",
      "dropout (Dropout)            (None, 256)               0         \n",
      "_________________________________________________________________\n",
      "dense_1 (Dense)              (None, 128)               32896     \n",
      "_________________________________________________________________\n",
      "batch_normalization_3 (Batch (None, 128)               512       \n",
      "_________________________________________________________________\n",
      "dropout_1 (Dropout)          (None, 128)               0         \n",
      "_________________________________________________________________\n",
      "lambda (Lambda)              (None, 128)               0         \n",
      "_________________________________________________________________\n",
      "dense_2 (Dense)              (None, 62)                7998      \n",
      "=================================================================\n",
      "Total params: 524,578\n",
      "Trainable params: 523,766\n",
      "Non-trainable params: 812\n",
      "_________________________________________________________________\n"
     ]
    }
   ],
   "source": [
    "model7.summary()"
   ]
  },
  {
   "cell_type": "code",
   "execution_count": 13,
   "metadata": {
    "id": "7AK04uC40qwd"
   },
   "outputs": [],
   "source": [
    "model7.compile(loss='categorical_crossentropy', optimizer=Adam(), metrics=['accuracy'])"
   ]
  },
  {
   "cell_type": "code",
   "execution_count": 18,
   "metadata": {
    "id": "duj5YJtgztD7"
   },
   "outputs": [],
   "source": [
    "checkpoint_filepath7 = 'exp7/checkpoint'\n",
    "model_checkpoint_callback7 = tf.keras.callbacks.ModelCheckpoint(\n",
    "    filepath=checkpoint_filepath7,\n",
    "    save_weights_only=True,\n",
    "    monitor='val_loss',\n",
    "    mode='min',\n",
    "    save_best_only=True)"
   ]
  },
  {
   "cell_type": "code",
   "execution_count": 19,
   "metadata": {
    "colab": {
     "base_uri": "https://localhost:8080/"
    },
    "id": "YGhwE7EO03oD",
    "outputId": "47973ce2-1e0d-4d9d-a602-85c782ea90e5"
   },
   "outputs": [
    {
     "name": "stdout",
     "output_type": "stream",
     "text": [
      "Epoch 1/400\n",
      "31/31 [==============================] - 68s 1s/step - loss: 4.1001 - accuracy: 0.0498 - val_loss: 4.1148 - val_accuracy: 0.0246\n",
      "Epoch 2/400\n",
      "31/31 [==============================] - 38s 1s/step - loss: 3.7522 - accuracy: 0.1887 - val_loss: 4.1053 - val_accuracy: 0.0179\n",
      "Epoch 3/400\n",
      "31/31 [==============================] - 38s 1s/step - loss: 3.5069 - accuracy: 0.3088 - val_loss: 4.1128 - val_accuracy: 0.0156\n",
      "Epoch 4/400\n",
      "31/31 [==============================] - 38s 1s/step - loss: 3.3064 - accuracy: 0.3704 - val_loss: 4.1244 - val_accuracy: 0.0290\n",
      "Epoch 5/400\n",
      "31/31 [==============================] - 38s 1s/step - loss: 3.0649 - accuracy: 0.4657 - val_loss: 4.1426 - val_accuracy: 0.0290\n",
      "Epoch 6/400\n",
      "31/31 [==============================] - 38s 1s/step - loss: 2.8262 - accuracy: 0.5386 - val_loss: 4.1336 - val_accuracy: 0.0246\n",
      "Epoch 7/400\n",
      "31/31 [==============================] - 38s 1s/step - loss: 2.5745 - accuracy: 0.6177 - val_loss: 4.1471 - val_accuracy: 0.0290\n",
      "Epoch 8/400\n",
      "31/31 [==============================] - 38s 1s/step - loss: 2.3222 - accuracy: 0.6702 - val_loss: 4.0214 - val_accuracy: 0.0246\n",
      "Epoch 9/400\n",
      "31/31 [==============================] - 38s 1s/step - loss: 2.0725 - accuracy: 0.7416 - val_loss: 3.9802 - val_accuracy: 0.0312\n",
      "Epoch 10/400\n",
      "31/31 [==============================] - 38s 1s/step - loss: 1.8615 - accuracy: 0.7704 - val_loss: 3.9252 - val_accuracy: 0.0491\n",
      "Epoch 11/400\n",
      "31/31 [==============================] - 38s 1s/step - loss: 1.6268 - accuracy: 0.8256 - val_loss: 3.8140 - val_accuracy: 0.0737\n",
      "Epoch 12/400\n",
      "31/31 [==============================] - 38s 1s/step - loss: 1.4081 - accuracy: 0.8648 - val_loss: 3.7111 - val_accuracy: 0.1272\n",
      "Epoch 13/400\n",
      "31/31 [==============================] - 38s 1s/step - loss: 1.1989 - accuracy: 0.8824 - val_loss: 3.3292 - val_accuracy: 0.1830\n",
      "Epoch 14/400\n",
      "31/31 [==============================] - 38s 1s/step - loss: 1.0465 - accuracy: 0.9088 - val_loss: 2.9541 - val_accuracy: 0.2924\n",
      "Epoch 15/400\n",
      "31/31 [==============================] - 38s 1s/step - loss: 0.8774 - accuracy: 0.9250 - val_loss: 2.9340 - val_accuracy: 0.2679\n",
      "Epoch 16/400\n",
      "31/31 [==============================] - 38s 1s/step - loss: 0.7685 - accuracy: 0.9525 - val_loss: 2.8449 - val_accuracy: 0.3036\n",
      "Epoch 17/400\n",
      "31/31 [==============================] - 38s 1s/step - loss: 0.6504 - accuracy: 0.9612 - val_loss: 2.4836 - val_accuracy: 0.3996\n",
      "Epoch 18/400\n",
      "31/31 [==============================] - 38s 1s/step - loss: 0.5525 - accuracy: 0.9636 - val_loss: 2.3286 - val_accuracy: 0.4442\n",
      "Epoch 19/400\n",
      "31/31 [==============================] - 38s 1s/step - loss: 0.4668 - accuracy: 0.9789 - val_loss: 1.9924 - val_accuracy: 0.5000\n",
      "Epoch 20/400\n",
      "31/31 [==============================] - 38s 1s/step - loss: 0.4088 - accuracy: 0.9802 - val_loss: 2.2117 - val_accuracy: 0.4442\n",
      "Epoch 21/400\n",
      "31/31 [==============================] - 38s 1s/step - loss: 0.3612 - accuracy: 0.9881 - val_loss: 2.1906 - val_accuracy: 0.4531\n",
      "Epoch 22/400\n",
      "31/31 [==============================] - 38s 1s/step - loss: 0.3173 - accuracy: 0.9848 - val_loss: 1.8808 - val_accuracy: 0.5179\n",
      "Epoch 23/400\n",
      "31/31 [==============================] - 38s 1s/step - loss: 0.2771 - accuracy: 0.9917 - val_loss: 1.8202 - val_accuracy: 0.5268\n",
      "Epoch 24/400\n",
      "31/31 [==============================] - 39s 1s/step - loss: 0.2363 - accuracy: 0.9926 - val_loss: 1.7197 - val_accuracy: 0.5513\n",
      "Epoch 25/400\n",
      "31/31 [==============================] - 39s 1s/step - loss: 0.2064 - accuracy: 0.9977 - val_loss: 1.8508 - val_accuracy: 0.5312\n",
      "Epoch 26/400\n",
      "31/31 [==============================] - 38s 1s/step - loss: 0.1934 - accuracy: 0.9938 - val_loss: 2.0299 - val_accuracy: 0.4799\n",
      "Epoch 27/400\n",
      "31/31 [==============================] - 39s 1s/step - loss: 0.1791 - accuracy: 0.9963 - val_loss: 1.6756 - val_accuracy: 0.5871\n",
      "Epoch 28/400\n",
      "31/31 [==============================] - 39s 1s/step - loss: 0.1628 - accuracy: 0.9973 - val_loss: 1.9527 - val_accuracy: 0.4777\n",
      "Epoch 29/400\n",
      "31/31 [==============================] - 38s 1s/step - loss: 0.1386 - accuracy: 0.9983 - val_loss: 1.8603 - val_accuracy: 0.5156\n",
      "Epoch 30/400\n",
      "31/31 [==============================] - 38s 1s/step - loss: 0.1270 - accuracy: 0.9991 - val_loss: 1.6803 - val_accuracy: 0.5558\n",
      "Epoch 31/400\n",
      "31/31 [==============================] - 38s 1s/step - loss: 0.1148 - accuracy: 0.9992 - val_loss: 1.7125 - val_accuracy: 0.5692\n",
      "Epoch 32/400\n",
      "31/31 [==============================] - 38s 1s/step - loss: 0.0980 - accuracy: 0.9991 - val_loss: 1.6406 - val_accuracy: 0.5759\n",
      "Epoch 33/400\n",
      "31/31 [==============================] - 38s 1s/step - loss: 0.0912 - accuracy: 0.9990 - val_loss: 1.8856 - val_accuracy: 0.5223\n",
      "Epoch 34/400\n",
      "31/31 [==============================] - 38s 1s/step - loss: 0.0843 - accuracy: 0.9980 - val_loss: 1.7239 - val_accuracy: 0.5491\n",
      "Epoch 35/400\n",
      "31/31 [==============================] - 38s 1s/step - loss: 0.0772 - accuracy: 0.9993 - val_loss: 1.6845 - val_accuracy: 0.5647\n",
      "Epoch 36/400\n",
      "31/31 [==============================] - 38s 1s/step - loss: 0.0887 - accuracy: 0.9981 - val_loss: 1.9933 - val_accuracy: 0.4866\n",
      "Epoch 37/400\n",
      "31/31 [==============================] - 38s 1s/step - loss: 0.0769 - accuracy: 0.9991 - val_loss: 1.7949 - val_accuracy: 0.5357\n",
      "Epoch 38/400\n",
      "31/31 [==============================] - 38s 1s/step - loss: 0.0682 - accuracy: 0.9983 - val_loss: 1.6681 - val_accuracy: 0.5670\n",
      "Epoch 39/400\n",
      "31/31 [==============================] - 37s 1s/step - loss: 0.0610 - accuracy: 0.9990 - val_loss: 1.8106 - val_accuracy: 0.5290\n",
      "Epoch 40/400\n",
      "31/31 [==============================] - 37s 1s/step - loss: 0.0524 - accuracy: 0.9999 - val_loss: 1.7971 - val_accuracy: 0.5357\n",
      "Epoch 41/400\n",
      "31/31 [==============================] - 37s 1s/step - loss: 0.0572 - accuracy: 0.9965 - val_loss: 1.7177 - val_accuracy: 0.5826\n",
      "Epoch 42/400\n",
      "31/31 [==============================] - 37s 1s/step - loss: 0.0493 - accuracy: 1.0000 - val_loss: 1.9421 - val_accuracy: 0.4911\n",
      "Epoch 43/400\n",
      "31/31 [==============================] - 37s 1s/step - loss: 0.0437 - accuracy: 1.0000 - val_loss: 1.7584 - val_accuracy: 0.5558\n",
      "Epoch 44/400\n",
      "31/31 [==============================] - 37s 1s/step - loss: 0.0471 - accuracy: 0.9995 - val_loss: 1.6278 - val_accuracy: 0.5915\n",
      "Epoch 45/400\n",
      "31/31 [==============================] - 37s 1s/step - loss: 0.0418 - accuracy: 0.9991 - val_loss: 1.8430 - val_accuracy: 0.5246\n",
      "Epoch 46/400\n",
      "31/31 [==============================] - 37s 1s/step - loss: 0.0430 - accuracy: 0.9993 - val_loss: 1.7398 - val_accuracy: 0.5513\n",
      "Epoch 47/400\n",
      "31/31 [==============================] - 36s 1s/step - loss: 0.0394 - accuracy: 1.0000 - val_loss: 1.6923 - val_accuracy: 0.5759\n",
      "Epoch 48/400\n",
      "31/31 [==============================] - 36s 1s/step - loss: 0.0364 - accuracy: 0.9994 - val_loss: 1.7466 - val_accuracy: 0.5647\n",
      "Epoch 49/400\n",
      "31/31 [==============================] - 36s 1s/step - loss: 0.0362 - accuracy: 1.0000 - val_loss: 1.6866 - val_accuracy: 0.5871\n",
      "Epoch 50/400\n",
      "31/31 [==============================] - 36s 1s/step - loss: 0.0342 - accuracy: 0.9999 - val_loss: 1.7511 - val_accuracy: 0.5647\n",
      "Epoch 51/400\n",
      "31/31 [==============================] - 36s 1s/step - loss: 0.0340 - accuracy: 0.9994 - val_loss: 1.6806 - val_accuracy: 0.5848\n",
      "Epoch 52/400\n",
      "31/31 [==============================] - 36s 1s/step - loss: 0.0329 - accuracy: 0.9994 - val_loss: 1.6882 - val_accuracy: 0.5603\n",
      "Epoch 53/400\n",
      "31/31 [==============================] - 36s 1s/step - loss: 0.0292 - accuracy: 0.9983 - val_loss: 1.7603 - val_accuracy: 0.5580\n",
      "Epoch 54/400\n",
      "31/31 [==============================] - 36s 1s/step - loss: 0.0316 - accuracy: 0.9994 - val_loss: 1.8173 - val_accuracy: 0.5312\n",
      "Epoch 55/400\n",
      "31/31 [==============================] - 36s 1s/step - loss: 0.0250 - accuracy: 1.0000 - val_loss: 1.7091 - val_accuracy: 0.5670\n",
      "Epoch 56/400\n",
      "31/31 [==============================] - 36s 1s/step - loss: 0.0280 - accuracy: 0.9997 - val_loss: 1.7747 - val_accuracy: 0.5446\n",
      "Epoch 57/400\n",
      "31/31 [==============================] - 36s 1s/step - loss: 0.0244 - accuracy: 0.9999 - val_loss: 1.7784 - val_accuracy: 0.5513\n",
      "Epoch 58/400\n",
      "31/31 [==============================] - 35s 1s/step - loss: 0.0256 - accuracy: 0.9999 - val_loss: 1.8627 - val_accuracy: 0.5446\n",
      "Epoch 59/400\n",
      "31/31 [==============================] - 35s 1s/step - loss: 0.0259 - accuracy: 1.0000 - val_loss: 1.6723 - val_accuracy: 0.5804\n",
      "Epoch 60/400\n",
      "31/31 [==============================] - 36s 1s/step - loss: 0.0241 - accuracy: 1.0000 - val_loss: 1.7835 - val_accuracy: 0.5871\n",
      "Epoch 61/400\n",
      "31/31 [==============================] - 36s 1s/step - loss: 0.0222 - accuracy: 0.9999 - val_loss: 1.8883 - val_accuracy: 0.5290\n",
      "Epoch 62/400\n",
      "31/31 [==============================] - 35s 1s/step - loss: 0.0238 - accuracy: 1.0000 - val_loss: 2.1100 - val_accuracy: 0.5067\n",
      "Epoch 63/400\n",
      "31/31 [==============================] - 35s 1s/step - loss: 0.0196 - accuracy: 1.0000 - val_loss: 1.7393 - val_accuracy: 0.5714\n",
      "Epoch 64/400\n",
      "31/31 [==============================] - 35s 1s/step - loss: 0.0233 - accuracy: 1.0000 - val_loss: 1.8418 - val_accuracy: 0.5558\n",
      "Restoring model weights from the end of the best epoch.\n",
      "Epoch 00064: early stopping\n"
     ]
    }
   ],
   "source": [
    "history7 = model7.fit(\n",
    "    train_generator1,\n",
    "    epochs=EPOCHS,\n",
    "    validation_data=validation_generator1,\n",
    "    steps_per_epoch = train_generator1.samples // BATCH_SIZE,\n",
    "    validation_steps = validation_generator1.samples // BATCH_SIZE,\n",
    "    callbacks=[model_checkpoint_callback7, early_stopping_callback]\n",
    ")"
   ]
  },
  {
   "cell_type": "code",
   "execution_count": 20,
   "metadata": {
    "colab": {
     "base_uri": "https://localhost:8080/",
     "height": 295
    },
    "id": "XHtptUqK015r",
    "outputId": "5536459d-626f-41f8-c161-4d9af05866f9"
   },
   "outputs": [
    {
     "data": {
      "image/png": "[encoded data removed]",
      "text/plain": [
       "<Figure size 432x288 with 1 Axes>"
      ]
     },
     "metadata": {
      "needs_background": "light",
      "tags": []
     },
     "output_type": "display_data"
    }
   ],
   "source": [
    "plt.plot(history7.history['accuracy'])\n",
    "plt.plot(history7.history['val_accuracy'])\n",
    "plt.title('model accuracy')\n",
    "plt.ylabel('accuracy')\n",
    "plt.xlabel('epoch')\n",
    "plt.legend(['training', 'validation'], loc='best')\n",
    "plt.show()"
   ]
  },
  {
   "cell_type": "code",
   "execution_count": 21,
   "metadata": {
    "colab": {
     "base_uri": "https://localhost:8080/",
     "height": 295
    },
    "id": "SlTLI35X0vQT",
    "outputId": "2f62c552-7428-4b2f-8146-c29850339569"
   },
   "outputs": [
    {
     "data": {
      "image/png": "[encoded data removed]",
      "text/plain": [
       "<Figure size 432x288 with 1 Axes>"
      ]
     },
     "metadata": {
      "needs_background": "light",
      "tags": []
     },
     "output_type": "display_data"
    }
   ],
   "source": [
    "plt.plot(history7.history['loss'])\n",
    "plt.plot(history7.history['val_loss'])\n",
    "plt.title('model loss')\n",
    "plt.ylabel('loss')\n",
    "plt.xlabel('epoch')\n",
    "plt.legend(['training', 'validation'], loc='best')\n",
    "plt.show()"
   ]
  },
  {
   "cell_type": "markdown",
   "metadata": {
    "id": "lcPcnxHTYZC-"
   },
   "source": [
    "### Experiment 4: Changing the Model Architecture"
   ]
  },
  {
   "cell_type": "markdown",
   "metadata": {
    "id": "LgIGFOzMYosy"
   },
   "source": [
    "From ref. [1] and [2], I modify the architecture to see if it gives better results. This model actually gives very good results on the MNIST dataset."
   ]
  },
  {
   "cell_type": "code",
   "execution_count": null,
   "metadata": {
    "id": "MLtL7h06ZBnW"
   },
   "outputs": [],
   "source": [
    "model4 = Sequential()\n",
    "\n",
    "# 1st Convolution Layer\n",
    "model4.add(Conv2D(32, input_shape=(*IMAGE_SIZE, 1), kernel_size=3, activation=mish))\n",
    "model4.add(BatchNormalization())\n",
    "model4.add(Conv2D(32, kernel_size=3, activation=mish))\n",
    "model4.add(BatchNormalization())\n",
    "model4.add(Conv2D(32, kernel_size=5, strides=2, padding='same', activation=mish))\n",
    "model4.add(BatchNormalization())\n",
    "model4.add(Dropout(0.4))\n",
    "\n",
    "# 2nd Convolution Layer\n",
    "model4.add(Conv2D(64, kernel_size=3, activation=mish))\n",
    "model4.add(BatchNormalization())\n",
    "model4.add(Conv2D(64, kernel_size=3, activation=mish))\n",
    "model4.add(BatchNormalization())\n",
    "model4.add(Conv2D(64, kernel_size=5, strides=2, padding='same', activation=mish))\n",
    "model4.add(BatchNormalization())\n",
    "model4.add(Dropout(0.4))\n",
    "\n",
    "# 3rd Convolution Layer\n",
    "model4.add(Conv2D(128, kernel_size = 4, activation=mish))\n",
    "model4.add(BatchNormalization())\n",
    "\n",
    "# Passing to a Fully Connected Layer\n",
    "model4.add(Flatten())\n",
    "model4.add(Dropout(0.4))\n",
    "\n",
    "# Output Layer\n",
    "model4.add(Dense(62, activation='softmax'))"
   ]
  },
  {
   "cell_type": "code",
   "execution_count": null,
   "metadata": {
    "colab": {
     "base_uri": "https://localhost:8080/"
    },
    "id": "aISq2GZbae1D",
    "outputId": "68f0363e-a985-4a6d-c439-f04e8ae43f5d"
   },
   "outputs": [
    {
     "name": "stdout",
     "output_type": "stream",
     "text": [
      "Model: \"sequential_1\"\n",
      "_________________________________________________________________\n",
      "Layer (type)                 Output Shape              Param #   \n",
      "=================================================================\n",
      "conv2d_2 (Conv2D)            (None, 43, 58, 32)        320       \n",
      "_________________________________________________________________\n",
      "batch_normalization_4 (Batch (None, 43, 58, 32)        128       \n",
      "_________________________________________________________________\n",
      "conv2d_3 (Conv2D)            (None, 41, 56, 32)        9248      \n",
      "_________________________________________________________________\n",
      "batch_normalization_5 (Batch (None, 41, 56, 32)        128       \n",
      "_________________________________________________________________\n",
      "conv2d_4 (Conv2D)            (None, 21, 28, 32)        25632     \n",
      "_________________________________________________________________\n",
      "batch_normalization_6 (Batch (None, 21, 28, 32)        128       \n",
      "_________________________________________________________________\n",
      "dropout_2 (Dropout)          (None, 21, 28, 32)        0         \n",
      "_________________________________________________________________\n",
      "conv2d_5 (Conv2D)            (None, 19, 26, 64)        18496     \n",
      "_________________________________________________________________\n",
      "batch_normalization_7 (Batch (None, 19, 26, 64)        256       \n",
      "_________________________________________________________________\n",
      "conv2d_6 (Conv2D)            (None, 17, 24, 64)        36928     \n",
      "_________________________________________________________________\n",
      "batch_normalization_8 (Batch (None, 17, 24, 64)        256       \n",
      "_________________________________________________________________\n",
      "conv2d_7 (Conv2D)            (None, 9, 12, 64)         102464    \n",
      "_________________________________________________________________\n",
      "batch_normalization_9 (Batch (None, 9, 12, 64)         256       \n",
      "_________________________________________________________________\n",
      "dropout_3 (Dropout)          (None, 9, 12, 64)         0         \n",
      "_________________________________________________________________\n",
      "conv2d_8 (Conv2D)            (None, 6, 9, 128)         131200    \n",
      "_________________________________________________________________\n",
      "batch_normalization_10 (Batc (None, 6, 9, 128)         512       \n",
      "_________________________________________________________________\n",
      "flatten_1 (Flatten)          (None, 6912)              0         \n",
      "_________________________________________________________________\n",
      "dropout_4 (Dropout)          (None, 6912)              0         \n",
      "_________________________________________________________________\n",
      "dense_3 (Dense)              (None, 62)                428606    \n",
      "=================================================================\n",
      "Total params: 754,558\n",
      "Trainable params: 753,726\n",
      "Non-trainable params: 832\n",
      "_________________________________________________________________\n"
     ]
    }
   ],
   "source": [
    "model4.summary()"
   ]
  },
  {
   "cell_type": "code",
   "execution_count": null,
   "metadata": {
    "id": "2yL26QMsagvn"
   },
   "outputs": [],
   "source": [
    "model4.compile(loss='categorical_crossentropy', optimizer=Adam(), metrics=['accuracy'])"
   ]
  },
  {
   "cell_type": "markdown",
   "metadata": {
    "id": "n_I2GQxsao7h"
   },
   "source": [
    "Saving the Checkpoint"
   ]
  },
  {
   "cell_type": "code",
   "execution_count": null,
   "metadata": {
    "id": "CjHVXw7Wa3UF"
   },
   "outputs": [],
   "source": [
    "checkpoint_filepath4 = 'exp4/checkpoint'\n",
    "model_checkpoint_callback4 = tf.keras.callbacks.ModelCheckpoint(\n",
    "    filepath=checkpoint_filepath4,\n",
    "    save_weights_only=True,\n",
    "    monitor='val_loss',\n",
    "    mode='min',\n",
    "    save_best_only=True)"
   ]
  },
  {
   "cell_type": "code",
   "execution_count": null,
   "metadata": {
    "colab": {
     "base_uri": "https://localhost:8080/"
    },
    "id": "cHwXnGVia1Cr",
    "outputId": "e4f4eec1-57d0-4f74-fba0-5fb291d8f9f3"
   },
   "outputs": [
    {
     "name": "stdout",
     "output_type": "stream",
     "text": [
      "Epoch 1/400\n",
      "31/31 [==============================] - 32s 1s/step - loss: 5.3313 - accuracy: 0.0398 - val_loss: 4.6788 - val_accuracy: 0.0156\n",
      "Epoch 2/400\n",
      "31/31 [==============================] - 30s 979ms/step - loss: 3.1859 - accuracy: 0.2657 - val_loss: 5.6807 - val_accuracy: 0.0179\n",
      "Epoch 3/400\n",
      "31/31 [==============================] - 30s 979ms/step - loss: 2.0750 - accuracy: 0.4680 - val_loss: 6.7425 - val_accuracy: 0.0156\n",
      "Epoch 4/400\n",
      "31/31 [==============================] - 30s 974ms/step - loss: 1.4255 - accuracy: 0.6142 - val_loss: 5.9356 - val_accuracy: 0.0201\n",
      "Epoch 5/400\n",
      "31/31 [==============================] - 30s 974ms/step - loss: 1.0759 - accuracy: 0.6824 - val_loss: 5.0072 - val_accuracy: 0.0357\n",
      "Epoch 6/400\n",
      "31/31 [==============================] - 30s 983ms/step - loss: 0.7809 - accuracy: 0.7552 - val_loss: 5.1140 - val_accuracy: 0.0446\n",
      "Epoch 7/400\n",
      "31/31 [==============================] - 30s 973ms/step - loss: 0.5856 - accuracy: 0.8184 - val_loss: 9.4351 - val_accuracy: 0.0268\n",
      "Epoch 8/400\n",
      "31/31 [==============================] - 30s 975ms/step - loss: 0.4152 - accuracy: 0.8653 - val_loss: 10.7215 - val_accuracy: 0.0379\n",
      "Epoch 9/400\n",
      "31/31 [==============================] - 30s 973ms/step - loss: 0.3180 - accuracy: 0.8919 - val_loss: 17.2575 - val_accuracy: 0.0179\n",
      "Epoch 10/400\n",
      "31/31 [==============================] - 30s 976ms/step - loss: 0.2462 - accuracy: 0.9311 - val_loss: 15.8880 - val_accuracy: 0.0246\n",
      "Epoch 11/400\n",
      "31/31 [==============================] - 30s 977ms/step - loss: 0.2204 - accuracy: 0.9266 - val_loss: 19.3261 - val_accuracy: 0.0156\n",
      "Epoch 12/400\n",
      "31/31 [==============================] - 30s 976ms/step - loss: 0.2188 - accuracy: 0.9283 - val_loss: 23.3252 - val_accuracy: 0.0179\n",
      "Epoch 13/400\n",
      "31/31 [==============================] - 30s 982ms/step - loss: 0.1608 - accuracy: 0.9534 - val_loss: 17.8566 - val_accuracy: 0.0491\n",
      "Epoch 14/400\n",
      "31/31 [==============================] - 30s 977ms/step - loss: 0.1251 - accuracy: 0.9622 - val_loss: 20.5541 - val_accuracy: 0.0335\n",
      "Epoch 15/400\n",
      "31/31 [==============================] - 30s 973ms/step - loss: 0.1106 - accuracy: 0.9626 - val_loss: 21.3762 - val_accuracy: 0.0357\n",
      "Epoch 16/400\n",
      "31/31 [==============================] - 30s 986ms/step - loss: 0.1038 - accuracy: 0.9697 - val_loss: 21.3300 - val_accuracy: 0.0402\n",
      "Epoch 17/400\n",
      "31/31 [==============================] - 30s 977ms/step - loss: 0.0934 - accuracy: 0.9725 - val_loss: 14.5734 - val_accuracy: 0.0647\n",
      "Epoch 18/400\n",
      "31/31 [==============================] - 30s 977ms/step - loss: 0.1067 - accuracy: 0.9654 - val_loss: 15.8007 - val_accuracy: 0.0647\n",
      "Epoch 19/400\n",
      "31/31 [==============================] - 30s 982ms/step - loss: 0.0960 - accuracy: 0.9675 - val_loss: 4.3696 - val_accuracy: 0.3527\n",
      "Epoch 20/400\n",
      "31/31 [==============================] - 30s 975ms/step - loss: 0.0761 - accuracy: 0.9714 - val_loss: 4.5411 - val_accuracy: 0.3281\n",
      "Epoch 21/400\n",
      "31/31 [==============================] - 30s 974ms/step - loss: 0.0832 - accuracy: 0.9721 - val_loss: 5.5686 - val_accuracy: 0.3013\n",
      "Epoch 22/400\n",
      "31/31 [==============================] - 30s 979ms/step - loss: 0.0728 - accuracy: 0.9794 - val_loss: 2.6852 - val_accuracy: 0.5156\n",
      "Epoch 23/400\n",
      "31/31 [==============================] - 30s 981ms/step - loss: 0.0759 - accuracy: 0.9789 - val_loss: 2.4136 - val_accuracy: 0.5402\n",
      "Epoch 24/400\n",
      "31/31 [==============================] - 30s 978ms/step - loss: 0.0938 - accuracy: 0.9717 - val_loss: 2.8570 - val_accuracy: 0.5290\n",
      "Epoch 25/400\n",
      "31/31 [==============================] - 30s 975ms/step - loss: 0.0530 - accuracy: 0.9822 - val_loss: 3.1094 - val_accuracy: 0.4911\n",
      "Epoch 26/400\n",
      "31/31 [==============================] - 30s 983ms/step - loss: 0.0754 - accuracy: 0.9716 - val_loss: 6.1126 - val_accuracy: 0.3058\n",
      "Epoch 27/400\n",
      "31/31 [==============================] - 30s 986ms/step - loss: 0.0537 - accuracy: 0.9881 - val_loss: 6.9506 - val_accuracy: 0.2879\n",
      "Epoch 28/400\n",
      "31/31 [==============================] - 30s 974ms/step - loss: 0.0515 - accuracy: 0.9836 - val_loss: 3.5170 - val_accuracy: 0.4799\n",
      "Epoch 29/400\n",
      "31/31 [==============================] - 30s 979ms/step - loss: 0.0497 - accuracy: 0.9872 - val_loss: 2.5949 - val_accuracy: 0.5580\n",
      "Epoch 30/400\n",
      "31/31 [==============================] - 30s 979ms/step - loss: 0.0498 - accuracy: 0.9833 - val_loss: 3.3020 - val_accuracy: 0.5000\n",
      "Epoch 31/400\n",
      "31/31 [==============================] - 30s 977ms/step - loss: 0.0497 - accuracy: 0.9860 - val_loss: 3.3340 - val_accuracy: 0.5112\n",
      "Epoch 32/400\n",
      "31/31 [==============================] - 30s 977ms/step - loss: 0.0562 - accuracy: 0.9750 - val_loss: 4.6205 - val_accuracy: 0.3906\n",
      "Epoch 33/400\n",
      "31/31 [==============================] - 30s 980ms/step - loss: 0.0493 - accuracy: 0.9863 - val_loss: 6.2758 - val_accuracy: 0.3259\n",
      "Epoch 34/400\n",
      "31/31 [==============================] - 30s 978ms/step - loss: 0.0728 - accuracy: 0.9810 - val_loss: 3.7161 - val_accuracy: 0.4286\n",
      "Epoch 35/400\n",
      "31/31 [==============================] - 30s 979ms/step - loss: 0.0449 - accuracy: 0.9850 - val_loss: 2.7671 - val_accuracy: 0.5670\n",
      "Epoch 36/400\n",
      "31/31 [==============================] - 30s 982ms/step - loss: 0.0508 - accuracy: 0.9801 - val_loss: 5.3039 - val_accuracy: 0.3772\n",
      "Epoch 37/400\n",
      "31/31 [==============================] - 30s 986ms/step - loss: 0.0696 - accuracy: 0.9793 - val_loss: 5.5649 - val_accuracy: 0.3504\n",
      "Epoch 38/400\n",
      "31/31 [==============================] - 30s 977ms/step - loss: 0.0804 - accuracy: 0.9757 - val_loss: 10.8941 - val_accuracy: 0.2522\n",
      "Epoch 39/400\n",
      "31/31 [==============================] - 30s 976ms/step - loss: 0.0624 - accuracy: 0.9783 - val_loss: 3.6520 - val_accuracy: 0.4799\n",
      "Epoch 40/400\n",
      "31/31 [==============================] - 30s 973ms/step - loss: 0.0436 - accuracy: 0.9890 - val_loss: 5.3549 - val_accuracy: 0.3906\n",
      "Epoch 41/400\n",
      "31/31 [==============================] - 30s 976ms/step - loss: 0.0637 - accuracy: 0.9812 - val_loss: 5.9832 - val_accuracy: 0.3594\n",
      "Epoch 42/400\n",
      "31/31 [==============================] - 30s 976ms/step - loss: 0.0414 - accuracy: 0.9890 - val_loss: 5.8161 - val_accuracy: 0.3326\n",
      "Epoch 43/400\n",
      "31/31 [==============================] - 30s 978ms/step - loss: 0.0526 - accuracy: 0.9824 - val_loss: 6.0260 - val_accuracy: 0.3415\n",
      "Restoring model weights from the end of the best epoch.\n",
      "Epoch 00043: early stopping\n"
     ]
    }
   ],
   "source": [
    "history4 = model4.fit(\n",
    "    train_generator1,\n",
    "    epochs=EPOCHS,\n",
    "    validation_data=validation_generator1,\n",
    "    steps_per_epoch = train_generator1.samples // BATCH_SIZE,\n",
    "    validation_steps = validation_generator1.samples // BATCH_SIZE,\n",
    "    callbacks=[model_checkpoint_callback4, early_stopping_callback]\n",
    ")"
   ]
  },
  {
   "cell_type": "code",
   "execution_count": null,
   "metadata": {
    "colab": {
     "base_uri": "https://localhost:8080/",
     "height": 295
    },
    "id": "aLt7Y-3eay0x",
    "outputId": "5f8ff8e1-0106-4807-ce70-89a1d55c1e91"
   },
   "outputs": [
    {
     "data": {
      "image/png": "[encoded data removed]",
      "text/plain": [
       "<Figure size 432x288 with 1 Axes>"
      ]
     },
     "metadata": {
      "needs_background": "light",
      "tags": []
     },
     "output_type": "display_data"
    }
   ],
   "source": [
    "plt.plot(history4.history['accuracy'])\n",
    "plt.plot(history4.history['val_accuracy'])\n",
    "plt.title('model accuracy')\n",
    "plt.ylabel('accuracy')\n",
    "plt.xlabel('epoch')\n",
    "plt.legend(['training', 'validation'], loc='best')\n",
    "plt.show()"
   ]
  },
  {
   "cell_type": "code",
   "execution_count": null,
   "metadata": {
    "colab": {
     "base_uri": "https://localhost:8080/",
     "height": 295
    },
    "id": "FIrowmRyanSr",
    "outputId": "c1323100-abd2-4e43-b4da-8d7246160c0e"
   },
   "outputs": [
    {
     "data": {
      "image/png": "[encoded data removed]",
      "text/plain": [
       "<Figure size 432x288 with 1 Axes>"
      ]
     },
     "metadata": {
      "needs_background": "light",
      "tags": []
     },
     "output_type": "display_data"
    }
   ],
   "source": [
    "plt.plot(history4.history['loss'])\n",
    "plt.plot(history4.history['val_loss'])\n",
    "plt.title('model loss')\n",
    "plt.ylabel('loss')\n",
    "plt.xlabel('epoch')\n",
    "plt.legend(['training', 'validation'], loc='best')\n",
    "plt.show()"
   ]
  },
  {
   "cell_type": "markdown",
   "metadata": {
    "id": "scPYLCbYkQ0r"
   },
   "source": [
    "This is is actually worse than all other experiments we have done so far. Though the training accuracy converges fast, the validation accuracy and loss have too much variance."
   ]
  },
  {
   "cell_type": "markdown",
   "metadata": {
    "id": "rZwpVNUxkFk3"
   },
   "source": [
    "### Experiment 5: Changing the Model Architecture even further: Using Efficientnet"
   ]
  },
  {
   "cell_type": "markdown",
   "metadata": {
    "id": "qgEsDXVZe71F"
   },
   "source": [
    "Effecient Net is being used a lot nowdays so, I'll see how this architecture works for this dataset. I don't have very high hopes for this because:\n",
    "1. We are not using pre-trained weights\n",
    "2. We don't have a large trainign data\n",
    "\n",
    "But I'll still give it a try to see how it does."
   ]
  },
  {
   "cell_type": "markdown",
   "metadata": {
    "id": "QuTQjwWd0DyS"
   },
   "source": [
    "For this EfficientNet Model, I would use Early Stopping with larger patience value. This is so because the Keras Website says\n",
    "\n",
    "> \"Note: the accuracy will increase very slowly and may overfit.\"\n",
    "\n",
    "on Training a model with EfficientNet from scratch.\n"
   ]
  },
  {
   "cell_type": "markdown",
   "metadata": {
    "id": "BodJXMVvlYCw"
   },
   "source": [
    "Saving the Checkpoint"
   ]
  },
  {
   "cell_type": "code",
   "execution_count": null,
   "metadata": {
    "id": "kui7Dgk7lUwt"
   },
   "outputs": [],
   "source": [
    "checkpoint_filepath5 = 'exp5/checkpoint'\n",
    "model_checkpoint_callback5 = tf.keras.callbacks.ModelCheckpoint(\n",
    "    filepath=checkpoint_filepath5,\n",
    "    save_weights_only=True,\n",
    "    monitor='val_loss',\n",
    "    mode='min',\n",
    "    save_best_only=True)"
   ]
  },
  {
   "cell_type": "markdown",
   "metadata": {
    "id": "SascTQsatoYi"
   },
   "source": [
    "Early Stopping Callback"
   ]
  },
  {
   "cell_type": "code",
   "execution_count": null,
   "metadata": {
    "id": "PZ3dnK7ktr1H"
   },
   "outputs": [],
   "source": [
    "early_stopping_callback2 = tf.keras.callbacks.EarlyStopping(\n",
    "    monitor='val_loss',\n",
    "    mode='min',\n",
    "    patience=100,\n",
    "    restore_best_weights=True,\n",
    "    verbose=1)"
   ]
  },
  {
   "cell_type": "code",
   "execution_count": null,
   "metadata": {
    "colab": {
     "base_uri": "https://localhost:8080/"
    },
    "id": "s12YWe6Mkbtz",
    "outputId": "467aef73-df34-4410-d3bf-537262eef84b"
   },
   "outputs": [
    {
     "name": "stdout",
     "output_type": "stream",
     "text": [
      "Model: \"model_7\"\n",
      "_________________________________________________________________\n",
      "Layer (type)                 Output Shape              Param #   \n",
      "=================================================================\n",
      "input_19 (InputLayer)        [(None, 45, 60, 1)]       0         \n",
      "_________________________________________________________________\n",
      "efficientnetb0 (Functional)  (None, 2, 2, 1280)        4048991   \n",
      "_________________________________________________________________\n",
      "avg_pool (GlobalAveragePooli (None, 1280)              0         \n",
      "_________________________________________________________________\n",
      "top_dropout (Dropout)        (None, 1280)              0         \n",
      "_________________________________________________________________\n",
      "predictions (Dense)          (None, 62)                79422     \n",
      "=================================================================\n",
      "Total params: 4,128,413\n",
      "Trainable params: 4,086,394\n",
      "Non-trainable params: 42,019\n",
      "_________________________________________________________________\n"
     ]
    }
   ],
   "source": [
    "from tensorflow.keras.applications import EfficientNetB0\n",
    "\n",
    "# Initializer taken from the source code\n",
    "DENSE_KERNEL_INITIALIZER = {\n",
    "    'class_name': 'VarianceScaling',\n",
    "    'config': {\n",
    "        'scale': 1. / 3.,\n",
    "        'mode': 'fan_out',\n",
    "        'distribution': 'uniform'\n",
    "    }\n",
    "}\n",
    "\n",
    "# Input Layer\n",
    "inputs = tf.keras.layers.Input(shape=(*IMAGE_SIZE, 1))\n",
    "\n",
    "# Efficient layer except the top layer\n",
    "x = EfficientNetB0(include_top=False, weights=None,\n",
    "    input_shape=(*IMAGE_SIZE, 1))(inputs)\n",
    "\n",
    "# Top\n",
    "\n",
    "# Global Average Pooling Layer\n",
    "x = tf.keras.layers.GlobalAveragePooling2D(name='avg_pool')(x)\n",
    "x = tf.keras.layers.Dropout(0.4, name='top_dropout')(x)\n",
    "\n",
    "# Output Layer\n",
    "outputs = tf.keras.layers.Dense(62,\n",
    "    activation='softmax',\n",
    "    kernel_initializer=DENSE_KERNEL_INITIALIZER,\n",
    "    name='predictions')(x)\n",
    "\n",
    "model5 = tf.keras.Model(inputs, outputs)\n",
    "\n",
    "model5.compile(\n",
    "    optimizer=\"adam\", loss=\"categorical_crossentropy\", metrics=[\"accuracy\"]\n",
    ")\n",
    "\n",
    "model5.summary()"
   ]
  },
  {
   "cell_type": "code",
   "execution_count": null,
   "metadata": {
    "colab": {
     "base_uri": "https://localhost:8080/"
    },
    "id": "cvfxH00flDfY",
    "outputId": "eca7eb5e-6c27-4949-fc0e-2e9494f6398c"
   },
   "outputs": [
    {
     "name": "stdout",
     "output_type": "stream",
     "text": [
      "Epoch 1/400\n",
      "31/31 [==============================] - 42s 1s/step - loss: 4.9151 - accuracy: 0.0201 - val_loss: 4.1315 - val_accuracy: 0.0179\n",
      "Epoch 2/400\n",
      "31/31 [==============================] - 32s 1s/step - loss: 4.4224 - accuracy: 0.0468 - val_loss: 4.1495 - val_accuracy: 0.0156\n",
      "Epoch 3/400\n",
      "31/31 [==============================] - 32s 1s/step - loss: 4.2469 - accuracy: 0.0709 - val_loss: 4.1952 - val_accuracy: 0.0179\n",
      "Epoch 4/400\n",
      "31/31 [==============================] - 32s 1s/step - loss: 3.8510 - accuracy: 0.1198 - val_loss: 4.2058 - val_accuracy: 0.0134\n",
      "Epoch 5/400\n",
      "31/31 [==============================] - 32s 1s/step - loss: 3.4325 - accuracy: 0.2088 - val_loss: 4.2741 - val_accuracy: 0.0156\n",
      "Epoch 6/400\n",
      "31/31 [==============================] - 32s 1s/step - loss: 2.8368 - accuracy: 0.3269 - val_loss: 4.3717 - val_accuracy: 0.0179\n",
      "Epoch 7/400\n",
      "31/31 [==============================] - 32s 1s/step - loss: 2.2589 - accuracy: 0.4527 - val_loss: 4.7584 - val_accuracy: 0.0156\n",
      "Epoch 8/400\n",
      "31/31 [==============================] - 32s 1s/step - loss: 1.6094 - accuracy: 0.5704 - val_loss: 5.0353 - val_accuracy: 0.0134\n",
      "Epoch 9/400\n",
      "31/31 [==============================] - 32s 1s/step - loss: 1.2984 - accuracy: 0.6688 - val_loss: 5.7188 - val_accuracy: 0.0179\n",
      "Epoch 10/400\n",
      "31/31 [==============================] - 32s 1s/step - loss: 0.9605 - accuracy: 0.7401 - val_loss: 6.1509 - val_accuracy: 0.0156\n",
      "Epoch 11/400\n",
      "31/31 [==============================] - 32s 1s/step - loss: 0.7479 - accuracy: 0.7929 - val_loss: 6.6623 - val_accuracy: 0.0156\n",
      "Epoch 12/400\n",
      "31/31 [==============================] - 32s 1s/step - loss: 0.6724 - accuracy: 0.7995 - val_loss: 7.3675 - val_accuracy: 0.0156\n",
      "Epoch 13/400\n",
      "31/31 [==============================] - 32s 1s/step - loss: 0.6412 - accuracy: 0.8292 - val_loss: 8.9104 - val_accuracy: 0.0156\n",
      "Epoch 14/400\n",
      "31/31 [==============================] - 32s 1s/step - loss: 0.4667 - accuracy: 0.8784 - val_loss: 8.4325 - val_accuracy: 0.0179\n",
      "Epoch 15/400\n",
      "31/31 [==============================] - 32s 1s/step - loss: 0.4531 - accuracy: 0.8752 - val_loss: 8.1772 - val_accuracy: 0.0156\n",
      "Epoch 16/400\n",
      "31/31 [==============================] - 32s 1s/step - loss: 0.4186 - accuracy: 0.8964 - val_loss: 8.1100 - val_accuracy: 0.0179\n",
      "Epoch 17/400\n",
      "31/31 [==============================] - 32s 1s/step - loss: 0.4693 - accuracy: 0.8748 - val_loss: 6.7461 - val_accuracy: 0.0268\n",
      "Epoch 18/400\n",
      "31/31 [==============================] - 32s 1s/step - loss: 0.4318 - accuracy: 0.8759 - val_loss: 6.5141 - val_accuracy: 0.0179\n",
      "Epoch 19/400\n",
      "31/31 [==============================] - 32s 1s/step - loss: 0.4297 - accuracy: 0.8865 - val_loss: 8.9487 - val_accuracy: 0.0223\n",
      "Epoch 20/400\n",
      "31/31 [==============================] - 32s 1s/step - loss: 0.3713 - accuracy: 0.8911 - val_loss: 9.2894 - val_accuracy: 0.0179\n",
      "Epoch 21/400\n",
      "31/31 [==============================] - 32s 1s/step - loss: 0.4135 - accuracy: 0.8883 - val_loss: 9.7851 - val_accuracy: 0.0179\n",
      "Epoch 22/400\n",
      "31/31 [==============================] - 32s 1s/step - loss: 0.3804 - accuracy: 0.8952 - val_loss: 8.2647 - val_accuracy: 0.0246\n",
      "Epoch 23/400\n",
      "31/31 [==============================] - 32s 1s/step - loss: 0.2838 - accuracy: 0.9314 - val_loss: 6.5974 - val_accuracy: 0.0491\n",
      "Epoch 24/400\n",
      "31/31 [==============================] - 32s 1s/step - loss: 0.2819 - accuracy: 0.9231 - val_loss: 7.7193 - val_accuracy: 0.0424\n",
      "Epoch 25/400\n",
      "31/31 [==============================] - 32s 1s/step - loss: 0.2607 - accuracy: 0.9325 - val_loss: 6.6000 - val_accuracy: 0.1183\n",
      "Epoch 26/400\n",
      "31/31 [==============================] - 32s 1s/step - loss: 0.2471 - accuracy: 0.9353 - val_loss: 5.7006 - val_accuracy: 0.1518\n",
      "Epoch 27/400\n",
      "31/31 [==============================] - 32s 1s/step - loss: 0.2334 - accuracy: 0.9373 - val_loss: 5.6679 - val_accuracy: 0.1830\n",
      "Epoch 28/400\n",
      "31/31 [==============================] - 32s 1s/step - loss: 0.2431 - accuracy: 0.9280 - val_loss: 5.2927 - val_accuracy: 0.1920\n",
      "Epoch 29/400\n",
      "31/31 [==============================] - 32s 1s/step - loss: 0.2262 - accuracy: 0.9401 - val_loss: 5.1008 - val_accuracy: 0.2366\n",
      "Epoch 30/400\n",
      "31/31 [==============================] - 32s 1s/step - loss: 0.2060 - accuracy: 0.9410 - val_loss: 5.3950 - val_accuracy: 0.2143\n",
      "Epoch 31/400\n",
      "31/31 [==============================] - 32s 1s/step - loss: 0.1982 - accuracy: 0.9356 - val_loss: 6.5190 - val_accuracy: 0.1585\n",
      "Epoch 32/400\n",
      "31/31 [==============================] - 32s 1s/step - loss: 0.2223 - accuracy: 0.9415 - val_loss: 5.8759 - val_accuracy: 0.2009\n",
      "Epoch 33/400\n",
      "31/31 [==============================] - 32s 1s/step - loss: 0.1850 - accuracy: 0.9443 - val_loss: 5.5675 - val_accuracy: 0.2076\n",
      "Epoch 34/400\n",
      "31/31 [==============================] - 32s 1s/step - loss: 0.1874 - accuracy: 0.9465 - val_loss: 5.6272 - val_accuracy: 0.2188\n",
      "Epoch 35/400\n",
      "31/31 [==============================] - 32s 1s/step - loss: 0.2202 - accuracy: 0.9338 - val_loss: 5.9353 - val_accuracy: 0.1987\n",
      "Epoch 36/400\n",
      "31/31 [==============================] - 32s 1s/step - loss: 0.2147 - accuracy: 0.9442 - val_loss: 6.0334 - val_accuracy: 0.1830\n",
      "Epoch 37/400\n",
      "31/31 [==============================] - 32s 1s/step - loss: 0.2092 - accuracy: 0.9382 - val_loss: 6.3359 - val_accuracy: 0.2188\n",
      "Epoch 38/400\n",
      "31/31 [==============================] - 32s 1s/step - loss: 0.2211 - accuracy: 0.9304 - val_loss: 5.9970 - val_accuracy: 0.2098\n",
      "Epoch 39/400\n",
      "31/31 [==============================] - 32s 1s/step - loss: 0.1915 - accuracy: 0.9412 - val_loss: 6.3312 - val_accuracy: 0.2143\n",
      "Epoch 40/400\n",
      "31/31 [==============================] - 32s 1s/step - loss: 0.2200 - accuracy: 0.9326 - val_loss: 6.4238 - val_accuracy: 0.2143\n",
      "Epoch 41/400\n",
      "31/31 [==============================] - 32s 1s/step - loss: 0.2278 - accuracy: 0.9385 - val_loss: 6.2502 - val_accuracy: 0.2031\n",
      "Epoch 42/400\n",
      "31/31 [==============================] - 32s 1s/step - loss: 0.2487 - accuracy: 0.9292 - val_loss: 5.7950 - val_accuracy: 0.2522\n",
      "Epoch 43/400\n",
      "31/31 [==============================] - 32s 1s/step - loss: 0.2104 - accuracy: 0.9415 - val_loss: 5.5785 - val_accuracy: 0.2545\n",
      "Epoch 44/400\n",
      "31/31 [==============================] - 32s 1s/step - loss: 0.1827 - accuracy: 0.9417 - val_loss: 6.5161 - val_accuracy: 0.2455\n",
      "Epoch 45/400\n",
      "31/31 [==============================] - 32s 1s/step - loss: 0.1858 - accuracy: 0.9436 - val_loss: 6.1442 - val_accuracy: 0.2031\n",
      "Epoch 46/400\n",
      "31/31 [==============================] - 32s 1s/step - loss: 0.1728 - accuracy: 0.9513 - val_loss: 6.6339 - val_accuracy: 0.1786\n",
      "Epoch 47/400\n",
      "31/31 [==============================] - 32s 1s/step - loss: 0.1473 - accuracy: 0.9556 - val_loss: 5.2963 - val_accuracy: 0.2723\n",
      "Epoch 48/400\n",
      "31/31 [==============================] - 32s 1s/step - loss: 0.1677 - accuracy: 0.9508 - val_loss: 6.0020 - val_accuracy: 0.2433\n",
      "Epoch 49/400\n",
      "31/31 [==============================] - 32s 1s/step - loss: 0.2041 - accuracy: 0.9449 - val_loss: 5.8678 - val_accuracy: 0.2500\n",
      "Epoch 50/400\n",
      "31/31 [==============================] - 32s 1s/step - loss: 0.1601 - accuracy: 0.9616 - val_loss: 5.5817 - val_accuracy: 0.2522\n",
      "Epoch 51/400\n",
      "31/31 [==============================] - 32s 1s/step - loss: 0.1253 - accuracy: 0.9651 - val_loss: 5.5550 - val_accuracy: 0.2656\n",
      "Epoch 52/400\n",
      "31/31 [==============================] - 32s 1s/step - loss: 0.1480 - accuracy: 0.9604 - val_loss: 5.1319 - val_accuracy: 0.2589\n",
      "Epoch 53/400\n",
      "31/31 [==============================] - 32s 1s/step - loss: 0.1346 - accuracy: 0.9591 - val_loss: 5.7757 - val_accuracy: 0.2455\n",
      "Epoch 54/400\n",
      "31/31 [==============================] - 32s 1s/step - loss: 0.1710 - accuracy: 0.9507 - val_loss: 5.8126 - val_accuracy: 0.2612\n",
      "Epoch 55/400\n",
      "31/31 [==============================] - 32s 1s/step - loss: 0.1060 - accuracy: 0.9709 - val_loss: 5.4918 - val_accuracy: 0.2478\n",
      "Epoch 56/400\n",
      "31/31 [==============================] - 32s 1s/step - loss: 0.0894 - accuracy: 0.9723 - val_loss: 5.1332 - val_accuracy: 0.2589\n",
      "Epoch 57/400\n",
      "31/31 [==============================] - 32s 1s/step - loss: 0.0752 - accuracy: 0.9770 - val_loss: 5.1077 - val_accuracy: 0.2679\n",
      "Epoch 58/400\n",
      "31/31 [==============================] - 32s 1s/step - loss: 0.1364 - accuracy: 0.9625 - val_loss: 5.5382 - val_accuracy: 0.2321\n",
      "Epoch 59/400\n",
      "31/31 [==============================] - 32s 1s/step - loss: 0.0782 - accuracy: 0.9789 - val_loss: 5.3676 - val_accuracy: 0.2522\n",
      "Epoch 60/400\n",
      "31/31 [==============================] - 32s 1s/step - loss: 0.0827 - accuracy: 0.9771 - val_loss: 5.4748 - val_accuracy: 0.2835\n",
      "Epoch 61/400\n",
      "31/31 [==============================] - 32s 1s/step - loss: 0.0941 - accuracy: 0.9738 - val_loss: 5.1669 - val_accuracy: 0.2188\n",
      "Epoch 62/400\n",
      "31/31 [==============================] - 32s 1s/step - loss: 0.1117 - accuracy: 0.9675 - val_loss: 5.1975 - val_accuracy: 0.2656\n",
      "Epoch 63/400\n",
      "31/31 [==============================] - 31s 1s/step - loss: 0.0793 - accuracy: 0.9790 - val_loss: 5.4748 - val_accuracy: 0.2768\n",
      "Epoch 64/400\n",
      "31/31 [==============================] - 32s 1s/step - loss: 0.1675 - accuracy: 0.9548 - val_loss: 6.8398 - val_accuracy: 0.1875\n",
      "Epoch 65/400\n",
      "31/31 [==============================] - 32s 1s/step - loss: 0.1590 - accuracy: 0.9543 - val_loss: 6.5336 - val_accuracy: 0.2321\n",
      "Epoch 66/400\n",
      "31/31 [==============================] - 32s 1s/step - loss: 0.1743 - accuracy: 0.9508 - val_loss: 6.0277 - val_accuracy: 0.2522\n",
      "Epoch 67/400\n",
      "31/31 [==============================] - 33s 1s/step - loss: 0.1331 - accuracy: 0.9639 - val_loss: 5.5973 - val_accuracy: 0.2567\n",
      "Epoch 68/400\n",
      "31/31 [==============================] - 32s 1s/step - loss: 0.1496 - accuracy: 0.9551 - val_loss: 5.4199 - val_accuracy: 0.2522\n",
      "Epoch 69/400\n",
      "31/31 [==============================] - 32s 1s/step - loss: 0.1073 - accuracy: 0.9657 - val_loss: 5.3094 - val_accuracy: 0.2656\n",
      "Epoch 70/400\n",
      "31/31 [==============================] - 32s 1s/step - loss: 0.1745 - accuracy: 0.9510 - val_loss: 5.9611 - val_accuracy: 0.3080\n",
      "Epoch 71/400\n",
      "31/31 [==============================] - 32s 1s/step - loss: 0.1436 - accuracy: 0.9619 - val_loss: 6.7030 - val_accuracy: 0.2545\n",
      "Epoch 72/400\n",
      "31/31 [==============================] - 32s 1s/step - loss: 0.1382 - accuracy: 0.9589 - val_loss: 5.7207 - val_accuracy: 0.3058\n",
      "Epoch 73/400\n",
      "31/31 [==============================] - 32s 1s/step - loss: 0.1525 - accuracy: 0.9569 - val_loss: 5.5011 - val_accuracy: 0.2879\n",
      "Epoch 74/400\n",
      "31/31 [==============================] - 32s 1s/step - loss: 0.1293 - accuracy: 0.9704 - val_loss: 6.1242 - val_accuracy: 0.2299\n",
      "Epoch 75/400\n",
      "31/31 [==============================] - 32s 1s/step - loss: 0.1456 - accuracy: 0.9605 - val_loss: 5.5948 - val_accuracy: 0.2969\n",
      "Epoch 76/400\n",
      "31/31 [==============================] - 33s 1s/step - loss: 0.0789 - accuracy: 0.9792 - val_loss: 5.0845 - val_accuracy: 0.2991\n",
      "Epoch 77/400\n",
      "31/31 [==============================] - 33s 1s/step - loss: 0.1044 - accuracy: 0.9736 - val_loss: 5.4756 - val_accuracy: 0.3147\n",
      "Epoch 78/400\n",
      "31/31 [==============================] - 32s 1s/step - loss: 0.0819 - accuracy: 0.9782 - val_loss: 5.4632 - val_accuracy: 0.3326\n",
      "Epoch 79/400\n",
      "31/31 [==============================] - 32s 1s/step - loss: 0.1429 - accuracy: 0.9582 - val_loss: 5.0367 - val_accuracy: 0.2790\n",
      "Epoch 80/400\n",
      "31/31 [==============================] - 32s 1s/step - loss: 0.1364 - accuracy: 0.9656 - val_loss: 5.1341 - val_accuracy: 0.3036\n",
      "Epoch 81/400\n",
      "31/31 [==============================] - 32s 1s/step - loss: 0.0854 - accuracy: 0.9695 - val_loss: 5.0010 - val_accuracy: 0.2857\n",
      "Epoch 82/400\n",
      "31/31 [==============================] - 32s 1s/step - loss: 0.0764 - accuracy: 0.9776 - val_loss: 4.7405 - val_accuracy: 0.3304\n",
      "Epoch 83/400\n",
      "31/31 [==============================] - 32s 1s/step - loss: 0.0855 - accuracy: 0.9755 - val_loss: 5.2778 - val_accuracy: 0.2679\n",
      "Epoch 84/400\n",
      "31/31 [==============================] - 32s 1s/step - loss: 0.0981 - accuracy: 0.9753 - val_loss: 5.1260 - val_accuracy: 0.3013\n",
      "Epoch 85/400\n",
      "31/31 [==============================] - 32s 1s/step - loss: 0.0479 - accuracy: 0.9835 - val_loss: 4.8906 - val_accuracy: 0.3147\n",
      "Epoch 86/400\n",
      "31/31 [==============================] - 31s 1s/step - loss: 0.0572 - accuracy: 0.9886 - val_loss: 4.5963 - val_accuracy: 0.3371\n",
      "Epoch 87/400\n",
      "31/31 [==============================] - 31s 1s/step - loss: 0.0698 - accuracy: 0.9780 - val_loss: 4.7077 - val_accuracy: 0.3214\n",
      "Epoch 88/400\n",
      "31/31 [==============================] - 31s 1s/step - loss: 0.0604 - accuracy: 0.9848 - val_loss: 4.8737 - val_accuracy: 0.3304\n",
      "Epoch 89/400\n",
      "31/31 [==============================] - 31s 1s/step - loss: 0.0778 - accuracy: 0.9751 - val_loss: 4.8525 - val_accuracy: 0.3438\n",
      "Epoch 90/400\n",
      "31/31 [==============================] - 32s 1s/step - loss: 0.0640 - accuracy: 0.9795 - val_loss: 4.9865 - val_accuracy: 0.3281\n",
      "Epoch 91/400\n",
      "31/31 [==============================] - 32s 1s/step - loss: 0.0600 - accuracy: 0.9865 - val_loss: 4.9824 - val_accuracy: 0.3170\n",
      "Epoch 92/400\n",
      "31/31 [==============================] - 32s 1s/step - loss: 0.0794 - accuracy: 0.9811 - val_loss: 5.0791 - val_accuracy: 0.3438\n",
      "Epoch 93/400\n",
      "31/31 [==============================] - 31s 1s/step - loss: 0.0570 - accuracy: 0.9834 - val_loss: 5.2380 - val_accuracy: 0.3281\n",
      "Epoch 94/400\n",
      "31/31 [==============================] - 31s 1s/step - loss: 0.1120 - accuracy: 0.9740 - val_loss: 6.1203 - val_accuracy: 0.2500\n",
      "Epoch 95/400\n",
      "31/31 [==============================] - 32s 1s/step - loss: 0.0696 - accuracy: 0.9751 - val_loss: 5.0995 - val_accuracy: 0.3103\n",
      "Epoch 96/400\n",
      "31/31 [==============================] - 32s 1s/step - loss: 0.0898 - accuracy: 0.9723 - val_loss: 5.0952 - val_accuracy: 0.3326\n",
      "Epoch 97/400\n",
      "31/31 [==============================] - 32s 1s/step - loss: 0.1033 - accuracy: 0.9724 - val_loss: 5.6316 - val_accuracy: 0.3147\n",
      "Epoch 98/400\n",
      "31/31 [==============================] - 32s 1s/step - loss: 0.0979 - accuracy: 0.9698 - val_loss: 5.4321 - val_accuracy: 0.3237\n",
      "Epoch 99/400\n",
      "31/31 [==============================] - 32s 1s/step - loss: 0.0772 - accuracy: 0.9730 - val_loss: 5.2021 - val_accuracy: 0.3192\n",
      "Epoch 100/400\n",
      "31/31 [==============================] - 32s 1s/step - loss: 0.0845 - accuracy: 0.9761 - val_loss: 5.2520 - val_accuracy: 0.3281\n",
      "Epoch 101/400\n",
      "31/31 [==============================] - 32s 1s/step - loss: 0.0814 - accuracy: 0.9800 - val_loss: 5.7342 - val_accuracy: 0.2812\n",
      "Restoring model weights from the end of the best epoch.\n",
      "Epoch 00101: early stopping\n"
     ]
    }
   ],
   "source": [
    "history5 = model5.fit(\n",
    "    train_generator1,\n",
    "    epochs=EPOCHS,\n",
    "    validation_data=validation_generator1,\n",
    "    steps_per_epoch = train_generator1.samples // BATCH_SIZE,\n",
    "    validation_steps = validation_generator1.samples // BATCH_SIZE,\n",
    "    callbacks=[model_checkpoint_callback5, early_stopping_callback2]\n",
    ")"
   ]
  },
  {
   "cell_type": "code",
   "execution_count": null,
   "metadata": {
    "colab": {
     "base_uri": "https://localhost:8080/",
     "height": 573
    },
    "id": "FoGI9bpbpka6",
    "outputId": "f2456ca8-5a23-41f0-e909-205687a26fec"
   },
   "outputs": [
    {
     "data": {
      "image/png": "[encoded data removed]",
      "text/plain": [
       "<Figure size 432x288 with 1 Axes>"
      ]
     },
     "metadata": {
      "needs_background": "light",
      "tags": []
     },
     "output_type": "display_data"
    },
    {
     "data": {
      "image/png": "[encoded data removed]",
      "text/plain": [
       "<Figure size 432x288 with 1 Axes>"
      ]
     },
     "metadata": {
      "needs_background": "light",
      "tags": []
     },
     "output_type": "display_data"
    }
   ],
   "source": [
    "plt.plot(history5.history['accuracy'])\n",
    "plt.plot(history5.history['val_accuracy'])\n",
    "plt.title('model accuracy')\n",
    "plt.ylabel('accuracy')\n",
    "plt.xlabel('epoch')\n",
    "plt.legend(['training', 'validation'], loc='best')\n",
    "plt.show()"
   ]
  },
  {
   "cell_type": "code",
   "execution_count": null,
   "metadata": {
    "colab": {
     "base_uri": "https://localhost:8080/",
     "height": 573
    },
    "id": "9SEDqMfLpkF1",
    "outputId": "4a625b63-88d7-455a-adba-fdb7d9c3e440"
   },
   "outputs": [
    {
     "data": {
      "image/png": "[encoded data removed]",
      "text/plain": [
       "<Figure size 432x288 with 1 Axes>"
      ]
     },
     "metadata": {
      "needs_background": "light",
      "tags": []
     },
     "output_type": "display_data"
    },
    {
     "data": {
      "image/png": "[encoded data removed]",
      "text/plain": [
       "<Figure size 432x288 with 1 Axes>"
      ]
     },
     "metadata": {
      "needs_background": "light",
      "tags": []
     },
     "output_type": "display_data"
    }
   ],
   "source": [
    "plt.plot(history5.history['loss'])\n",
    "plt.plot(history5.history['val_loss'])\n",
    "plt.title('model loss')\n",
    "plt.ylabel('loss')\n",
    "plt.xlabel('epoch')\n",
    "plt.legend(['training', 'validation'], loc='best')\n",
    "plt.show()"
   ]
  },
  {
   "cell_type": "markdown",
   "metadata": {
    "id": "g6MReuaIe71Q"
   },
   "source": [
    "As expected, this does not converge. Infact, it's not even reaching a 50% accuracy. This accuracy result is similar to the one shown in ref. [6] [here](https://keras.io/img/examples/vision/image_classification_efficientnet_fine_tuning/image_classification_efficientnet_fine_tuning_20_0.png)."
   ]
  },
  {
   "cell_type": "markdown",
   "metadata": {
    "id": "Ra3NyJrxgB7J"
   },
   "source": [
    "### Experiment 6: Reducing Batch Size"
   ]
  },
  {
   "cell_type": "markdown",
   "metadata": {
    "id": "VwfojF_DgQP3"
   },
   "source": [
    "Smaller batch sizes tend to converge faster [12]. Hence, I'll reduce the batch size to 32 to see the performance. I'll use the two best models I have achieved form the past experiments 3 and 4."
   ]
  },
  {
   "cell_type": "markdown",
   "metadata": {
    "id": "5RyxkV-CiyWZ"
   },
   "source": [
    "#### Architecture from Experiment 3"
   ]
  },
  {
   "cell_type": "code",
   "execution_count": null,
   "metadata": {
    "id": "X1x9PUPGgHjm"
   },
   "outputs": [],
   "source": [
    "BATCH_SIZE = 32"
   ]
  },
  {
   "cell_type": "code",
   "execution_count": null,
   "metadata": {
    "colab": {
     "base_uri": "https://localhost:8080/"
    },
    "id": "3AA1MBdoiSgw",
    "outputId": "28a36dbd-d294-4221-f946-e4018381942f"
   },
   "outputs": [
    {
     "name": "stdout",
     "output_type": "stream",
     "text": [
      "Found 1984 images belonging to 62 classes.\n",
      "Found 496 images belonging to 62 classes.\n"
     ]
    }
   ],
   "source": [
    "train_generator3 = train_datagen1.flow_from_directory(\n",
    "        '../input/trainpart1zip/train',\n",
    "        target_size=IMAGE_SIZE,\n",
    "        batch_size=BATCH_SIZE,\n",
    "        class_mode='categorical',\n",
    "        color_mode='grayscale',\n",
    "        subset='training',\n",
    "        seed=42,\n",
    "        shuffle=True)\n",
    "\n",
    "validation_generator3 = train_datagen1.flow_from_directory(\n",
    "        '../input/trainpart1zip/train',\n",
    "        target_size=tf.squeeze(IMAGE_SIZE),\n",
    "        batch_size=BATCH_SIZE,\n",
    "        class_mode='categorical',\n",
    "        color_mode='grayscale',\n",
    "        subset='validation',\n",
    "        seed=42,\n",
    "        shuffle=True)"
   ]
  },
  {
   "cell_type": "code",
   "execution_count": null,
   "metadata": {
    "id": "yvm15s1HhQHy"
   },
   "outputs": [],
   "source": [
    "model6_1 = Sequential()\n",
    "\n",
    "# 1st Convolution Layer\n",
    "model6_1.add(Conv2D(6, input_shape=(*IMAGE_SIZE, 1),\n",
    "                  kernel_size=(5,5), padding='same', activation=mish))\n",
    "model6_1.add(BatchNormalization())\n",
    "model6_1.add(MaxPooling2D(pool_size=(2,2), strides=2))\n",
    "\n",
    "# 2nd Convolution Layer\n",
    "model6_1.add(Conv2D(16, kernel_size=(5,5), activation=mish))\n",
    "model6_1.add(BatchNormalization())\n",
    "model6_1.add(MaxPooling2D(pool_size=(2,2), strides=2))\n",
    "\n",
    "# Passing to a Fully Connected Layer\n",
    "model6_1.add(Flatten())\n",
    "\n",
    "# 1st Fully Connected Layer\n",
    "model6_1.add(Dense(256, activation=mish))\n",
    "model6_1.add(BatchNormalization())\n",
    "model6_1.add(Dropout(0.4))\n",
    "\n",
    "# 2nd Fully Connected Layer\n",
    "model6_1.add(Dense(128, activation=mish))\n",
    "model6_1.add(BatchNormalization())\n",
    "model6_1.add(Dropout(0.4))\n",
    "\n",
    "# Output Layer\n",
    "model6_1.add(Dense(62, activation='softmax'))"
   ]
  },
  {
   "cell_type": "code",
   "execution_count": null,
   "metadata": {
    "colab": {
     "base_uri": "https://localhost:8080/"
    },
    "id": "wa5tpfDMhXB8",
    "outputId": "d481e78a-e0c5-4167-be38-9221df3e85f4"
   },
   "outputs": [
    {
     "name": "stdout",
     "output_type": "stream",
     "text": [
      "Model: \"sequential_4\"\n",
      "_________________________________________________________________\n",
      "Layer (type)                 Output Shape              Param #   \n",
      "=================================================================\n",
      "conv2d_13 (Conv2D)           (None, 45, 60, 6)         156       \n",
      "_________________________________________________________________\n",
      "batch_normalization_19 (Batc (None, 45, 60, 6)         24        \n",
      "_________________________________________________________________\n",
      "max_pooling2d_6 (MaxPooling2 (None, 22, 30, 6)         0         \n",
      "_________________________________________________________________\n",
      "conv2d_14 (Conv2D)           (None, 18, 26, 16)        2416      \n",
      "_________________________________________________________________\n",
      "batch_normalization_20 (Batc (None, 18, 26, 16)        64        \n",
      "_________________________________________________________________\n",
      "max_pooling2d_7 (MaxPooling2 (None, 9, 13, 16)         0         \n",
      "_________________________________________________________________\n",
      "flatten_4 (Flatten)          (None, 1872)              0         \n",
      "_________________________________________________________________\n",
      "dense_10 (Dense)             (None, 256)               479488    \n",
      "_________________________________________________________________\n",
      "batch_normalization_21 (Batc (None, 256)               1024      \n",
      "_________________________________________________________________\n",
      "dropout_9 (Dropout)          (None, 256)               0         \n",
      "_________________________________________________________________\n",
      "dense_11 (Dense)             (None, 128)               32896     \n",
      "_________________________________________________________________\n",
      "batch_normalization_22 (Batc (None, 128)               512       \n",
      "_________________________________________________________________\n",
      "dropout_10 (Dropout)         (None, 128)               0         \n",
      "_________________________________________________________________\n",
      "dense_12 (Dense)             (None, 62)                7998      \n",
      "=================================================================\n",
      "Total params: 524,578\n",
      "Trainable params: 523,766\n",
      "Non-trainable params: 812\n",
      "_________________________________________________________________\n"
     ]
    }
   ],
   "source": [
    "model6_1.summary()"
   ]
  },
  {
   "cell_type": "code",
   "execution_count": null,
   "metadata": {
    "id": "eUvup0J2hZdb"
   },
   "outputs": [],
   "source": [
    "model6_1.compile(loss='categorical_crossentropy', optimizer=Adam(), metrics=['accuracy'])"
   ]
  },
  {
   "cell_type": "markdown",
   "metadata": {
    "id": "dSXzKEsiotY0"
   },
   "source": [
    "Saving the Model Checkpoint"
   ]
  },
  {
   "cell_type": "code",
   "execution_count": null,
   "metadata": {
    "id": "Uq9bM8DKgyLb"
   },
   "outputs": [],
   "source": [
    "checkpoint_filepath6_1 = 'exp6_1/checkpoint'\n",
    "model_checkpoint_callback6_1 = tf.keras.callbacks.ModelCheckpoint(\n",
    "    filepath=checkpoint_filepath6_1,\n",
    "    save_weights_only=True,\n",
    "    monitor='val_loss',\n",
    "    mode='min',\n",
    "    save_best_only=True)"
   ]
  },
  {
   "cell_type": "code",
   "execution_count": null,
   "metadata": {
    "colab": {
     "base_uri": "https://localhost:8080/"
    },
    "id": "q7H8kT3ohjS6",
    "outputId": "3b9a28a0-6f08-44ca-dcaa-c1c0c0a7feaa"
   },
   "outputs": [
    {
     "name": "stdout",
     "output_type": "stream",
     "text": [
      "Epoch 1/400\n",
      "62/62 [==============================] - 33s 513ms/step - loss: 4.6588 - accuracy: 0.0335 - val_loss: 4.3612 - val_accuracy: 0.0167\n",
      "Epoch 2/400\n",
      "62/62 [==============================] - 31s 499ms/step - loss: 3.3342 - accuracy: 0.1942 - val_loss: 4.6904 - val_accuracy: 0.0250\n",
      "Epoch 3/400\n",
      "62/62 [==============================] - 31s 495ms/step - loss: 2.6940 - accuracy: 0.3107 - val_loss: 4.8908 - val_accuracy: 0.0208\n",
      "Epoch 4/400\n",
      "62/62 [==============================] - 31s 501ms/step - loss: 2.2589 - accuracy: 0.4113 - val_loss: 4.9160 - val_accuracy: 0.0083\n",
      "Epoch 5/400\n",
      "62/62 [==============================] - 30s 493ms/step - loss: 1.8811 - accuracy: 0.5197 - val_loss: 4.5471 - val_accuracy: 0.0354\n",
      "Epoch 6/400\n",
      "62/62 [==============================] - 31s 494ms/step - loss: 1.5784 - accuracy: 0.5897 - val_loss: 3.7062 - val_accuracy: 0.1250\n",
      "Epoch 7/400\n",
      "62/62 [==============================] - 31s 496ms/step - loss: 1.3584 - accuracy: 0.6500 - val_loss: 4.0543 - val_accuracy: 0.0979\n",
      "Epoch 8/400\n",
      "62/62 [==============================] - 30s 492ms/step - loss: 1.1313 - accuracy: 0.7136 - val_loss: 3.6911 - val_accuracy: 0.1542\n",
      "Epoch 9/400\n",
      "62/62 [==============================] - 31s 494ms/step - loss: 0.9335 - accuracy: 0.7652 - val_loss: 2.9963 - val_accuracy: 0.2542\n",
      "Epoch 10/400\n",
      "62/62 [==============================] - 31s 502ms/step - loss: 0.8233 - accuracy: 0.7817 - val_loss: 3.0014 - val_accuracy: 0.2625\n",
      "Epoch 11/400\n",
      "62/62 [==============================] - 31s 498ms/step - loss: 0.6886 - accuracy: 0.8157 - val_loss: 2.9491 - val_accuracy: 0.3021\n",
      "Epoch 12/400\n",
      "62/62 [==============================] - 31s 503ms/step - loss: 0.5739 - accuracy: 0.8549 - val_loss: 2.0746 - val_accuracy: 0.4625\n",
      "Epoch 13/400\n",
      "62/62 [==============================] - 31s 498ms/step - loss: 0.5214 - accuracy: 0.8688 - val_loss: 2.4844 - val_accuracy: 0.4021\n",
      "Epoch 14/400\n",
      "62/62 [==============================] - 31s 504ms/step - loss: 0.4385 - accuracy: 0.8842 - val_loss: 2.7843 - val_accuracy: 0.3417\n",
      "Epoch 15/400\n",
      "62/62 [==============================] - 31s 503ms/step - loss: 0.3956 - accuracy: 0.9032 - val_loss: 1.7987 - val_accuracy: 0.5208\n",
      "Epoch 16/400\n",
      "62/62 [==============================] - 31s 503ms/step - loss: 0.3296 - accuracy: 0.9288 - val_loss: 2.1770 - val_accuracy: 0.4396\n",
      "Epoch 17/400\n",
      "62/62 [==============================] - 31s 508ms/step - loss: 0.3260 - accuracy: 0.9238 - val_loss: 4.9160 - val_accuracy: 0.2354\n",
      "Epoch 18/400\n",
      "62/62 [==============================] - 31s 502ms/step - loss: 0.2988 - accuracy: 0.9266 - val_loss: 4.9212 - val_accuracy: 0.3000\n",
      "Epoch 19/400\n",
      "62/62 [==============================] - 31s 501ms/step - loss: 0.2539 - accuracy: 0.9368 - val_loss: 3.1581 - val_accuracy: 0.3604\n",
      "Epoch 20/400\n",
      "62/62 [==============================] - 31s 501ms/step - loss: 0.2521 - accuracy: 0.9353 - val_loss: 3.8498 - val_accuracy: 0.2958\n",
      "Epoch 21/400\n",
      "62/62 [==============================] - 31s 504ms/step - loss: 0.2160 - accuracy: 0.9512 - val_loss: 3.2776 - val_accuracy: 0.3208\n",
      "Epoch 22/400\n",
      "62/62 [==============================] - 31s 507ms/step - loss: 0.2002 - accuracy: 0.9499 - val_loss: 2.2856 - val_accuracy: 0.4229\n",
      "Epoch 23/400\n",
      "62/62 [==============================] - 31s 505ms/step - loss: 0.2160 - accuracy: 0.9587 - val_loss: 2.4635 - val_accuracy: 0.4375\n",
      "Epoch 24/400\n",
      "62/62 [==============================] - 31s 507ms/step - loss: 0.1797 - accuracy: 0.9628 - val_loss: 8.9669 - val_accuracy: 0.2229\n",
      "Epoch 25/400\n",
      "62/62 [==============================] - 31s 502ms/step - loss: 0.1637 - accuracy: 0.9541 - val_loss: 2.8599 - val_accuracy: 0.3958\n",
      "Epoch 26/400\n",
      "62/62 [==============================] - 31s 503ms/step - loss: 0.1494 - accuracy: 0.9656 - val_loss: 4.0128 - val_accuracy: 0.3187\n",
      "Epoch 27/400\n",
      "62/62 [==============================] - 31s 505ms/step - loss: 0.1535 - accuracy: 0.9597 - val_loss: 2.5226 - val_accuracy: 0.4479\n",
      "Epoch 28/400\n",
      "62/62 [==============================] - 32s 512ms/step - loss: 0.1725 - accuracy: 0.9620 - val_loss: 2.6662 - val_accuracy: 0.4167\n",
      "Epoch 29/400\n",
      "62/62 [==============================] - 32s 524ms/step - loss: 0.1454 - accuracy: 0.9656 - val_loss: 5.0952 - val_accuracy: 0.2896\n",
      "Epoch 30/400\n",
      "62/62 [==============================] - 32s 519ms/step - loss: 0.1288 - accuracy: 0.9682 - val_loss: 2.9926 - val_accuracy: 0.4271\n",
      "Epoch 31/400\n",
      "62/62 [==============================] - 31s 504ms/step - loss: 0.1090 - accuracy: 0.9715 - val_loss: 3.3791 - val_accuracy: 0.3771\n",
      "Epoch 32/400\n",
      "62/62 [==============================] - 32s 518ms/step - loss: 0.1163 - accuracy: 0.9706 - val_loss: 2.4737 - val_accuracy: 0.4875\n",
      "Epoch 33/400\n",
      "62/62 [==============================] - 32s 517ms/step - loss: 0.0936 - accuracy: 0.9808 - val_loss: 3.3878 - val_accuracy: 0.3688\n",
      "Epoch 34/400\n",
      "62/62 [==============================] - 31s 510ms/step - loss: 0.1080 - accuracy: 0.9750 - val_loss: 1.9445 - val_accuracy: 0.5521\n",
      "Epoch 35/400\n",
      "62/62 [==============================] - 32s 510ms/step - loss: 0.1041 - accuracy: 0.9722 - val_loss: 7.3934 - val_accuracy: 0.1771\n",
      "Restoring model weights from the end of the best epoch.\n",
      "Epoch 00035: early stopping\n"
     ]
    }
   ],
   "source": [
    "history6_1 = model6_1.fit(\n",
    "    train_generator3,\n",
    "    epochs=EPOCHS,\n",
    "    validation_data=validation_generator3,\n",
    "    steps_per_epoch = train_generator3.samples // BATCH_SIZE,\n",
    "    validation_steps = validation_generator3.samples // BATCH_SIZE,\n",
    "    callbacks=[model_checkpoint_callback6_1, early_stopping_callback]\n",
    ")"
   ]
  },
  {
   "cell_type": "code",
   "execution_count": null,
   "metadata": {
    "colab": {
     "base_uri": "https://localhost:8080/",
     "height": 295
    },
    "id": "CSabIv3whwhI",
    "outputId": "7d3b552e-cdf2-47a7-cc4a-337e7ddd96df"
   },
   "outputs": [
    {
     "data": {
      "image/png": "[encoded data removed]",
      "text/plain": [
       "<Figure size 432x288 with 1 Axes>"
      ]
     },
     "metadata": {
      "needs_background": "light",
      "tags": []
     },
     "output_type": "display_data"
    }
   ],
   "source": [
    "plt.plot(history6_1.history['accuracy'])\n",
    "plt.plot(history6_1.history['val_accuracy'])\n",
    "plt.title('model accuracy')\n",
    "plt.ylabel('accuracy')\n",
    "plt.xlabel('epoch')\n",
    "plt.legend(['training', 'validation'], loc='best')\n",
    "plt.show()"
   ]
  },
  {
   "cell_type": "code",
   "execution_count": null,
   "metadata": {
    "colab": {
     "base_uri": "https://localhost:8080/",
     "height": 295
    },
    "id": "k7_4kFNVhIxB",
    "outputId": "2b7b92cd-5e01-4a58-a25e-fdf07be38e43"
   },
   "outputs": [
    {
     "data": {
      "image/png": "[encoded data removed]",
      "text/plain": [
       "<Figure size 432x288 with 1 Axes>"
      ]
     },
     "metadata": {
      "needs_background": "light",
      "tags": []
     },
     "output_type": "display_data"
    }
   ],
   "source": [
    "plt.plot(history6_1.history['loss'])\n",
    "plt.plot(history6_1.history['val_loss'])\n",
    "plt.title('model loss')\n",
    "plt.ylabel('loss')\n",
    "plt.xlabel('epoch')\n",
    "plt.legend(['training', 'validation'], loc='best')\n",
    "plt.show()"
   ]
  },
  {
   "cell_type": "markdown",
   "metadata": {
    "id": "0aZxlaw-m4oF"
   },
   "source": [
    "#### Architecture from Experiment 4"
   ]
  },
  {
   "cell_type": "code",
   "execution_count": null,
   "metadata": {
    "id": "QJGPLQzGnlLC"
   },
   "outputs": [],
   "source": [
    "model6_2 = Sequential()\n",
    "\n",
    "# 1st Convolution Layer\n",
    "model6_2.add(Conv2D(32, input_shape=(*IMAGE_SIZE, 1), kernel_size=3, activation=mish))\n",
    "model6_2.add(BatchNormalization())\n",
    "model6_2.add(Conv2D(32, kernel_size=3, activation=mish))\n",
    "model6_2.add(BatchNormalization())\n",
    "model6_2.add(Conv2D(32, kernel_size=5, strides=2, padding='same', activation=mish))\n",
    "model6_2.add(BatchNormalization())\n",
    "model6_2.add(Dropout(0.4))\n",
    "\n",
    "# 2nd Convolution Layer\n",
    "model6_2.add(Conv2D(64, kernel_size=3, activation=mish))\n",
    "model6_2.add(BatchNormalization())\n",
    "model6_2.add(Conv2D(64, kernel_size=3, activation=mish))\n",
    "model6_2.add(BatchNormalization())\n",
    "model6_2.add(Conv2D(64, kernel_size=5, strides=2, padding='same', activation=mish))\n",
    "model6_2.add(BatchNormalization())\n",
    "model6_2.add(Dropout(0.4))\n",
    "\n",
    "# 3rd Convolution Layer\n",
    "model6_2.add(Conv2D(128, kernel_size = 4, activation=mish))\n",
    "model6_2.add(BatchNormalization())\n",
    "\n",
    "# Passing to a Fully Connected Layer\n",
    "model6_2.add(Flatten())\n",
    "model6_2.add(Dropout(0.4))\n",
    "\n",
    "# Output Layer\n",
    "model6_2.add(Dense(62, activation='softmax'))"
   ]
  },
  {
   "cell_type": "code",
   "execution_count": null,
   "metadata": {
    "colab": {
     "base_uri": "https://localhost:8080/"
    },
    "id": "fhnX9vUQoGBz",
    "outputId": "0ff551a4-26ed-41d9-d9df-0c24877ae368"
   },
   "outputs": [
    {
     "name": "stdout",
     "output_type": "stream",
     "text": [
      "Model: \"sequential_3\"\n",
      "_________________________________________________________________\n",
      "Layer (type)                 Output Shape              Param #   \n",
      "=================================================================\n",
      "conv2d_6 (Conv2D)            (None, 43, 58, 32)        320       \n",
      "_________________________________________________________________\n",
      "batch_normalization_12 (Batc (None, 43, 58, 32)        128       \n",
      "_________________________________________________________________\n",
      "conv2d_7 (Conv2D)            (None, 41, 56, 32)        9248      \n",
      "_________________________________________________________________\n",
      "batch_normalization_13 (Batc (None, 41, 56, 32)        128       \n",
      "_________________________________________________________________\n",
      "conv2d_8 (Conv2D)            (None, 21, 28, 32)        25632     \n",
      "_________________________________________________________________\n",
      "batch_normalization_14 (Batc (None, 21, 28, 32)        128       \n",
      "_________________________________________________________________\n",
      "dropout_6 (Dropout)          (None, 21, 28, 32)        0         \n",
      "_________________________________________________________________\n",
      "conv2d_9 (Conv2D)            (None, 19, 26, 64)        18496     \n",
      "_________________________________________________________________\n",
      "batch_normalization_15 (Batc (None, 19, 26, 64)        256       \n",
      "_________________________________________________________________\n",
      "conv2d_10 (Conv2D)           (None, 17, 24, 64)        36928     \n",
      "_________________________________________________________________\n",
      "batch_normalization_16 (Batc (None, 17, 24, 64)        256       \n",
      "_________________________________________________________________\n",
      "conv2d_11 (Conv2D)           (None, 9, 12, 64)         102464    \n",
      "_________________________________________________________________\n",
      "batch_normalization_17 (Batc (None, 9, 12, 64)         256       \n",
      "_________________________________________________________________\n",
      "dropout_7 (Dropout)          (None, 9, 12, 64)         0         \n",
      "_________________________________________________________________\n",
      "conv2d_12 (Conv2D)           (None, 6, 9, 128)         131200    \n",
      "_________________________________________________________________\n",
      "batch_normalization_18 (Batc (None, 6, 9, 128)         512       \n",
      "_________________________________________________________________\n",
      "flatten_3 (Flatten)          (None, 6912)              0         \n",
      "_________________________________________________________________\n",
      "dropout_8 (Dropout)          (None, 6912)              0         \n",
      "_________________________________________________________________\n",
      "dense_9 (Dense)              (None, 62)                428606    \n",
      "=================================================================\n",
      "Total params: 754,558\n",
      "Trainable params: 753,726\n",
      "Non-trainable params: 832\n",
      "_________________________________________________________________\n"
     ]
    }
   ],
   "source": [
    "model6_2.summary()"
   ]
  },
  {
   "cell_type": "code",
   "execution_count": null,
   "metadata": {
    "id": "743OCHsEoH97"
   },
   "outputs": [],
   "source": [
    "model6_2.compile(loss='categorical_crossentropy', optimizer=Adam(), metrics=['accuracy'])"
   ]
  },
  {
   "cell_type": "markdown",
   "metadata": {
    "id": "H7ZnfvxuopOt"
   },
   "source": [
    "Saving the Model Checkpoint"
   ]
  },
  {
   "cell_type": "code",
   "execution_count": null,
   "metadata": {
    "id": "9t63vI7boOdD"
   },
   "outputs": [],
   "source": [
    "checkpoint_filepath6_2 = 'exp6_2/checkpoint'\n",
    "model_checkpoint_callback6_2 = tf.keras.callbacks.ModelCheckpoint(\n",
    "    filepath=checkpoint_filepath6_2,\n",
    "    save_weights_only=True,\n",
    "    monitor='val_loss',\n",
    "    mode='min',\n",
    "    save_best_only=True)"
   ]
  },
  {
   "cell_type": "code",
   "execution_count": null,
   "metadata": {
    "colab": {
     "base_uri": "https://localhost:8080/"
    },
    "id": "FLVZBiqzoV4k",
    "outputId": "b688720d-daed-40bf-807c-9339a147ef8e"
   },
   "outputs": [
    {
     "name": "stdout",
     "output_type": "stream",
     "text": [
      "Epoch 1/400\n",
      "62/62 [==============================] - 33s 506ms/step - loss: 5.2828 - accuracy: 0.0535 - val_loss: 5.1547 - val_accuracy: 0.0167\n",
      "Epoch 2/400\n",
      "62/62 [==============================] - 31s 499ms/step - loss: 2.6122 - accuracy: 0.3701 - val_loss: 6.4788 - val_accuracy: 0.0250\n",
      "Epoch 3/400\n",
      "62/62 [==============================] - 31s 499ms/step - loss: 1.6781 - accuracy: 0.5677 - val_loss: 6.7860 - val_accuracy: 0.0500\n",
      "Epoch 4/400\n",
      "62/62 [==============================] - 31s 498ms/step - loss: 1.2515 - accuracy: 0.6698 - val_loss: 7.6091 - val_accuracy: 0.0625\n",
      "Epoch 5/400\n",
      "62/62 [==============================] - 31s 501ms/step - loss: 1.0160 - accuracy: 0.7232 - val_loss: 11.6267 - val_accuracy: 0.0479\n",
      "Epoch 6/400\n",
      "62/62 [==============================] - 31s 498ms/step - loss: 0.7533 - accuracy: 0.7794 - val_loss: 6.4720 - val_accuracy: 0.1646\n",
      "Epoch 7/400\n",
      "62/62 [==============================] - 31s 497ms/step - loss: 0.5145 - accuracy: 0.8392 - val_loss: 14.5081 - val_accuracy: 0.0417\n",
      "Epoch 8/400\n",
      "62/62 [==============================] - 31s 499ms/step - loss: 0.4077 - accuracy: 0.8741 - val_loss: 7.0863 - val_accuracy: 0.1396\n",
      "Epoch 9/400\n",
      "62/62 [==============================] - 31s 498ms/step - loss: 0.3797 - accuracy: 0.8741 - val_loss: 4.7880 - val_accuracy: 0.3396\n",
      "Epoch 10/400\n",
      "62/62 [==============================] - 31s 497ms/step - loss: 0.3910 - accuracy: 0.8966 - val_loss: 2.4809 - val_accuracy: 0.5125\n",
      "Epoch 11/400\n",
      "62/62 [==============================] - 31s 500ms/step - loss: 0.2723 - accuracy: 0.9176 - val_loss: 3.2420 - val_accuracy: 0.4375\n",
      "Epoch 12/400\n",
      "62/62 [==============================] - 31s 496ms/step - loss: 0.2342 - accuracy: 0.9413 - val_loss: 4.5787 - val_accuracy: 0.3562\n",
      "Epoch 13/400\n",
      "62/62 [==============================] - 31s 498ms/step - loss: 0.2054 - accuracy: 0.9412 - val_loss: 2.6093 - val_accuracy: 0.5813\n",
      "Epoch 14/400\n",
      "62/62 [==============================] - 31s 495ms/step - loss: 0.2238 - accuracy: 0.9324 - val_loss: 4.7339 - val_accuracy: 0.4062\n",
      "Epoch 15/400\n",
      "62/62 [==============================] - 30s 493ms/step - loss: 0.2045 - accuracy: 0.9379 - val_loss: 8.2359 - val_accuracy: 0.2833\n",
      "Epoch 16/400\n",
      "62/62 [==============================] - 31s 495ms/step - loss: 0.1736 - accuracy: 0.9482 - val_loss: 4.0421 - val_accuracy: 0.4083\n",
      "Epoch 17/400\n",
      "62/62 [==============================] - 31s 493ms/step - loss: 0.2080 - accuracy: 0.9468 - val_loss: 5.7639 - val_accuracy: 0.3083\n",
      "Epoch 18/400\n",
      "62/62 [==============================] - 31s 493ms/step - loss: 0.1215 - accuracy: 0.9621 - val_loss: 7.6276 - val_accuracy: 0.2583\n",
      "Epoch 19/400\n",
      "62/62 [==============================] - 30s 491ms/step - loss: 0.1403 - accuracy: 0.9562 - val_loss: 6.9810 - val_accuracy: 0.2542\n",
      "Epoch 20/400\n",
      "62/62 [==============================] - 31s 495ms/step - loss: 0.1488 - accuracy: 0.9545 - val_loss: 2.9153 - val_accuracy: 0.5292\n",
      "Epoch 21/400\n",
      "62/62 [==============================] - 32s 518ms/step - loss: 0.1313 - accuracy: 0.9593 - val_loss: 2.3372 - val_accuracy: 0.5958\n",
      "Epoch 22/400\n",
      "62/62 [==============================] - 32s 521ms/step - loss: 0.1090 - accuracy: 0.9694 - val_loss: 4.9452 - val_accuracy: 0.4042\n",
      "Epoch 23/400\n",
      "62/62 [==============================] - 32s 511ms/step - loss: 0.1232 - accuracy: 0.9624 - val_loss: 11.5529 - val_accuracy: 0.1604\n",
      "Epoch 24/400\n",
      "62/62 [==============================] - 32s 514ms/step - loss: 0.0993 - accuracy: 0.9700 - val_loss: 3.2483 - val_accuracy: 0.5583\n",
      "Epoch 25/400\n",
      "62/62 [==============================] - 31s 497ms/step - loss: 0.1000 - accuracy: 0.9740 - val_loss: 2.8103 - val_accuracy: 0.5625\n",
      "Epoch 26/400\n",
      "62/62 [==============================] - 31s 494ms/step - loss: 0.1198 - accuracy: 0.9633 - val_loss: 4.5392 - val_accuracy: 0.4792\n",
      "Epoch 27/400\n",
      "62/62 [==============================] - 31s 498ms/step - loss: 0.1238 - accuracy: 0.9620 - val_loss: 9.9924 - val_accuracy: 0.2208\n",
      "Epoch 28/400\n",
      "62/62 [==============================] - 31s 494ms/step - loss: 0.1024 - accuracy: 0.9735 - val_loss: 2.9984 - val_accuracy: 0.5792\n",
      "Epoch 29/400\n",
      "62/62 [==============================] - 31s 498ms/step - loss: 0.0960 - accuracy: 0.9717 - val_loss: 4.3783 - val_accuracy: 0.4750\n",
      "Epoch 30/400\n",
      "62/62 [==============================] - 31s 496ms/step - loss: 0.1184 - accuracy: 0.9671 - val_loss: 6.5769 - val_accuracy: 0.3479\n",
      "Epoch 31/400\n",
      "62/62 [==============================] - 31s 503ms/step - loss: 0.1328 - accuracy: 0.9623 - val_loss: 2.7831 - val_accuracy: 0.5938\n",
      "Epoch 32/400\n",
      "62/62 [==============================] - 31s 502ms/step - loss: 0.1031 - accuracy: 0.9680 - val_loss: 12.7633 - val_accuracy: 0.1708\n",
      "Epoch 33/400\n",
      "62/62 [==============================] - 31s 497ms/step - loss: 0.1445 - accuracy: 0.9608 - val_loss: 2.7398 - val_accuracy: 0.5938\n",
      "Epoch 34/400\n",
      "62/62 [==============================] - 31s 498ms/step - loss: 0.0686 - accuracy: 0.9757 - val_loss: 2.6970 - val_accuracy: 0.6313\n",
      "Epoch 35/400\n",
      "62/62 [==============================] - 31s 496ms/step - loss: 0.0559 - accuracy: 0.9780 - val_loss: 3.2838 - val_accuracy: 0.5396\n",
      "Epoch 36/400\n",
      "62/62 [==============================] - 31s 498ms/step - loss: 0.0626 - accuracy: 0.9802 - val_loss: 7.0936 - val_accuracy: 0.3542\n",
      "Epoch 37/400\n",
      "62/62 [==============================] - 31s 504ms/step - loss: 0.0741 - accuracy: 0.9786 - val_loss: 2.8313 - val_accuracy: 0.6021\n",
      "Epoch 38/400\n",
      "62/62 [==============================] - 31s 500ms/step - loss: 0.0796 - accuracy: 0.9741 - val_loss: 3.2906 - val_accuracy: 0.5688\n",
      "Epoch 39/400\n",
      "62/62 [==============================] - 31s 500ms/step - loss: 0.0906 - accuracy: 0.9743 - val_loss: 10.2623 - val_accuracy: 0.2937\n",
      "Epoch 40/400\n",
      "62/62 [==============================] - 31s 502ms/step - loss: 0.0475 - accuracy: 0.9831 - val_loss: 8.2991 - val_accuracy: 0.3292\n",
      "Epoch 41/400\n",
      "62/62 [==============================] - 31s 504ms/step - loss: 0.0958 - accuracy: 0.9667 - val_loss: 4.2879 - val_accuracy: 0.4917\n",
      "Restoring model weights from the end of the best epoch.\n",
      "Epoch 00041: early stopping\n"
     ]
    }
   ],
   "source": [
    "history6_2 = model6_2.fit(\n",
    "    train_generator3,\n",
    "    epochs=EPOCHS,\n",
    "    validation_data=validation_generator3,\n",
    "    steps_per_epoch = train_generator3.samples // BATCH_SIZE,\n",
    "    validation_steps = validation_generator3.samples // BATCH_SIZE,\n",
    "    callbacks=[model_checkpoint_callback6_2, early_stopping_callback]\n",
    ")"
   ]
  },
  {
   "cell_type": "code",
   "execution_count": null,
   "metadata": {
    "colab": {
     "base_uri": "https://localhost:8080/",
     "height": 295
    },
    "id": "Ng9WEMojolDY",
    "outputId": "06bc3ca7-894f-4c91-898d-afc039da1120"
   },
   "outputs": [
    {
     "data": {
      "image/png": "[encoded data removed]",
      "text/plain": [
       "<Figure size 432x288 with 1 Axes>"
      ]
     },
     "metadata": {
      "needs_background": "light",
      "tags": []
     },
     "output_type": "display_data"
    }
   ],
   "source": [
    "plt.plot(history6_2.history['accuracy'])\n",
    "plt.plot(history6_2.history['val_accuracy'])\n",
    "plt.title('model accuracy')\n",
    "plt.ylabel('accuracy')\n",
    "plt.xlabel('epoch')\n",
    "plt.legend(['training', 'validation'], loc='best')\n",
    "plt.show()"
   ]
  },
  {
   "cell_type": "code",
   "execution_count": null,
   "metadata": {
    "colab": {
     "base_uri": "https://localhost:8080/",
     "height": 295
    },
    "id": "Q5sypKSYoejs",
    "outputId": "20b330af-ec54-4592-96ee-82513be6e82c"
   },
   "outputs": [
    {
     "data": {
      "image/png": "[encoded data removed]",
      "text/plain": [
       "<Figure size 432x288 with 1 Axes>"
      ]
     },
     "metadata": {
      "needs_background": "light",
      "tags": []
     },
     "output_type": "display_data"
    }
   ],
   "source": [
    "plt.plot(history6_2.history['loss'])\n",
    "plt.plot(history6_2.history['val_loss'])\n",
    "plt.title('model loss')\n",
    "plt.ylabel('loss')\n",
    "plt.xlabel('epoch')\n",
    "plt.legend(['training', 'validation'], loc='best')\n",
    "plt.show()"
   ]
  },
  {
   "cell_type": "markdown",
   "metadata": {
    "id": "CNStKr0ww296"
   },
   "source": [
    "We see that batch size of 32 actually performs worse than that of 64."
   ]
  },
  {
   "cell_type": "markdown",
   "metadata": {
    "id": "t6P-HX5ow297"
   },
   "source": [
    "## Observations form these experiments"
   ]
  },
  {
   "cell_type": "markdown",
   "metadata": {
    "id": "0dMn1BdBw297"
   },
   "source": [
    "- I downscaled the images by 20x while making sure that the images are still recognizable from each other. This would reduce the number of parameters in our network.\n",
    "- I started with a modified version of the original LeNet, which was used to classify on the MNIST dataset, as our current dataset closely resembles it, I got an accuracy of a little below 60%.\n",
    "- Data Augmentation did not help for this dataset as the augmented data was very different from the original data and it actually performed worse. I didn not use Data augmentation for later experiments.\n",
    "- I tried the Mish Activation function instead of ReLU and it reached the the same accuracy in lesser epochs, however it had some variance issues for the training accuracy in the later epochs.\n",
    "- I tried different architectures: One which is known to give pretty good accuracy on the MNIST dataset in Kaggle Competitions and one Modified EfficientNet Architecture.\n",
    "    - The first of them gave similar result to the original LeNet and in lesser epochs, but had larger variance in training accuracy in the later epochs.\n",
    "    - The EfficientNet architecture actually gave the worst results in all of the experiments, but I think this was due to the scarcity of training data and not using a pretrained model.\n",
    "- I tried reducing Batch size form 64 to 32, but it gave worse results than 64.\n",
    "- Lastly, in experiment 7, (which I actually added in the section of experiment 3), I used higher temperature to achieve 'softer' softmax outputs, alongwith the Mish Activation and it gave the best accuracy on the validations et so far.\n",
    "- The best validation accuracy that I achieved was 59.15% in Experiment 7.\n"
   ]
  },
  {
   "cell_type": "markdown",
   "metadata": {
    "id": "YjJCT2OQw299"
   },
   "source": [
    "## Conclusions and Future Improvements"
   ]
  },
  {
   "cell_type": "markdown",
   "metadata": {
    "id": "QY0NMeISw299"
   },
   "source": [
    "- Overall, I think the original LeNet with Mish activation and high temperature softmax from Experiment 7 and the Model Architecture from Experiment 4, both gave good results. Clearly, the models were overfitting the data and I think that if trained with more data, they would perform better. For the future parts of this task, I would be using these two architectures, and would even like to try high temperature softmax for Expriment 4's architecture.\n",
    "- EfficientNet can give better results than from Experiment 5 but again, it neeeds more data and some pre-trainined weights. EfficientNetV2, released recently can also be a good model, but I can't find an Open Source Implementation of it and it's a little complex to build it in this duration, so I didn not try it, but I'm sure that it would give better results than what I got from EfficientNet here.\n",
    "- I have tuned the hyperparameters from what I could read online. However, I think using [Weights & Biases Sweeps](https://docs.wandb.com/sweeps/overview) would give better insights. I got to know about this relatively late and there was not much time left to set it up. But it would be sweet in the future to improve the model using this."
   ]
  },
  {
   "cell_type": "markdown",
   "metadata": {
    "id": "z6AV7-6BbZTC"
   },
   "source": [
    "# References"
   ]
  },
  {
   "cell_type": "markdown",
   "metadata": {
    "execution": {
     "iopub.execute_input": "2021-04-07T07:12:12.775294Z",
     "iopub.status.busy": "2021-04-07T07:12:12.774772Z",
     "iopub.status.idle": "2021-04-07T07:12:12.785070Z",
     "shell.execute_reply": "2021-04-07T07:12:12.782772Z",
     "shell.execute_reply.started": "2021-04-07T07:12:12.775233Z"
    },
    "id": "dvXZ8i_RbZTG"
   },
   "source": [
    "- [1] [EMNIST handwritten character recognition with Deep Learning](https://medium.com/@mrkardostamas/emnist-handwritten-character-recognition-with-deep-learning-b5d61ac1aab7)\n",
    "- [2] [How to choose CNN Architecture MNIST](https://www.kaggle.com/cdeotte/how-to-choose-cnn-architecture-mnist)\n",
    "- [3] [Swish Vs Mish: Latest Activation Functions](https://krutikabapat.github.io/Swish-Vs-Mish-Latest-Activation-Functions/)\n",
    "- [4] [Mish Class Definition in Keras](https://gist.github.com/digantamisra98/35ca0ec94ebefb99af6f444922fa52cd)\n",
    "- [5] [Mnist_EfficientNet Kaggle Notebook](https://www.kaggle.com/ateplyuk/mnist-efficientnet)\n",
    "- [6] [Image classification via fine-tuning with EfficientNet](https://keras.io/examples/vision/image_classification_efficientnet_fine_tuning/#training-a-model-from-scratch)\n",
    "- [7] [Keras EfficientNet Implementation Source Code](https://github.com/tensorflow/tensorflow/blob/v2.4.1/tensorflow/python/keras/applications/efficientnet.py#L517-L540)\n",
    "- [8] [Keras ModelCheckpoint Documentaion](https://www.tensorflow.org/api_docs/python/tf/keras/callbacks/ModelCheckpoint)\n",
    "- [9] [Keras EarlyStopping Documentaion](https://www.tensorflow.org/api_docs/python/tf/keras/callbacks/EarlyStopping)\n",
    "- [10] [Keras ImageDataGenerator Documentation](https://www.tensorflow.org/api_docs/python/tf/keras/preprocessing/image/ImageDataGenerator)\n",
    "- [11] [Keras EfficientNetB0 Documentation](https://www.tensorflow.org/api_docs/python/tf/keras/applications/EfficientNetB0)\n",
    "- [12] [Effect of Batch Size on Neural Net Training](https://medium.com/deep-learning-experiments/effect-of-batch-size-on-neural-net-training-c5ae8516e57)\n",
    "- [13] [How does temperature affect softmax in machine learning?](http://www.kasimte.com/2020/02/14/how-does-temperature-affect-softmax-in-machine-learning.html)\n",
    "- [14] [Temperatured softmax · Issue #3092 · keras-team/keras](https://github.com/keras-team/keras/issues/3092)\n",
    "- [15] [EfficientNetV2: Smaller Models and Faster Training](https://arxiv.org/pdf/2104.00298.pdf)"
   ]
  },
  {
   "cell_type": "code",
   "execution_count": null,
   "metadata": {
    "id": "Gbz4WAEsZiq3"
   },
   "outputs": [],
   "source": []
  }
 ],
 "metadata": {
  "accelerator": "GPU",
  "colab": {
   "collapsed_sections": [],
   "name": "midastask2part1.ipynb",
   "provenance": [],
   "toc_visible": true
  },
  "kernelspec": {
   "display_name": "Python 3",
   "language": "python",
   "name": "python3"
  },
  "language_info": {
   "codemirror_mode": {
    "name": "ipython",
    "version": 3
   },
   "file_extension": ".py",
   "mimetype": "text/x-python",
   "name": "python",
   "nbconvert_exporter": "python",
   "pygments_lexer": "ipython3",
   "version": "3.8.8"
  }
 },
 "nbformat": 4,
 "nbformat_minor": 4
}
