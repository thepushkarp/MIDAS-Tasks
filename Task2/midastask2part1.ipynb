{
 "cells": [
  {
   "cell_type": "markdown",
   "metadata": {
    "id": "uHJMYYjww263"
   },
   "source": [
    "Author: Pushkar Patel"
   ]
  },
  {
   "cell_type": "markdown",
   "metadata": {
    "id": "CGftaDedj2ll"
   },
   "source": [
    "# Task 2 - Part 1"
   ]
  },
  {
   "cell_type": "markdown",
   "metadata": {
    "id": "aJuLlwqSP4_P"
   },
   "source": [
    "Imports"
   ]
  },
  {
   "cell_type": "code",
   "execution_count": 1,
   "metadata": {
    "execution": {
     "iopub.execute_input": "2021-04-09T10:13:07.040774Z",
     "iopub.status.busy": "2021-04-09T10:13:07.039851Z",
     "iopub.status.idle": "2021-04-09T10:13:11.836005Z",
     "shell.execute_reply": "2021-04-09T10:13:11.834306Z",
     "shell.execute_reply.started": "2021-04-09T10:13:07.040541Z"
    },
    "id": "jR8HjU5jP4_S"
   },
   "outputs": [],
   "source": [
    "import shutil\n",
    "from PIL import Image\n",
    "import numpy as np\n",
    "import matplotlib.pyplot as plt\n",
    "from matplotlib.pyplot import imshow\n",
    "%matplotlib inline\n",
    "\n",
    "import tensorflow as tf\n",
    "from tensorflow import keras\n",
    "from tensorflow.keras.preprocessing.image import ImageDataGenerator\n",
    "from tensorflow.keras.preprocessing import image\n",
    "\n",
    "from tensorflow.keras.models import Sequential\n",
    "from tensorflow.keras.layers import Dense, Dropout, Flatten, Lambda\n",
    "from tensorflow.keras.layers import Conv2D, MaxPooling2D\n",
    "from tensorflow.keras.layers import BatchNormalization\n",
    "from tensorflow.keras.optimizers import Adam"
   ]
  },
  {
   "cell_type": "markdown",
   "metadata": {
    "id": "njW9YzvpQnaC"
   },
   "source": [
    "Extracting the imges"
   ]
  },
  {
   "cell_type": "code",
   "execution_count": 4,
   "metadata": {
    "execution": {
     "iopub.execute_input": "2021-04-09T10:13:13.333244Z",
     "iopub.status.busy": "2021-04-09T10:13:13.332738Z",
     "iopub.status.idle": "2021-04-09T10:13:14.492674Z",
     "shell.execute_reply": "2021-04-09T10:13:14.490850Z",
     "shell.execute_reply.started": "2021-04-09T10:13:13.333185Z"
    },
    "id": "dZfXG01zQhZv"
   },
   "outputs": [],
   "source": [
    "shutil.unpack_archive('trainPart1.zip', '../input/trainpart1zip')"
   ]
  },
  {
   "cell_type": "markdown",
   "metadata": {
    "id": "fCwPDuoDbZSX"
   },
   "source": [
    "## Inspecting the image"
   ]
  },
  {
   "cell_type": "markdown",
   "metadata": {
    "id": "Wu6PcN7voZpM"
   },
   "source": [
    "Browsing through the dataset, we can see that there a total of 62 classes - 10 numbers from 0 to 9, 26 lowercase alphabets and 26 uppercase alphabets, having 40 examples each.\n",
    "\n",
    "Inspecting the image to view its dimensions and colour channels"
   ]
  },
  {
   "cell_type": "code",
   "execution_count": null,
   "metadata": {
    "colab": {
     "base_uri": "https://localhost:8080/",
     "height": 319
    },
    "execution": {
     "iopub.execute_input": "2021-04-09T10:13:16.701168Z",
     "iopub.status.busy": "2021-04-09T10:13:16.700668Z",
     "iopub.status.idle": "2021-04-09T10:13:17.558952Z",
     "shell.execute_reply": "2021-04-09T10:13:17.557146Z",
     "shell.execute_reply.started": "2021-04-09T10:13:16.701111Z"
    },
    "id": "R7E0uzeinH_M",
    "outputId": "577ddda1-e8ab-40a8-e7ee-0eebbc110e39",
    "tags": []
   },
   "outputs": [
    {
     "name": "stdout",
     "output_type": "stream",
     "text": [
      "(900, 1200, 3)\n",
      "RGB\n"
     ]
    },
    {
     "data": {
      "text/plain": [
       "<matplotlib.image.AxesImage at 0x7efbe2070dd0>"
      ]
     },
     "execution_count": 3,
     "metadata": {
      "tags": []
     },
     "output_type": "execute_result"
    },
    {
     "data": {
      "image/png": "[encoded data removed]",
      "text/plain": [
       "<Figure size 432x288 with 1 Axes>"
      ]
     },
     "metadata": {
      "needs_background": "light",
      "tags": []
     },
     "output_type": "display_data"
    }
   ],
   "source": [
    "image = Image.open('../input/trainpart1zip/train/Sample001/img001-001.png')\n",
    "np_image = np.array(image)\n",
    "print(np_image.shape)\n",
    "print(image.mode)\n",
    "imshow(image)"
   ]
  },
  {
   "cell_type": "markdown",
   "metadata": {
    "id": "95GlEPFEbZSk"
   },
   "source": [
    "The image is of dimension 900x1200 with three colour channels. Looking at the images in the directory, I found that all the images are black and white and contain only handwritten digits or alphabets. We can convert them to single grayscale colour channel to reduce computations, improve speed and make the architecture less compled."
   ]
  },
  {
   "cell_type": "markdown",
   "metadata": {
    "id": "J3HnRFaUbZSm"
   },
   "source": [
    "## Preprossing the images to convert test and validation input and labels"
   ]
  },
  {
   "cell_type": "markdown",
   "metadata": {
    "id": "l1EhcCnHZwzV"
   },
   "source": [
    "NOTE: Initially, I tried to build the network on the full image dimension of 900x1200, but that just overloaded the memory with too many parameters.\n",
    "\n",
    "Since for the later tasks, I have to downsample the images to the size of MNIST i.e. 28x28, I made all other images of this dimension.\n",
    "\n",
    "Since the images in our dataset are not square, one way to reduce the dimension of images in this set in order to have the same input shape as the MNIST dataset can be to downscale the largest dimension to 28 and then zero-pad the shorter dimension with 0 to make it 28x28.\n",
    "\n",
    "Also, the 0 values are displayed as black and the higher values as white, which is opposite in our case. Hence, I'll invert time in our dataset ot match to that of MNIST.\n",
    "\n",
    "So, for our current image of 900x1200, 1200px would be scaled down to 28pxs and 900 would scale down to 900*28/1200 = 21px. Then, I would pad it with 0s in the top and bottom to make it 28x28. I'm padding it with zeros because:\n",
    "- 0 values don't add any extra information to the image\n",
    "- The MNIST images have their background values as 0\n",
    "\n",
    "Instead of padding all the images before training, I would pad them on-the-fly with a Lambda layer in the modes, before passing it to the first convolution layer.\n",
    "\n",
    "I noticed that after resizing down, the images are still recognizable from each other so, a conv net should be able to recognize them too.\n"
   ]
  },
  {
   "cell_type": "markdown",
   "metadata": {
    "id": "VmZNiJkGbZSq"
   },
   "source": [
    "I'll use ImageDataGenerator from Keras to preprocess and split the training images into train and validations sets.\n",
    "\n",
    "I've normalized all pixel values to be in the range of 0 to 1 for the data to have similar range.\n",
    "\n",
    "I split the training and validation sets in 80:20 ratio."
   ]
  },
  {
   "cell_type": "code",
   "execution_count": 5,
   "metadata": {
    "execution": {
     "iopub.execute_input": "2021-04-09T10:13:52.308556Z",
     "iopub.status.busy": "2021-04-09T10:13:52.307673Z",
     "iopub.status.idle": "2021-04-09T10:13:52.317856Z",
     "shell.execute_reply": "2021-04-09T10:13:52.316184Z",
     "shell.execute_reply.started": "2021-04-09T10:13:52.308446Z"
    },
    "id": "kvqAdvMKbZSu",
    "tags": []
   },
   "outputs": [],
   "source": [
    "train_datagen1 = ImageDataGenerator(rescale=1./255, validation_split=0.2, preprocessing_function=lambda x: 1-x)"
   ]
  },
  {
   "cell_type": "markdown",
   "metadata": {
    "id": "SDaFawcbbZSw"
   },
   "source": [
    "I create the generator object which would generate the training and validation sets. It takes the input from the images folder. I'm reducing the size of the images by 20x while taking the input, and changing the colour channel to grayscale.\n",
    "Each set is of batch size 64. I chose this as it's a good enough batch size for this size of dataset. The class labels are categorical and are one-hot encoded for all of the 62 classes (10 numbers + 26 lowercase alphabets + 26 uppercase alphabets)."
   ]
  },
  {
   "cell_type": "markdown",
   "metadata": {
    "id": "aZUIZXqbP4_c"
   },
   "source": [
    "Variables that would be used globally. I set max epochs of 400."
   ]
  },
  {
   "cell_type": "code",
   "execution_count": 6,
   "metadata": {
    "execution": {
     "iopub.execute_input": "2021-04-09T10:13:53.846163Z",
     "iopub.status.busy": "2021-04-09T10:13:53.845632Z",
     "iopub.status.idle": "2021-04-09T10:13:53.853072Z",
     "shell.execute_reply": "2021-04-09T10:13:53.851287Z",
     "shell.execute_reply.started": "2021-04-09T10:13:53.846102Z"
    },
    "id": "Jg3_tABhby39",
    "tags": []
   },
   "outputs": [],
   "source": [
    "BATCH_SIZE = 64\n",
    "IMAGE_SIZE = (21, 28)\n",
    "EPOCHS = 400"
   ]
  },
  {
   "cell_type": "markdown",
   "metadata": {
    "id": "zGsaA2yh1fZ2"
   },
   "source": [
    "Using ImageDataGenerator, I convert the images to their one-hot encodings so that the task becomes that of classification, rather than a regression one."
   ]
  },
  {
   "cell_type": "code",
   "execution_count": 7,
   "metadata": {
    "colab": {
     "base_uri": "https://localhost:8080/"
    },
    "execution": {
     "iopub.execute_input": "2021-04-09T10:13:54.386233Z",
     "iopub.status.busy": "2021-04-09T10:13:54.385704Z",
     "iopub.status.idle": "2021-04-09T10:13:54.651471Z",
     "shell.execute_reply": "2021-04-09T10:13:54.649765Z",
     "shell.execute_reply.started": "2021-04-09T10:13:54.386175Z"
    },
    "id": "oFn5F1pPbZSy",
    "outputId": "0d0fab34-007b-4d27-c913-7e63e00a8922",
    "tags": []
   },
   "outputs": [
    {
     "name": "stdout",
     "output_type": "stream",
     "text": [
      "Found 1984 images belonging to 62 classes.\n"
     ]
    }
   ],
   "source": [
    "train_generator1 = train_datagen1.flow_from_directory(\n",
    "        '../input/trainpart1zip/train',\n",
    "        target_size=IMAGE_SIZE,\n",
    "        batch_size=BATCH_SIZE,\n",
    "        class_mode='categorical',\n",
    "        color_mode='grayscale',\n",
    "        subset='training',\n",
    "        seed=42,\n",
    "        shuffle=True)"
   ]
  },
  {
   "cell_type": "code",
   "execution_count": 8,
   "metadata": {
    "colab": {
     "base_uri": "https://localhost:8080/"
    },
    "execution": {
     "iopub.execute_input": "2021-04-09T10:13:55.001241Z",
     "iopub.status.busy": "2021-04-09T10:13:55.000722Z",
     "iopub.status.idle": "2021-04-09T10:13:55.128514Z",
     "shell.execute_reply": "2021-04-09T10:13:55.126873Z",
     "shell.execute_reply.started": "2021-04-09T10:13:55.001181Z"
    },
    "id": "jr385xFTbZS1",
    "outputId": "a62f6e94-c45c-445f-b492-f947dce032cc",
    "tags": []
   },
   "outputs": [
    {
     "name": "stdout",
     "output_type": "stream",
     "text": [
      "Found 496 images belonging to 62 classes.\n"
     ]
    }
   ],
   "source": [
    "validation_generator1 = train_datagen1.flow_from_directory(\n",
    "        '../input/trainpart1zip/train',\n",
    "        target_size=tf.squeeze(IMAGE_SIZE),\n",
    "        batch_size=BATCH_SIZE,\n",
    "        class_mode='categorical',\n",
    "        color_mode='grayscale',\n",
    "        subset='validation',\n",
    "        seed=42,\n",
    "        shuffle=True)"
   ]
  },
  {
   "cell_type": "markdown",
   "metadata": {
    "id": "KTrRClAHe7zp"
   },
   "source": [
    "The ImageDataGenerator class has automatically detected the 62 classes."
   ]
  },
  {
   "cell_type": "markdown",
   "metadata": {
    "id": "hxdjUMeOIJRB"
   },
   "source": [
    "Viewing the generated samples"
   ]
  },
  {
   "cell_type": "code",
   "execution_count": null,
   "metadata": {
    "colab": {
     "base_uri": "https://localhost:8080/",
     "height": 768
    },
    "execution": {
     "iopub.execute_input": "2021-04-09T10:14:05.070178Z",
     "iopub.status.busy": "2021-04-09T10:14:05.069390Z",
     "iopub.status.idle": "2021-04-09T10:14:10.777651Z",
     "shell.execute_reply": "2021-04-09T10:14:10.776065Z",
     "shell.execute_reply.started": "2021-04-09T10:14:05.070084Z"
    },
    "id": "D0fIuQydbZS4",
    "outputId": "4d3be3a0-cb44-444a-df52-b7f82ac17ef1",
    "tags": []
   },
   "outputs": [
    {
     "name": "stdout",
     "output_type": "stream",
     "text": [
      "(64, 21, 28, 1) (64, 62)\n",
      "[0. 0. 0. 0. 0. 0. 0. 0. 0. 0. 0. 0. 0. 0. 0. 0. 0. 0. 1. 0. 0. 0. 0. 0.\n",
      " 0. 0. 0. 0. 0. 0. 0. 0. 0. 0. 0. 0. 0. 0. 0. 0. 0. 0. 0. 0. 0. 0. 0. 0.\n",
      " 0. 0. 0. 0. 0. 0. 0. 0. 0. 0. 0. 0. 0. 0.]\n"
     ]
    },
    {
     "data": {
      "image/png": "[encoded data removed]",
      "text/plain": [
       "<Figure size 1152x864 with 16 Axes>"
      ]
     },
     "metadata": {
      "needs_background": "light",
      "tags": []
     },
     "output_type": "display_data"
    }
   ],
   "source": [
    "X_train_batch0, y_train_batch0 = train_generator1.next()\n",
    "print(X_train_batch0.shape, y_train_batch0.shape)\n",
    "print(y_train_batch0[0])\n",
    "plt.figure(figsize=(16,12))\n",
    "for i in range(1, 17):\n",
    "    plt.subplot(4,4,i)\n",
    "    imshow(tf.squeeze(X_train_batch0[i]), cmap='gray')\n",
    "plt.show() "
   ]
  },
  {
   "cell_type": "code",
   "execution_count": null,
   "metadata": {
    "colab": {
     "base_uri": "https://localhost:8080/",
     "height": 768
    },
    "execution": {
     "iopub.execute_input": "2021-04-09T10:14:42.539841Z",
     "iopub.status.busy": "2021-04-09T10:14:42.539116Z",
     "iopub.status.idle": "2021-04-09T10:14:49.668317Z",
     "shell.execute_reply": "2021-04-09T10:14:49.666745Z",
     "shell.execute_reply.started": "2021-04-09T10:14:42.539752Z"
    },
    "id": "Es5HCNCGctE6",
    "outputId": "81b74495-5ad9-4980-dfb1-3c3fc6e7d047",
    "tags": []
   },
   "outputs": [
    {
     "name": "stdout",
     "output_type": "stream",
     "text": [
      "(64, 21, 28, 1) (64, 62)\n",
      "[0. 0. 0. 0. 0. 0. 0. 0. 0. 0. 0. 0. 0. 0. 0. 0. 0. 0. 0. 0. 0. 0. 0. 0.\n",
      " 0. 0. 0. 0. 0. 0. 0. 0. 0. 0. 0. 0. 0. 0. 0. 0. 0. 0. 0. 0. 0. 0. 0. 0.\n",
      " 0. 0. 0. 0. 0. 0. 0. 0. 0. 1. 0. 0. 0. 0.]\n"
     ]
    },
    {
     "data": {
      "image/png": "[encoded data removed]",
      "text/plain": [
       "<Figure size 1152x864 with 16 Axes>"
      ]
     },
     "metadata": {
      "needs_background": "light",
      "tags": []
     },
     "output_type": "display_data"
    }
   ],
   "source": [
    "X_validation_batch0, y_validation_batch0 = validation_generator1.next()\n",
    "print(X_validation_batch0.shape, y_validation_batch0.shape)\n",
    "print(y_validation_batch0[0])\n",
    "plt.figure(figsize=(16,12))\n",
    "for i in range(1, 17):\n",
    "    plt.subplot(4,4,i)\n",
    "    imshow(tf.squeeze(X_validation_batch0[i]), cmap='gray')\n",
    "plt.show() "
   ]
  },
  {
   "cell_type": "markdown",
   "metadata": {
    "id": "KZ-GDd6rbZS6",
    "tags": []
   },
   "source": [
    "## Building the model"
   ]
  },
  {
   "cell_type": "markdown",
   "metadata": {
    "id": "NEVpTxQfe70A"
   },
   "source": [
    "I train the model for 400 epochs and use early stopping with a patience level of 20 epochs in order to prevent model from overfitting and save the best weights of the mode."
   ]
  },
  {
   "cell_type": "markdown",
   "metadata": {
    "id": "vzbx2hKnb7QR"
   },
   "source": [
    "Using Early Stopping to prevent overfitting, with a patience level of 20 epochs."
   ]
  },
  {
   "cell_type": "code",
   "execution_count": 9,
   "metadata": {
    "execution": {
     "iopub.execute_input": "2021-04-08T15:31:09.780067Z",
     "iopub.status.busy": "2021-04-08T15:31:09.779371Z",
     "iopub.status.idle": "2021-04-08T15:31:09.787659Z",
     "shell.execute_reply": "2021-04-08T15:31:09.786068Z",
     "shell.execute_reply.started": "2021-04-08T15:31:09.779985Z"
    },
    "id": "0LBHpsBcb-El",
    "tags": []
   },
   "outputs": [],
   "source": [
    "early_stopping_callback = tf.keras.callbacks.EarlyStopping(\n",
    "    monitor='val_loss',\n",
    "    mode='min',\n",
    "    patience=20,\n",
    "    restore_best_weights=True,\n",
    "    verbose=1)"
   ]
  },
  {
   "cell_type": "markdown",
   "metadata": {
    "id": "pe0CSC_YheY3"
   },
   "source": [
    "### Experiment 1: Building the first model inspired from LeNet"
   ]
  },
  {
   "cell_type": "markdown",
   "metadata": {
    "id": "a4oHMOGxcU8a"
   },
   "source": [
    "I quickly build a first model, which inspired by the original LeNet, with slight modifications, to check how it performs and will then tune the hyperparameter accordingly. I also use dropouts with a probability of 0.4 for each Fully Connected Layer."
   ]
  },
  {
   "cell_type": "code",
   "execution_count": null,
   "metadata": {
    "execution": {
     "iopub.execute_input": "2021-04-08T15:30:53.074727Z",
     "iopub.status.busy": "2021-04-08T15:30:53.074022Z",
     "iopub.status.idle": "2021-04-08T15:30:53.340765Z",
     "shell.execute_reply": "2021-04-08T15:30:53.338649Z",
     "shell.execute_reply.started": "2021-04-08T15:30:53.074640Z"
    },
    "id": "aDEwHyU2bZS-",
    "tags": []
   },
   "outputs": [],
   "source": [
    "model1 = Sequential()\n",
    "\n",
    "# Lambda Layer for adding Padding\n",
    "model1.add(Lambda(lambda image: tf.image.resize_with_crop_or_pad(\n",
    "        image, 28, 28), input_shape=(*IMAGE_SIZE, 1)))\n",
    "\n",
    "# 1st Convolution Layer\n",
    "model1.add(Conv2D(6, kernel_size=(5,5), padding='same', activation='relu'))\n",
    "model1.add(BatchNormalization())\n",
    "model1.add(MaxPooling2D(pool_size=(2,2), strides=2))\n",
    "\n",
    "# 2nd Convolution Layer\n",
    "model1.add(Conv2D(16, kernel_size=(5,5), activation='relu'))\n",
    "model1.add(BatchNormalization())\n",
    "model1.add(MaxPooling2D(pool_size=(2,2), strides=2))\n",
    "\n",
    "# Passing to a Fully Connected Layer\n",
    "model1.add(Flatten())\n",
    "\n",
    "# 1st Fully Connected Layer\n",
    "model1.add(Dense(256, activation='relu'))\n",
    "model1.add(BatchNormalization())\n",
    "model1.add(Dropout(0.4))\n",
    "\n",
    "# 2nd Fully Connected Layer\n",
    "model1.add(Dense(128, activation='relu'))\n",
    "model1.add(BatchNormalization())\n",
    "model1.add(Dropout(0.4))\n",
    "\n",
    "# Output Layer\n",
    "model1.add(Dense(62, activation='softmax'))"
   ]
  },
  {
   "cell_type": "code",
   "execution_count": null,
   "metadata": {
    "colab": {
     "base_uri": "https://localhost:8080/"
    },
    "execution": {
     "iopub.execute_input": "2021-04-08T15:30:53.978303Z",
     "iopub.status.busy": "2021-04-08T15:30:53.977740Z",
     "iopub.status.idle": "2021-04-08T15:30:54.001260Z",
     "shell.execute_reply": "2021-04-08T15:30:53.999631Z",
     "shell.execute_reply.started": "2021-04-08T15:30:53.978213Z"
    },
    "id": "DN7gfiQLjnlc",
    "outputId": "23fe4e43-4876-433a-db97-f9fbb415b2dc",
    "tags": []
   },
   "outputs": [
    {
     "name": "stdout",
     "output_type": "stream",
     "text": [
      "Model: \"sequential_3\"\n",
      "_________________________________________________________________\n",
      "Layer (type)                 Output Shape              Param #   \n",
      "=================================================================\n",
      "lambda_1 (Lambda)            (None, 28, 28, 1)         0         \n",
      "_________________________________________________________________\n",
      "conv2d_4 (Conv2D)            (None, 28, 28, 6)         156       \n",
      "_________________________________________________________________\n",
      "batch_normalization_8 (Batch (None, 28, 28, 6)         24        \n",
      "_________________________________________________________________\n",
      "max_pooling2d_4 (MaxPooling2 (None, 14, 14, 6)         0         \n",
      "_________________________________________________________________\n",
      "conv2d_5 (Conv2D)            (None, 10, 10, 16)        2416      \n",
      "_________________________________________________________________\n",
      "batch_normalization_9 (Batch (None, 10, 10, 16)        64        \n",
      "_________________________________________________________________\n",
      "max_pooling2d_5 (MaxPooling2 (None, 5, 5, 16)          0         \n",
      "_________________________________________________________________\n",
      "flatten_2 (Flatten)          (None, 400)               0         \n",
      "_________________________________________________________________\n",
      "dense_6 (Dense)              (None, 256)               102656    \n",
      "_________________________________________________________________\n",
      "batch_normalization_10 (Batc (None, 256)               1024      \n",
      "_________________________________________________________________\n",
      "dropout_4 (Dropout)          (None, 256)               0         \n",
      "_________________________________________________________________\n",
      "dense_7 (Dense)              (None, 128)               32896     \n",
      "_________________________________________________________________\n",
      "batch_normalization_11 (Batc (None, 128)               512       \n",
      "_________________________________________________________________\n",
      "dropout_5 (Dropout)          (None, 128)               0         \n",
      "_________________________________________________________________\n",
      "dense_8 (Dense)              (None, 62)                7998      \n",
      "=================================================================\n",
      "Total params: 147,746\n",
      "Trainable params: 146,934\n",
      "Non-trainable params: 812\n",
      "_________________________________________________________________\n"
     ]
    }
   ],
   "source": [
    "model1.summary()"
   ]
  },
  {
   "cell_type": "code",
   "execution_count": null,
   "metadata": {
    "execution": {
     "iopub.execute_input": "2021-04-08T15:30:59.268936Z",
     "iopub.status.busy": "2021-04-08T15:30:59.268141Z",
     "iopub.status.idle": "2021-04-08T15:30:59.302256Z",
     "shell.execute_reply": "2021-04-08T15:30:59.300162Z",
     "shell.execute_reply.started": "2021-04-08T15:30:59.268843Z"
    },
    "id": "Zkq402VgUPzz",
    "tags": []
   },
   "outputs": [],
   "source": [
    "model1.compile(loss='categorical_crossentropy', optimizer=Adam(), metrics=['accuracy'])"
   ]
  },
  {
   "cell_type": "markdown",
   "metadata": {
    "id": "CblrL1PKW_pe"
   },
   "source": [
    "Saving the checkpoint"
   ]
  },
  {
   "cell_type": "code",
   "execution_count": null,
   "metadata": {
    "execution": {
     "iopub.execute_input": "2021-04-08T15:31:12.702697Z",
     "iopub.status.busy": "2021-04-08T15:31:12.702208Z",
     "iopub.status.idle": "2021-04-08T15:31:12.711584Z",
     "shell.execute_reply": "2021-04-08T15:31:12.709331Z",
     "shell.execute_reply.started": "2021-04-08T15:31:12.702638Z"
    },
    "id": "Gzhxfc-KXCnj",
    "tags": []
   },
   "outputs": [],
   "source": [
    "checkpoint_filepath1 = 'exp1/checkpoint'\n",
    "model_checkpoint_callback1 = tf.keras.callbacks.ModelCheckpoint(\n",
    "    filepath=checkpoint_filepath1,\n",
    "    save_weights_only=True,\n",
    "    monitor='val_loss',\n",
    "    mode='min',\n",
    "    save_best_only=True)"
   ]
  },
  {
   "cell_type": "code",
   "execution_count": null,
   "metadata": {
    "colab": {
     "base_uri": "https://localhost:8080/"
    },
    "execution": {
     "iopub.status.busy": "2021-04-07T17:09:28.360821Z",
     "iopub.status.idle": "2021-04-07T17:09:28.361946Z",
     "shell.execute_reply": "2021-04-07T17:09:28.361349Z"
    },
    "id": "ZYT4aN5zUPz0",
    "outputId": "1322342f-b21d-440d-af1a-b76e21e43bf9",
    "tags": []
   },
   "outputs": [
    {
     "name": "stdout",
     "output_type": "stream",
     "text": [
      "Epoch 1/400\n",
      "31/31 [==============================] - 39s 1s/step - loss: 5.0043 - accuracy: 0.0213 - val_loss: 4.1208 - val_accuracy: 0.0179\n",
      "Epoch 2/400\n",
      "31/31 [==============================] - 36s 1s/step - loss: 4.0452 - accuracy: 0.0806 - val_loss: 4.1611 - val_accuracy: 0.0357\n",
      "Epoch 3/400\n",
      "31/31 [==============================] - 36s 1s/step - loss: 3.3932 - accuracy: 0.1817 - val_loss: 4.3968 - val_accuracy: 0.0246\n",
      "Epoch 4/400\n",
      "31/31 [==============================] - 36s 1s/step - loss: 3.0605 - accuracy: 0.2270 - val_loss: 4.6091 - val_accuracy: 0.0246\n",
      "Epoch 5/400\n",
      "31/31 [==============================] - 36s 1s/step - loss: 2.7359 - accuracy: 0.2881 - val_loss: 4.8350 - val_accuracy: 0.0268\n",
      "Epoch 6/400\n",
      "31/31 [==============================] - 36s 1s/step - loss: 2.4506 - accuracy: 0.3656 - val_loss: 4.8434 - val_accuracy: 0.0469\n",
      "Epoch 7/400\n",
      "31/31 [==============================] - 36s 1s/step - loss: 2.2959 - accuracy: 0.4072 - val_loss: 4.9224 - val_accuracy: 0.0469\n",
      "Epoch 8/400\n",
      "31/31 [==============================] - 36s 1s/step - loss: 2.0966 - accuracy: 0.4540 - val_loss: 4.8551 - val_accuracy: 0.0513\n",
      "Epoch 9/400\n",
      "31/31 [==============================] - 36s 1s/step - loss: 1.9068 - accuracy: 0.4856 - val_loss: 4.6808 - val_accuracy: 0.0536\n",
      "Epoch 10/400\n",
      "31/31 [==============================] - 36s 1s/step - loss: 1.7871 - accuracy: 0.5063 - val_loss: 4.6372 - val_accuracy: 0.0714\n",
      "Epoch 11/400\n",
      "31/31 [==============================] - 37s 1s/step - loss: 1.6535 - accuracy: 0.5538 - val_loss: 4.2520 - val_accuracy: 0.0781\n",
      "Epoch 12/400\n",
      "31/31 [==============================] - 37s 1s/step - loss: 1.5272 - accuracy: 0.5662 - val_loss: 3.9199 - val_accuracy: 0.1161\n",
      "Epoch 13/400\n",
      "31/31 [==============================] - 37s 1s/step - loss: 1.4197 - accuracy: 0.6169 - val_loss: 3.4918 - val_accuracy: 0.1473\n",
      "Epoch 14/400\n",
      "31/31 [==============================] - 37s 1s/step - loss: 1.3951 - accuracy: 0.6255 - val_loss: 3.1866 - val_accuracy: 0.2121\n",
      "Epoch 15/400\n",
      "31/31 [==============================] - 37s 1s/step - loss: 1.2665 - accuracy: 0.6570 - val_loss: 2.9442 - val_accuracy: 0.2679\n",
      "Epoch 16/400\n",
      "31/31 [==============================] - 37s 1s/step - loss: 1.2274 - accuracy: 0.6580 - val_loss: 2.4005 - val_accuracy: 0.3929\n",
      "Epoch 17/400\n",
      "31/31 [==============================] - 37s 1s/step - loss: 1.1333 - accuracy: 0.6832 - val_loss: 2.8734 - val_accuracy: 0.2902\n",
      "Epoch 18/400\n",
      "31/31 [==============================] - 37s 1s/step - loss: 1.0525 - accuracy: 0.7115 - val_loss: 2.5002 - val_accuracy: 0.3415\n",
      "Epoch 19/400\n",
      "31/31 [==============================] - 38s 1s/step - loss: 0.9996 - accuracy: 0.7156 - val_loss: 2.2576 - val_accuracy: 0.4018\n",
      "Epoch 20/400\n",
      "31/31 [==============================] - 37s 1s/step - loss: 0.9524 - accuracy: 0.7211 - val_loss: 2.1082 - val_accuracy: 0.4263\n",
      "Epoch 21/400\n",
      "31/31 [==============================] - 38s 1s/step - loss: 0.9113 - accuracy: 0.7535 - val_loss: 2.4135 - val_accuracy: 0.3683\n",
      "Epoch 22/400\n",
      "31/31 [==============================] - 37s 1s/step - loss: 0.8432 - accuracy: 0.7557 - val_loss: 2.1371 - val_accuracy: 0.4241\n",
      "Epoch 23/400\n",
      "31/31 [==============================] - 38s 1s/step - loss: 0.7570 - accuracy: 0.7891 - val_loss: 2.0216 - val_accuracy: 0.4464\n",
      "Epoch 24/400\n",
      "31/31 [==============================] - 38s 1s/step - loss: 0.7660 - accuracy: 0.7741 - val_loss: 1.9824 - val_accuracy: 0.4710\n",
      "Epoch 25/400\n",
      "31/31 [==============================] - 37s 1s/step - loss: 0.6691 - accuracy: 0.8188 - val_loss: 2.1950 - val_accuracy: 0.4263\n",
      "Epoch 26/400\n",
      "31/31 [==============================] - 37s 1s/step - loss: 0.6867 - accuracy: 0.8098 - val_loss: 2.2190 - val_accuracy: 0.4531\n",
      "Epoch 27/400\n",
      "31/31 [==============================] - 37s 1s/step - loss: 0.6584 - accuracy: 0.8170 - val_loss: 2.2322 - val_accuracy: 0.4487\n",
      "Epoch 28/400\n",
      "31/31 [==============================] - 37s 1s/step - loss: 0.6170 - accuracy: 0.8295 - val_loss: 1.9150 - val_accuracy: 0.4866\n",
      "Epoch 29/400\n",
      "31/31 [==============================] - 38s 1s/step - loss: 0.5531 - accuracy: 0.8508 - val_loss: 2.3321 - val_accuracy: 0.4219\n",
      "Epoch 30/400\n",
      "31/31 [==============================] - 37s 1s/step - loss: 0.5607 - accuracy: 0.8538 - val_loss: 2.0796 - val_accuracy: 0.4420\n",
      "Epoch 31/400\n",
      "31/31 [==============================] - 37s 1s/step - loss: 0.5285 - accuracy: 0.8504 - val_loss: 2.0516 - val_accuracy: 0.4576\n",
      "Epoch 32/400\n",
      "31/31 [==============================] - 38s 1s/step - loss: 0.4850 - accuracy: 0.8538 - val_loss: 1.9795 - val_accuracy: 0.4821\n",
      "Epoch 33/400\n",
      "31/31 [==============================] - 37s 1s/step - loss: 0.5016 - accuracy: 0.8662 - val_loss: 2.3053 - val_accuracy: 0.4308\n",
      "Epoch 34/400\n",
      "31/31 [==============================] - 37s 1s/step - loss: 0.4724 - accuracy: 0.8681 - val_loss: 2.0423 - val_accuracy: 0.4799\n",
      "Epoch 35/400\n",
      "31/31 [==============================] - 37s 1s/step - loss: 0.4426 - accuracy: 0.8709 - val_loss: 2.0857 - val_accuracy: 0.4911\n",
      "Epoch 36/400\n",
      "31/31 [==============================] - 37s 1s/step - loss: 0.4288 - accuracy: 0.8756 - val_loss: 2.0038 - val_accuracy: 0.4777\n",
      "Epoch 37/400\n",
      "31/31 [==============================] - 37s 1s/step - loss: 0.3914 - accuracy: 0.8919 - val_loss: 2.2656 - val_accuracy: 0.4420\n",
      "Epoch 38/400\n",
      "31/31 [==============================] - 36s 1s/step - loss: 0.3878 - accuracy: 0.9013 - val_loss: 2.1795 - val_accuracy: 0.4799\n",
      "Epoch 39/400\n",
      "31/31 [==============================] - 36s 1s/step - loss: 0.4015 - accuracy: 0.8820 - val_loss: 2.6005 - val_accuracy: 0.3772\n",
      "Epoch 40/400\n",
      "31/31 [==============================] - 36s 1s/step - loss: 0.3648 - accuracy: 0.8931 - val_loss: 2.2258 - val_accuracy: 0.4397\n",
      "Epoch 41/400\n",
      "31/31 [==============================] - 35s 1s/step - loss: 0.3648 - accuracy: 0.8867 - val_loss: 2.5196 - val_accuracy: 0.4129\n",
      "Epoch 42/400\n",
      "31/31 [==============================] - 36s 1s/step - loss: 0.3462 - accuracy: 0.9028 - val_loss: 2.2333 - val_accuracy: 0.4554\n",
      "Epoch 43/400\n",
      "31/31 [==============================] - 35s 1s/step - loss: 0.3170 - accuracy: 0.9080 - val_loss: 2.1177 - val_accuracy: 0.4643\n",
      "Epoch 44/400\n",
      "31/31 [==============================] - 36s 1s/step - loss: 0.3052 - accuracy: 0.9143 - val_loss: 2.2859 - val_accuracy: 0.4598\n",
      "Epoch 45/400\n",
      "31/31 [==============================] - 36s 1s/step - loss: 0.3035 - accuracy: 0.9181 - val_loss: 2.2188 - val_accuracy: 0.4710\n",
      "Epoch 46/400\n",
      "31/31 [==============================] - 36s 1s/step - loss: 0.2734 - accuracy: 0.9212 - val_loss: 2.3719 - val_accuracy: 0.4353\n",
      "Epoch 47/400\n",
      "31/31 [==============================] - 36s 1s/step - loss: 0.2909 - accuracy: 0.9129 - val_loss: 2.0599 - val_accuracy: 0.4911\n",
      "Epoch 48/400\n",
      "31/31 [==============================] - 36s 1s/step - loss: 0.2552 - accuracy: 0.9236 - val_loss: 2.0825 - val_accuracy: 0.4821\n",
      "Restoring model weights from the end of the best epoch.\n",
      "Epoch 00048: early stopping\n"
     ]
    }
   ],
   "source": [
    "history1 = model1.fit(\n",
    "    train_generator1,\n",
    "    epochs=EPOCHS,\n",
    "    validation_data=validation_generator1,\n",
    "    steps_per_epoch = train_generator1.samples // BATCH_SIZE,\n",
    "    validation_steps = validation_generator1.samples // BATCH_SIZE,\n",
    "    callbacks=[model_checkpoint_callback1, early_stopping_callback]\n",
    ")"
   ]
  },
  {
   "cell_type": "code",
   "execution_count": null,
   "metadata": {
    "colab": {
     "base_uri": "https://localhost:8080/",
     "height": 295
    },
    "id": "j3OK3o8QVqjo",
    "outputId": "531f3e05-a2b9-46dd-bd7b-eaca1458e466"
   },
   "outputs": [
    {
     "data": {
      "image/png": "[encoded data removed]",
      "text/plain": [
       "<Figure size 432x288 with 1 Axes>"
      ]
     },
     "metadata": {
      "needs_background": "light",
      "tags": []
     },
     "output_type": "display_data"
    }
   ],
   "source": [
    "plt.plot(history1.history['accuracy'])\n",
    "plt.plot(history1.history['val_accuracy'])\n",
    "plt.title('model accuracy')\n",
    "plt.ylabel('accuracy')\n",
    "plt.xlabel('epoch')\n",
    "plt.legend(['training', 'validation'], loc='best')\n",
    "plt.show()"
   ]
  },
  {
   "cell_type": "code",
   "execution_count": null,
   "metadata": {
    "colab": {
     "base_uri": "https://localhost:8080/",
     "height": 295
    },
    "id": "pSbfDFywV49i",
    "outputId": "e955a816-dbe5-4096-bbac-84cde3c9eb1d"
   },
   "outputs": [
    {
     "data": {
      "image/png": "[encoded data removed]",
      "text/plain": [
       "<Figure size 432x288 with 1 Axes>"
      ]
     },
     "metadata": {
      "needs_background": "light",
      "tags": []
     },
     "output_type": "display_data"
    }
   ],
   "source": [
    "plt.plot(history1.history['loss'])\n",
    "plt.plot(history1.history['val_loss'])\n",
    "plt.title('model loss')\n",
    "plt.ylabel('loss')\n",
    "plt.xlabel('epoch')\n",
    "plt.legend(['training', 'validation'], loc='best')\n",
    "plt.show()"
   ]
  },
  {
   "cell_type": "markdown",
   "metadata": {
    "id": "vzIJAwe6gSpe"
   },
   "source": [
    "The model performs well on the training set but goes not generalizes well on the validation set. The model is overfitting on the training data.\n",
    "\n",
    "One reason for the overfitting can be that there's not enough training data. For this part of the task, this cannot be improved upon. So, I'll try other ways to reduce overfitting:\n",
    "- Data Augmentation\n",
    "- Regularizarion\n",
    "- Using different activation function\n",
    "- Changing the model architecture\n",
    "\n",
    "For regularization, I'm using dropout."
   ]
  },
  {
   "cell_type": "markdown",
   "metadata": {
    "id": "AZ-paVhlhh8T"
   },
   "source": [
    "### Experiment 2: Augmenting training data"
   ]
  },
  {
   "cell_type": "markdown",
   "metadata": {
    "id": "9HHytQDzkTVt"
   },
   "source": [
    "I augment the data by randomly shearing it by a range of 0.1 and rotating it by a range of 0.5 degrees. \n",
    "\n",
    "So, these augmentation methods should help generalize better on unseen images."
   ]
  },
  {
   "cell_type": "markdown",
   "metadata": {
    "id": "9jASSYR6e70J"
   },
   "source": [
    "#### **Sidenote**: On using other data augmentation techniques"
   ]
  },
  {
   "cell_type": "markdown",
   "metadata": {
    "id": "X2pga7Xbe70K"
   },
   "source": [
    "I tried other parameters tool, like horizontal and vertical shifts but, they blurred the images and the training set and they didn't really looked like the validation samples anymore (I also tested them for a small epoch and they were actually giving worse results than the first experiment). I'll show some samples to see why I did not augment much on these images, before going forward with the model building."
   ]
  },
  {
   "cell_type": "markdown",
   "metadata": {
    "id": "Xf7ba4cye70M"
   },
   "source": [
    "##### Unaugmented data"
   ]
  },
  {
   "cell_type": "code",
   "execution_count": null,
   "metadata": {
    "colab": {
     "base_uri": "https://localhost:8080/",
     "height": 718
    },
    "execution": {
     "iopub.execute_input": "2021-04-09T11:17:36.979353Z",
     "iopub.status.busy": "2021-04-09T11:17:36.978777Z",
     "iopub.status.idle": "2021-04-09T11:17:43.300680Z",
     "shell.execute_reply": "2021-04-09T11:17:43.299100Z",
     "shell.execute_reply.started": "2021-04-09T11:17:36.979287Z"
    },
    "id": "W-YpE1uve70M",
    "outputId": "8b0dea7b-baac-4d32-bdb4-a191c04d91aa"
   },
   "outputs": [
    {
     "name": "stdout",
     "output_type": "stream",
     "text": [
      "Found 2480 images belonging to 62 classes.\n"
     ]
    },
    {
     "data": {
      "image/png": "[encoded data removed]",
      "text/plain": [
       "<Figure size 1152x864 with 16 Axes>"
      ]
     },
     "metadata": {
      "needs_background": "light",
      "tags": []
     },
     "output_type": "display_data"
    }
   ],
   "source": [
    "no_augmentation = ImageDataGenerator(rescale=1./255, preprocessing_function=lambda x: 1-x)\n",
    "\n",
    "no_augmentation_gen = no_augmentation.flow_from_directory(\n",
    "        '../input/trainpart1zip/train',\n",
    "        target_size=IMAGE_SIZE,\n",
    "        batch_size=BATCH_SIZE,\n",
    "        class_mode='categorical',\n",
    "        color_mode='grayscale',\n",
    "        seed=42,\n",
    "        shuffle=True)\n",
    "\n",
    "X_no_aug, _ = no_augmentation_gen.next()\n",
    "plt.figure(figsize=(16,12))\n",
    "for i in range(1, 17):\n",
    "    plt.subplot(4,4,i)\n",
    "    imshow(tf.squeeze(X_no_aug[i]), cmap='gray')\n",
    "plt.show() "
   ]
  },
  {
   "cell_type": "markdown",
   "metadata": {
    "id": "tKuY52X2e70Q"
   },
   "source": [
    "##### Checking rotation with max angle of 15"
   ]
  },
  {
   "cell_type": "code",
   "execution_count": null,
   "metadata": {
    "colab": {
     "base_uri": "https://localhost:8080/",
     "height": 718
    },
    "execution": {
     "iopub.execute_input": "2021-04-09T10:47:07.682194Z",
     "iopub.status.busy": "2021-04-09T10:47:07.681700Z",
     "iopub.status.idle": "2021-04-09T10:47:13.893020Z",
     "shell.execute_reply": "2021-04-09T10:47:13.891287Z",
     "shell.execute_reply.started": "2021-04-09T10:47:07.682136Z"
    },
    "id": "_gkLE6n1e70R",
    "outputId": "5015a3ab-e4d1-49e2-9ad5-2803998d2934"
   },
   "outputs": [
    {
     "name": "stdout",
     "output_type": "stream",
     "text": [
      "Found 2480 images belonging to 62 classes.\n"
     ]
    },
    {
     "data": {
      "image/png": "[encoded data removed]",
      "text/plain": [
       "<Figure size 1152x864 with 16 Axes>"
      ]
     },
     "metadata": {
      "needs_background": "light",
      "tags": []
     },
     "output_type": "display_data"
    }
   ],
   "source": [
    "augmentation_test_rotation = ImageDataGenerator(rescale=1./255, rotation_range=15, preprocessing_function=lambda x: 1-x)\n",
    "\n",
    "augmentation_test_rotation_gen = augmentation_test_rotation.flow_from_directory(\n",
    "        '../input/trainpart1zip/train',\n",
    "        target_size=IMAGE_SIZE,\n",
    "        batch_size=BATCH_SIZE,\n",
    "        class_mode='categorical',\n",
    "        color_mode='grayscale',\n",
    "        seed=42,\n",
    "        shuffle=True)\n",
    "\n",
    "X_aug_rot, _ = augmentation_test_rotation_gen.next()\n",
    "plt.figure(figsize=(16,12))\n",
    "for i in range(1, 17):\n",
    "    plt.subplot(4,4,i)\n",
    "    imshow(tf.squeeze(X_aug_rot[i]), cmap='gray')\n",
    "plt.show() "
   ]
  },
  {
   "cell_type": "markdown",
   "metadata": {
    "id": "EVc_ztJCe70T"
   },
   "source": [
    "##### Checking shear with max shear of 0.3"
   ]
  },
  {
   "cell_type": "code",
   "execution_count": null,
   "metadata": {
    "colab": {
     "base_uri": "https://localhost:8080/",
     "height": 718
    },
    "execution": {
     "iopub.execute_input": "2021-04-09T11:18:45.601901Z",
     "iopub.status.busy": "2021-04-09T11:18:45.601398Z",
     "iopub.status.idle": "2021-04-09T11:18:52.721302Z",
     "shell.execute_reply": "2021-04-09T11:18:52.710582Z",
     "shell.execute_reply.started": "2021-04-09T11:18:45.601844Z"
    },
    "id": "dZIwjiI0e70U",
    "outputId": "b27ddf14-cd53-4cc6-f54c-2320934aaf5e",
    "tags": []
   },
   "outputs": [
    {
     "name": "stdout",
     "output_type": "stream",
     "text": [
      "Found 2480 images belonging to 62 classes.\n"
     ]
    },
    {
     "data": {
      "image/png": "[encoded data removed]",
      "text/plain": [
       "<Figure size 1152x864 with 16 Axes>"
      ]
     },
     "metadata": {
      "needs_background": "light",
      "tags": []
     },
     "output_type": "display_data"
    }
   ],
   "source": [
    "augmentation_test_shear = ImageDataGenerator(rescale=1./255, shear_range=0.3, preprocessing_function=lambda x: 1-x)\n",
    "\n",
    "augmentation_test_shear_gen = augmentation_test_shear.flow_from_directory(\n",
    "        '../input/trainpart1zip/train',\n",
    "        target_size=IMAGE_SIZE,\n",
    "        batch_size=BATCH_SIZE,\n",
    "        class_mode='categorical',\n",
    "        color_mode='grayscale',\n",
    "        seed=42,\n",
    "        shuffle=True)\n",
    "\n",
    "X_aug_shear, _ = augmentation_test_shear_gen.next()\n",
    "plt.figure(figsize=(16,12))\n",
    "for i in range(1, 17):\n",
    "    plt.subplot(4,4,i)\n",
    "    imshow(tf.squeeze(X_aug_shear[i]), cmap='gray')\n",
    "plt.show() "
   ]
  },
  {
   "cell_type": "markdown",
   "metadata": {
    "id": "83t6wgQ3e70W"
   },
   "source": [
    "##### Checking zoom with max zoom of 0.2"
   ]
  },
  {
   "cell_type": "code",
   "execution_count": null,
   "metadata": {
    "colab": {
     "base_uri": "https://localhost:8080/",
     "height": 718
    },
    "execution": {
     "iopub.execute_input": "2021-04-09T11:19:52.132525Z",
     "iopub.status.busy": "2021-04-09T11:19:52.132023Z",
     "iopub.status.idle": "2021-04-09T11:19:58.692868Z",
     "shell.execute_reply": "2021-04-09T11:19:58.690871Z",
     "shell.execute_reply.started": "2021-04-09T11:19:52.132465Z"
    },
    "id": "nrYlRGHVe70X",
    "outputId": "6ef238b4-0e1f-4b22-b6b7-e72865ecfe09"
   },
   "outputs": [
    {
     "name": "stdout",
     "output_type": "stream",
     "text": [
      "Found 2480 images belonging to 62 classes.\n"
     ]
    },
    {
     "data": {
      "image/png": "[encoded data removed]",
      "text/plain": [
       "<Figure size 1152x864 with 16 Axes>"
      ]
     },
     "metadata": {
      "needs_background": "light",
      "tags": []
     },
     "output_type": "display_data"
    }
   ],
   "source": [
    "augmentation_test_zoom = ImageDataGenerator(rescale=1./255, zoom_range=0.2, preprocessing_function=lambda x: 1-x)\n",
    "\n",
    "augmentation_test_zoom_gen = augmentation_test_zoom.flow_from_directory(\n",
    "        '../input/trainpart1zip/train',\n",
    "        target_size=IMAGE_SIZE,\n",
    "        batch_size=BATCH_SIZE,\n",
    "        class_mode='categorical',\n",
    "        color_mode='grayscale',\n",
    "        seed=42,\n",
    "        shuffle=True)\n",
    "\n",
    "X_aug_zoom, _ = augmentation_test_zoom_gen.next()\n",
    "plt.figure(figsize=(16,12))\n",
    "for i in range(1, 17):\n",
    "    plt.subplot(4,4,i)\n",
    "    imshow(tf.squeeze(X_aug_zoom[i]), cmap='gray')\n",
    "plt.show() "
   ]
  },
  {
   "cell_type": "markdown",
   "metadata": {
    "id": "wvTMpyU3e70Y"
   },
   "source": [
    "##### Checking with horizontal and vertical shift of 0.2"
   ]
  },
  {
   "cell_type": "code",
   "execution_count": null,
   "metadata": {
    "colab": {
     "base_uri": "https://localhost:8080/",
     "height": 718
    },
    "execution": {
     "iopub.execute_input": "2021-04-09T11:22:35.407851Z",
     "iopub.status.busy": "2021-04-09T11:22:35.407326Z",
     "iopub.status.idle": "2021-04-09T11:22:41.592346Z",
     "shell.execute_reply": "2021-04-09T11:22:41.590842Z",
     "shell.execute_reply.started": "2021-04-09T11:22:35.407790Z"
    },
    "id": "HLw8TN2ze70Z",
    "outputId": "2fb2b745-1f4a-4552-a527-cf38211abacc",
    "tags": []
   },
   "outputs": [
    {
     "name": "stdout",
     "output_type": "stream",
     "text": [
      "Found 2480 images belonging to 62 classes.\n"
     ]
    },
    {
     "data": {
      "image/png": "[encoded data removed]",
      "text/plain": [
       "<Figure size 1152x864 with 16 Axes>"
      ]
     },
     "metadata": {
      "needs_background": "light",
      "tags": []
     },
     "output_type": "display_data"
    }
   ],
   "source": [
    "augmentation_test_shift = ImageDataGenerator(rescale=1./255, width_shift_range=0.2, height_shift_range=0.2, preprocessing_function=lambda x: 1-x)\n",
    "\n",
    "augmentation_test_shift_gen = augmentation_test_shift.flow_from_directory(\n",
    "        '../input/trainpart1zip/train',\n",
    "        target_size=IMAGE_SIZE,\n",
    "        batch_size=BATCH_SIZE,\n",
    "        class_mode='categorical',\n",
    "        color_mode='grayscale',\n",
    "        seed=42,\n",
    "        shuffle=True)\n",
    "\n",
    "X_aug_shift, _ = augmentation_test_shift_gen.next()\n",
    "plt.figure(figsize=(16,12))\n",
    "for i in range(1, 17):\n",
    "    plt.subplot(4,4,i)\n",
    "    imshow(tf.squeeze(X_aug_shift[i]), cmap='gray')\n",
    "plt.show() "
   ]
  },
  {
   "cell_type": "markdown",
   "metadata": {
    "id": "g2tnZNBfe70b"
   },
   "source": [
    "#### Conclusion: On what augmentation to choose"
   ]
  },
  {
   "cell_type": "markdown",
   "metadata": {
    "id": "g2ZxtJ1Ye70c"
   },
   "source": [
    "These augmentations don't turn out very well. They look very different form the training data. I think the closest is the shear, but there's no noticeable effect that I can see from the naked eye. I think I'll still go on with a little of shear and a little of rotation and see how the model performs."
   ]
  },
  {
   "cell_type": "code",
   "execution_count": null,
   "metadata": {
    "execution": {
     "iopub.execute_input": "2021-04-09T10:43:35.481797Z",
     "iopub.status.busy": "2021-04-09T10:43:35.481288Z",
     "iopub.status.idle": "2021-04-09T10:43:35.490397Z",
     "shell.execute_reply": "2021-04-09T10:43:35.488524Z",
     "shell.execute_reply.started": "2021-04-09T10:43:35.481736Z"
    },
    "id": "Ak3ZzghphkA_",
    "tags": []
   },
   "outputs": [],
   "source": [
    "train_datagen2 = ImageDataGenerator(\n",
    "    rescale=1./255,\n",
    "    validation_split=0.2,\n",
    "    shear_range=0.1,\n",
    "    rotation_range=0.5,\n",
    "    preprocessing_function=lambda x: 1-x)\n",
    "\n",
    "validation_datagen2 = ImageDataGenerator(\n",
    "    rescale=1./255,\n",
    "    validation_split=0.2,\n",
    "    preprocessing_function=lambda x: 1-x)"
   ]
  },
  {
   "cell_type": "code",
   "execution_count": null,
   "metadata": {
    "colab": {
     "base_uri": "https://localhost:8080/"
    },
    "execution": {
     "iopub.execute_input": "2021-04-09T10:44:11.703958Z",
     "iopub.status.busy": "2021-04-09T10:44:11.703462Z",
     "iopub.status.idle": "2021-04-09T10:44:11.962167Z",
     "shell.execute_reply": "2021-04-09T10:44:11.959515Z",
     "shell.execute_reply.started": "2021-04-09T10:44:11.703899Z"
    },
    "id": "1btLkiz7kai6",
    "outputId": "504967ed-b3af-4f46-be2d-fef18b43e2f1",
    "tags": []
   },
   "outputs": [
    {
     "name": "stdout",
     "output_type": "stream",
     "text": [
      "Found 1984 images belonging to 62 classes.\n"
     ]
    }
   ],
   "source": [
    "train_generator2 = train_datagen2.flow_from_directory(\n",
    "        '../input/trainpart1zip/train',\n",
    "        target_size=IMAGE_SIZE,\n",
    "        batch_size=BATCH_SIZE,\n",
    "        class_mode='categorical',\n",
    "        color_mode='grayscale',\n",
    "        subset='training',\n",
    "        seed=42,\n",
    "        shuffle=True)"
   ]
  },
  {
   "cell_type": "code",
   "execution_count": null,
   "metadata": {
    "colab": {
     "base_uri": "https://localhost:8080/"
    },
    "execution": {
     "iopub.execute_input": "2021-04-09T10:38:16.910054Z",
     "iopub.status.busy": "2021-04-09T10:38:16.909524Z",
     "iopub.status.idle": "2021-04-09T10:38:17.049048Z",
     "shell.execute_reply": "2021-04-09T10:38:17.047107Z",
     "shell.execute_reply.started": "2021-04-09T10:38:16.909994Z"
    },
    "id": "j1hnbhUEkiYA",
    "outputId": "4c1d020c-d64e-42c5-8dc4-f3417bf16132",
    "tags": []
   },
   "outputs": [
    {
     "name": "stdout",
     "output_type": "stream",
     "text": [
      "Found 496 images belonging to 62 classes.\n"
     ]
    }
   ],
   "source": [
    "validation_generator2 = validation_datagen2.flow_from_directory(\n",
    "        '../input/trainpart1zip/train',\n",
    "        target_size=IMAGE_SIZE,\n",
    "        batch_size=BATCH_SIZE,\n",
    "        class_mode='categorical',\n",
    "        color_mode='grayscale',\n",
    "        subset='validation',\n",
    "        seed=42,\n",
    "        shuffle=True)"
   ]
  },
  {
   "cell_type": "markdown",
   "metadata": {
    "id": "eooK5ZTGP4_v"
   },
   "source": [
    "Viewing the Generated samples"
   ]
  },
  {
   "cell_type": "code",
   "execution_count": null,
   "metadata": {
    "colab": {
     "base_uri": "https://localhost:8080/",
     "height": 718
    },
    "execution": {
     "iopub.execute_input": "2021-04-09T10:38:20.833169Z",
     "iopub.status.busy": "2021-04-09T10:38:20.832653Z",
     "iopub.status.idle": "2021-04-09T10:38:27.671791Z",
     "shell.execute_reply": "2021-04-09T10:38:27.670151Z",
     "shell.execute_reply.started": "2021-04-09T10:38:20.833111Z"
    },
    "id": "f3pRGM1GP4_w",
    "outputId": "2201805c-1c82-47cd-a58f-2e129291b1f6"
   },
   "outputs": [
    {
     "name": "stdout",
     "output_type": "stream",
     "text": [
      "(64, 21, 28, 1) (64, 62)\n"
     ]
    },
    {
     "data": {
      "image/png": "[encoded data removed]",
      "text/plain": [
       "<Figure size 1152x864 with 16 Axes>"
      ]
     },
     "metadata": {
      "needs_background": "light",
      "tags": []
     },
     "output_type": "display_data"
    }
   ],
   "source": [
    "X_train_batch0, y_train_batch0 = train_generator2.next()\n",
    "print(X_train_batch0.shape, y_train_batch0.shape)\n",
    "plt.figure(figsize=(16,12))\n",
    "for i in range(1, 17):\n",
    "    plt.subplot(4,4,i)\n",
    "    imshow(tf.squeeze(X_train_batch0[i]), cmap='gray')\n",
    "plt.show() "
   ]
  },
  {
   "cell_type": "code",
   "execution_count": null,
   "metadata": {
    "colab": {
     "base_uri": "https://localhost:8080/",
     "height": 718
    },
    "execution": {
     "iopub.execute_input": "2021-04-09T10:38:27.674751Z",
     "iopub.status.busy": "2021-04-09T10:38:27.674241Z",
     "iopub.status.idle": "2021-04-09T10:38:33.946133Z",
     "shell.execute_reply": "2021-04-09T10:38:33.944541Z",
     "shell.execute_reply.started": "2021-04-09T10:38:27.674694Z"
    },
    "id": "HSI-Ag85P4_x",
    "outputId": "bb89d203-38ea-4989-e523-f7f0991c4011"
   },
   "outputs": [
    {
     "name": "stdout",
     "output_type": "stream",
     "text": [
      "(64, 21, 28, 1) (64, 62)\n"
     ]
    },
    {
     "data": {
      "image/png": "[encoded data removed]",
      "text/plain": [
       "<Figure size 1152x864 with 16 Axes>"
      ]
     },
     "metadata": {
      "needs_background": "light",
      "tags": []
     },
     "output_type": "display_data"
    }
   ],
   "source": [
    "X_validation_batch0, y_validation_batch0 = validation_generator2.next()\n",
    "print(X_validation_batch0.shape, y_validation_batch0.shape)\n",
    "plt.figure(figsize=(16,12))\n",
    "for i in range(1, 17):\n",
    "    plt.subplot(4,4,i)\n",
    "    imshow(tf.squeeze(X_validation_batch0[i]), cmap='gray')\n",
    "plt.show() "
   ]
  },
  {
   "cell_type": "markdown",
   "metadata": {
    "id": "Yo7wEg5iIJRf"
   },
   "source": [
    "Using the same architecture as before"
   ]
  },
  {
   "cell_type": "code",
   "execution_count": null,
   "metadata": {
    "execution": {
     "iopub.execute_input": "2021-04-08T15:32:06.542343Z",
     "iopub.status.busy": "2021-04-08T15:32:06.541838Z",
     "iopub.status.idle": "2021-04-08T15:32:06.638516Z",
     "shell.execute_reply": "2021-04-08T15:32:06.635526Z",
     "shell.execute_reply.started": "2021-04-08T15:32:06.542281Z"
    },
    "id": "7Rl8qh5nIJRf",
    "tags": []
   },
   "outputs": [],
   "source": [
    "model2 = Sequential()\n",
    "\n",
    "# Lambda Layer for adding Padding\n",
    "model2.add(Lambda(lambda image: tf.image.resize_with_crop_or_pad(\n",
    "        image, 28, 28), input_shape=(*IMAGE_SIZE, 1)))\n",
    "\n",
    "# 1st Convolution Layer\n",
    "model2.add(Conv2D(6, kernel_size=(5,5), padding='same', activation='relu'))\n",
    "model2.add(BatchNormalization())\n",
    "model2.add(MaxPooling2D(pool_size=(2,2), strides=2))\n",
    "\n",
    "# 2nd Convolution Layer\n",
    "model2.add(Conv2D(16, kernel_size=(5,5), activation='relu'))\n",
    "model2.add(BatchNormalization())\n",
    "model2.add(MaxPooling2D(pool_size=(2,2), strides=2))\n",
    "\n",
    "# Passing to a Fully Connected Layer\n",
    "model2.add(Flatten())\n",
    "\n",
    "# 1st Fully Connected Layer\n",
    "model2.add(Dense(256, activation='relu'))\n",
    "model2.add(BatchNormalization())\n",
    "model2.add(Dropout(0.4))\n",
    "\n",
    "# 2nd Fully Connected Layer\n",
    "model2.add(Dense(128, activation='relu'))\n",
    "model2.add(BatchNormalization())\n",
    "model2.add(Dropout(0.4))\n",
    "\n",
    "# Output Layer\n",
    "model2.add(Dense(62, activation='softmax'))"
   ]
  },
  {
   "cell_type": "code",
   "execution_count": null,
   "metadata": {
    "colab": {
     "base_uri": "https://localhost:8080/"
    },
    "execution": {
     "iopub.execute_input": "2021-04-08T11:00:38.387108Z",
     "iopub.status.busy": "2021-04-08T11:00:38.386602Z",
     "iopub.status.idle": "2021-04-08T11:00:38.409904Z",
     "shell.execute_reply": "2021-04-08T11:00:38.408220Z",
     "shell.execute_reply.started": "2021-04-08T11:00:38.387047Z"
    },
    "id": "VA5tacfrIJRh",
    "outputId": "30def086-ce91-4313-cbeb-c1327b07b20b",
    "tags": []
   },
   "outputs": [
    {
     "name": "stdout",
     "output_type": "stream",
     "text": [
      "Model: \"sequential_5\"\n",
      "_________________________________________________________________\n",
      "Layer (type)                 Output Shape              Param #   \n",
      "=================================================================\n",
      "lambda_3 (Lambda)            (None, 28, 28, 1)         0         \n",
      "_________________________________________________________________\n",
      "conv2d_6 (Conv2D)            (None, 28, 28, 6)         156       \n",
      "_________________________________________________________________\n",
      "batch_normalization_12 (Batc (None, 28, 28, 6)         24        \n",
      "_________________________________________________________________\n",
      "max_pooling2d_6 (MaxPooling2 (None, 14, 14, 6)         0         \n",
      "_________________________________________________________________\n",
      "conv2d_7 (Conv2D)            (None, 10, 10, 16)        2416      \n",
      "_________________________________________________________________\n",
      "batch_normalization_13 (Batc (None, 10, 10, 16)        64        \n",
      "_________________________________________________________________\n",
      "max_pooling2d_7 (MaxPooling2 (None, 5, 5, 16)          0         \n",
      "_________________________________________________________________\n",
      "flatten_3 (Flatten)          (None, 400)               0         \n",
      "_________________________________________________________________\n",
      "dense_9 (Dense)              (None, 256)               102656    \n",
      "_________________________________________________________________\n",
      "batch_normalization_14 (Batc (None, 256)               1024      \n",
      "_________________________________________________________________\n",
      "dropout_6 (Dropout)          (None, 256)               0         \n",
      "_________________________________________________________________\n",
      "dense_10 (Dense)             (None, 128)               32896     \n",
      "_________________________________________________________________\n",
      "batch_normalization_15 (Batc (None, 128)               512       \n",
      "_________________________________________________________________\n",
      "dropout_7 (Dropout)          (None, 128)               0         \n",
      "_________________________________________________________________\n",
      "dense_11 (Dense)             (None, 62)                7998      \n",
      "=================================================================\n",
      "Total params: 147,746\n",
      "Trainable params: 146,934\n",
      "Non-trainable params: 812\n",
      "_________________________________________________________________\n"
     ]
    }
   ],
   "source": [
    "model2.summary()"
   ]
  },
  {
   "cell_type": "code",
   "execution_count": null,
   "metadata": {
    "execution": {
     "iopub.execute_input": "2021-04-08T11:00:39.514576Z",
     "iopub.status.busy": "2021-04-08T11:00:39.514076Z",
     "iopub.status.idle": "2021-04-08T11:00:39.538176Z",
     "shell.execute_reply": "2021-04-08T11:00:39.536475Z",
     "shell.execute_reply.started": "2021-04-08T11:00:39.514516Z"
    },
    "id": "5dZqJEEoIJRi",
    "tags": []
   },
   "outputs": [],
   "source": [
    "model2.compile(loss='categorical_crossentropy', optimizer=Adam(), metrics=['accuracy'])"
   ]
  },
  {
   "cell_type": "markdown",
   "metadata": {
    "id": "ZB346_TSO-82"
   },
   "source": [
    "Saving the checkpoint"
   ]
  },
  {
   "cell_type": "code",
   "execution_count": null,
   "metadata": {
    "id": "qZSQ_j7FPBtW"
   },
   "outputs": [],
   "source": [
    "checkpoint_filepath2 = 'exp2/checkpoint'\n",
    "model_checkpoint_callback2 = tf.keras.callbacks.ModelCheckpoint(\n",
    "    filepath=checkpoint_filepath2,\n",
    "    save_weights_only=True,\n",
    "    monitor='val_loss',\n",
    "    mode='min',\n",
    "    save_best_only=True)"
   ]
  },
  {
   "cell_type": "code",
   "execution_count": null,
   "metadata": {
    "colab": {
     "base_uri": "https://localhost:8080/"
    },
    "execution": {
     "iopub.execute_input": "2021-04-08T11:00:41.881464Z",
     "iopub.status.busy": "2021-04-08T11:00:41.880957Z",
     "iopub.status.idle": "2021-04-08T11:18:06.288883Z",
     "shell.execute_reply": "2021-04-08T11:18:06.287091Z",
     "shell.execute_reply.started": "2021-04-08T11:00:41.881401Z"
    },
    "id": "_XCaoKf6IJRj",
    "outputId": "8cca6cc7-d1a7-4ec2-b63d-23b648a0e9d6",
    "tags": []
   },
   "outputs": [
    {
     "name": "stdout",
     "output_type": "stream",
     "text": [
      "Epoch 1/400\n",
      "31/31 [==============================] - 39s 1s/step - loss: 4.9179 - accuracy: 0.0292 - val_loss: 4.1171 - val_accuracy: 0.0134\n",
      "Epoch 2/400\n",
      "31/31 [==============================] - 37s 1s/step - loss: 3.9544 - accuracy: 0.0845 - val_loss: 4.2481 - val_accuracy: 0.0223\n",
      "Epoch 3/400\n",
      "31/31 [==============================] - 37s 1s/step - loss: 3.3298 - accuracy: 0.1834 - val_loss: 4.4117 - val_accuracy: 0.0179\n",
      "Epoch 4/400\n",
      "31/31 [==============================] - 37s 1s/step - loss: 2.9691 - accuracy: 0.2378 - val_loss: 4.4836 - val_accuracy: 0.0223\n",
      "Epoch 5/400\n",
      "31/31 [==============================] - 37s 1s/step - loss: 2.7160 - accuracy: 0.3004 - val_loss: 4.7244 - val_accuracy: 0.0246\n",
      "Epoch 6/400\n",
      "31/31 [==============================] - 37s 1s/step - loss: 2.4925 - accuracy: 0.3474 - val_loss: 4.7267 - val_accuracy: 0.0290\n",
      "Epoch 7/400\n",
      "31/31 [==============================] - 38s 1s/step - loss: 2.2964 - accuracy: 0.3897 - val_loss: 4.6166 - val_accuracy: 0.0402\n",
      "Epoch 8/400\n",
      "31/31 [==============================] - 38s 1s/step - loss: 2.0821 - accuracy: 0.4473 - val_loss: 4.4550 - val_accuracy: 0.0513\n",
      "Epoch 9/400\n",
      "31/31 [==============================] - 38s 1s/step - loss: 1.9095 - accuracy: 0.4767 - val_loss: 4.4226 - val_accuracy: 0.0558\n",
      "Epoch 10/400\n",
      "31/31 [==============================] - 38s 1s/step - loss: 1.7685 - accuracy: 0.5219 - val_loss: 4.1272 - val_accuracy: 0.0804\n",
      "Epoch 11/400\n",
      "31/31 [==============================] - 38s 1s/step - loss: 1.6479 - accuracy: 0.5503 - val_loss: 3.9994 - val_accuracy: 0.1004\n",
      "Epoch 12/400\n",
      "31/31 [==============================] - 38s 1s/step - loss: 1.5627 - accuracy: 0.5729 - val_loss: 3.7159 - val_accuracy: 0.1406\n",
      "Epoch 13/400\n",
      "31/31 [==============================] - 38s 1s/step - loss: 1.4425 - accuracy: 0.6084 - val_loss: 3.3262 - val_accuracy: 0.1875\n",
      "Epoch 14/400\n",
      "31/31 [==============================] - 38s 1s/step - loss: 1.3613 - accuracy: 0.6108 - val_loss: 3.2196 - val_accuracy: 0.2098\n",
      "Epoch 15/400\n",
      "31/31 [==============================] - 38s 1s/step - loss: 1.2495 - accuracy: 0.6619 - val_loss: 3.0782 - val_accuracy: 0.2589\n",
      "Epoch 16/400\n",
      "31/31 [==============================] - 38s 1s/step - loss: 1.1788 - accuracy: 0.6728 - val_loss: 3.0833 - val_accuracy: 0.2388\n",
      "Epoch 17/400\n",
      "31/31 [==============================] - 38s 1s/step - loss: 1.0816 - accuracy: 0.6973 - val_loss: 2.4277 - val_accuracy: 0.3683\n",
      "Epoch 18/400\n",
      "31/31 [==============================] - 38s 1s/step - loss: 1.0507 - accuracy: 0.7043 - val_loss: 2.5340 - val_accuracy: 0.3728\n",
      "Epoch 19/400\n",
      "31/31 [==============================] - 38s 1s/step - loss: 0.9735 - accuracy: 0.7281 - val_loss: 2.3432 - val_accuracy: 0.3973\n",
      "Epoch 20/400\n",
      "31/31 [==============================] - 38s 1s/step - loss: 0.8633 - accuracy: 0.7548 - val_loss: 2.2234 - val_accuracy: 0.4152\n",
      "Epoch 21/400\n",
      "31/31 [==============================] - 38s 1s/step - loss: 0.9129 - accuracy: 0.7495 - val_loss: 2.4204 - val_accuracy: 0.3683\n",
      "Epoch 22/400\n",
      "31/31 [==============================] - 38s 1s/step - loss: 0.8618 - accuracy: 0.7651 - val_loss: 2.1153 - val_accuracy: 0.4219\n",
      "Epoch 23/400\n",
      "31/31 [==============================] - 38s 1s/step - loss: 0.7984 - accuracy: 0.7648 - val_loss: 2.0327 - val_accuracy: 0.4263\n",
      "Epoch 24/400\n",
      "31/31 [==============================] - 38s 1s/step - loss: 0.7360 - accuracy: 0.7823 - val_loss: 1.9827 - val_accuracy: 0.4397\n",
      "Epoch 25/400\n",
      "31/31 [==============================] - 38s 1s/step - loss: 0.6709 - accuracy: 0.8152 - val_loss: 2.2615 - val_accuracy: 0.4330\n",
      "Epoch 26/400\n",
      "31/31 [==============================] - 38s 1s/step - loss: 0.6548 - accuracy: 0.8148 - val_loss: 1.9355 - val_accuracy: 0.4576\n",
      "Epoch 27/400\n",
      "31/31 [==============================] - 38s 1s/step - loss: 0.5771 - accuracy: 0.8309 - val_loss: 2.0500 - val_accuracy: 0.4487\n",
      "Epoch 28/400\n",
      "31/31 [==============================] - 38s 1s/step - loss: 0.5515 - accuracy: 0.8555 - val_loss: 2.2629 - val_accuracy: 0.4062\n",
      "Epoch 29/400\n",
      "31/31 [==============================] - 38s 1s/step - loss: 0.6068 - accuracy: 0.8217 - val_loss: 2.1148 - val_accuracy: 0.4509\n",
      "Epoch 30/400\n",
      "31/31 [==============================] - 38s 1s/step - loss: 0.5225 - accuracy: 0.8474 - val_loss: 2.0364 - val_accuracy: 0.4688\n",
      "Epoch 31/400\n",
      "31/31 [==============================] - 38s 1s/step - loss: 0.4543 - accuracy: 0.8794 - val_loss: 2.0007 - val_accuracy: 0.4397\n",
      "Epoch 32/400\n",
      "31/31 [==============================] - 38s 1s/step - loss: 0.4583 - accuracy: 0.8642 - val_loss: 2.1119 - val_accuracy: 0.4330\n",
      "Epoch 33/400\n",
      "31/31 [==============================] - 38s 1s/step - loss: 0.4582 - accuracy: 0.8802 - val_loss: 2.1717 - val_accuracy: 0.3973\n",
      "Epoch 34/400\n",
      "31/31 [==============================] - 38s 1s/step - loss: 0.4106 - accuracy: 0.8962 - val_loss: 2.0637 - val_accuracy: 0.4688\n",
      "Epoch 35/400\n",
      "31/31 [==============================] - 38s 1s/step - loss: 0.4293 - accuracy: 0.8870 - val_loss: 2.2267 - val_accuracy: 0.4308\n",
      "Epoch 36/400\n",
      "31/31 [==============================] - 38s 1s/step - loss: 0.3922 - accuracy: 0.8794 - val_loss: 2.1612 - val_accuracy: 0.4442\n",
      "Epoch 37/400\n",
      "31/31 [==============================] - 38s 1s/step - loss: 0.3878 - accuracy: 0.8886 - val_loss: 2.2871 - val_accuracy: 0.4487\n",
      "Epoch 38/400\n",
      "31/31 [==============================] - 38s 1s/step - loss: 0.3509 - accuracy: 0.8957 - val_loss: 2.1536 - val_accuracy: 0.4353\n",
      "Epoch 39/400\n",
      "31/31 [==============================] - 38s 1s/step - loss: 0.3231 - accuracy: 0.9113 - val_loss: 2.0523 - val_accuracy: 0.4464\n",
      "Epoch 40/400\n",
      "31/31 [==============================] - 37s 1s/step - loss: 0.3275 - accuracy: 0.8947 - val_loss: 2.1564 - val_accuracy: 0.4643\n",
      "Epoch 41/400\n",
      "31/31 [==============================] - 37s 1s/step - loss: 0.3112 - accuracy: 0.9133 - val_loss: 2.1274 - val_accuracy: 0.4487\n",
      "Epoch 42/400\n",
      "31/31 [==============================] - 37s 1s/step - loss: 0.3607 - accuracy: 0.8859 - val_loss: 2.2628 - val_accuracy: 0.4866\n",
      "Epoch 43/400\n",
      "31/31 [==============================] - 37s 1s/step - loss: 0.2897 - accuracy: 0.9185 - val_loss: 2.0414 - val_accuracy: 0.4732\n",
      "Epoch 44/400\n",
      "31/31 [==============================] - 37s 1s/step - loss: 0.2757 - accuracy: 0.9142 - val_loss: 2.2787 - val_accuracy: 0.4308\n",
      "Epoch 45/400\n",
      "31/31 [==============================] - 38s 1s/step - loss: 0.2898 - accuracy: 0.9170 - val_loss: 2.5477 - val_accuracy: 0.4487\n",
      "Epoch 46/400\n",
      "31/31 [==============================] - 38s 1s/step - loss: 0.2611 - accuracy: 0.9306 - val_loss: 2.2970 - val_accuracy: 0.4420\n",
      "Restoring model weights from the end of the best epoch.\n",
      "Epoch 00046: early stopping\n"
     ]
    }
   ],
   "source": [
    "history2 = model2.fit(\n",
    "    train_generator2,\n",
    "    epochs=EPOCHS,\n",
    "    validation_data=validation_generator2,\n",
    "    steps_per_epoch = train_generator2.samples // BATCH_SIZE,\n",
    "    validation_steps = validation_generator2.samples // BATCH_SIZE,\n",
    "    callbacks=[model_checkpoint_callback2, early_stopping_callback]\n",
    ")"
   ]
  },
  {
   "cell_type": "code",
   "execution_count": null,
   "metadata": {
    "colab": {
     "base_uri": "https://localhost:8080/",
     "height": 295
    },
    "execution": {
     "iopub.execute_input": "2021-04-08T11:18:06.291506Z",
     "iopub.status.busy": "2021-04-08T11:18:06.291033Z",
     "iopub.status.idle": "2021-04-08T11:18:06.734888Z",
     "shell.execute_reply": "2021-04-08T11:18:06.732712Z",
     "shell.execute_reply.started": "2021-04-08T11:18:06.291447Z"
    },
    "id": "MPFGZUbBIJRl",
    "outputId": "a14266d8-de66-4e5d-b9e8-55152ec1ffb5"
   },
   "outputs": [
    {
     "data": {
      "image/png": "[encoded data removed]",
      "text/plain": [
       "<Figure size 432x288 with 1 Axes>"
      ]
     },
     "metadata": {
      "needs_background": "light",
      "tags": []
     },
     "output_type": "display_data"
    }
   ],
   "source": [
    "plt.plot(history2.history['accuracy'])\n",
    "plt.plot(history2.history['val_accuracy'])\n",
    "plt.title('model accuracy')\n",
    "plt.ylabel('accuracy')\n",
    "plt.xlabel('epoch')\n",
    "plt.legend(['training', 'validation'], loc='best')\n",
    "plt.show()"
   ]
  },
  {
   "cell_type": "code",
   "execution_count": null,
   "metadata": {
    "colab": {
     "base_uri": "https://localhost:8080/",
     "height": 295
    },
    "execution": {
     "iopub.execute_input": "2021-04-08T11:18:06.739826Z",
     "iopub.status.busy": "2021-04-08T11:18:06.739030Z",
     "iopub.status.idle": "2021-04-08T11:18:07.522405Z",
     "shell.execute_reply": "2021-04-08T11:18:07.520642Z",
     "shell.execute_reply.started": "2021-04-08T11:18:06.739718Z"
    },
    "id": "tf1eA7IzIJRm",
    "outputId": "3bbab256-cc20-4f02-8fe1-724a292deb83"
   },
   "outputs": [
    {
     "data": {
      "image/png": "[encoded data removed]",
      "text/plain": [
       "<Figure size 432x288 with 1 Axes>"
      ]
     },
     "metadata": {
      "needs_background": "light",
      "tags": []
     },
     "output_type": "display_data"
    }
   ],
   "source": [
    "plt.plot(history2.history['loss'])\n",
    "plt.plot(history2.history['val_loss'])\n",
    "plt.title('model loss')\n",
    "plt.ylabel('loss')\n",
    "plt.xlabel('epoch')\n",
    "plt.legend(['training', 'validation'], loc='best')\n",
    "plt.show()"
   ]
  },
  {
   "cell_type": "markdown",
   "metadata": {
    "id": "cdcXekrLP4_8"
   },
   "source": [
    "There's no visible improvements, than the first experiment. I think this is so becuase in this case, even slightly augmenting data leads to larger variations and since we don't have a lot of training samples, it still overfits to this data and does not generalize well on the validation set. So, I'll not use regularization in further experiments."
   ]
  },
  {
   "cell_type": "markdown",
   "metadata": {
    "id": "k8NjAx4NlOfW"
   },
   "source": [
    "### Experiment 3: Using different activation function: Mish"
   ]
  },
  {
   "cell_type": "markdown",
   "metadata": {
    "id": "PL6wffIFlcY7"
   },
   "source": [
    "From refs. [4] and [5], I will use the new Mish activation over ReLU. I'll use the training samples from first experiment as they gave better results than the second experiment and will use the same activation."
   ]
  },
  {
   "cell_type": "code",
   "execution_count": 10,
   "metadata": {
    "id": "7Ll67lRvP4_-"
   },
   "outputs": [],
   "source": [
    "# Mish Activation Function\n",
    "def mish(x):\n",
    "    return tf.keras.layers.Lambda(lambda x: x*tf.tanh(tf.math.log(1+tf.exp(x))))(x)"
   ]
  },
  {
   "cell_type": "code",
   "execution_count": null,
   "metadata": {
    "id": "FuynOqUqkl5b"
   },
   "outputs": [],
   "source": [
    "model3 = Sequential()\n",
    "\n",
    "# Lambda Layer for adding Padding\n",
    "model3.add(Lambda(lambda image: tf.image.resize_with_crop_or_pad(\n",
    "        image, 28, 28), input_shape=(*IMAGE_SIZE, 1)))\n",
    "\n",
    "# 1st Convolution Layer\n",
    "model3.add(Conv2D(6, kernel_size=(5,5), padding='same', activation='relu'))\n",
    "model3.add(BatchNormalization())\n",
    "model3.add(MaxPooling2D(pool_size=(2,2), strides=2))\n",
    "\n",
    "# 2nd Convolution Layer\n",
    "model3.add(Conv2D(16, kernel_size=(5,5), activation=mish))\n",
    "model3.add(BatchNormalization())\n",
    "model3.add(MaxPooling2D(pool_size=(2,2), strides=2))\n",
    "\n",
    "# Passing to a Fully Connected Layer\n",
    "model3.add(Flatten())\n",
    "\n",
    "# 1st Fully Connected Layer\n",
    "model3.add(Dense(256, activation=mish))\n",
    "model3.add(BatchNormalization())\n",
    "model3.add(Dropout(0.4))\n",
    "\n",
    "# 2nd Fully Connected Layer\n",
    "model3.add(Dense(128, activation=mish))\n",
    "model3.add(BatchNormalization())\n",
    "model3.add(Dropout(0.4))\n",
    "\n",
    "# Output Layer\n",
    "model3.add(Dense(62, activation='softmax'))"
   ]
  },
  {
   "cell_type": "code",
   "execution_count": null,
   "metadata": {
    "colab": {
     "base_uri": "https://localhost:8080/"
    },
    "id": "FbCBUIh1p85O",
    "outputId": "efdb1680-10b7-47cd-dd8d-30fdcaec7909"
   },
   "outputs": [
    {
     "name": "stdout",
     "output_type": "stream",
     "text": [
      "Model: \"sequential_9\"\n",
      "_________________________________________________________________\n",
      "Layer (type)                 Output Shape              Param #   \n",
      "=================================================================\n",
      "lambda_7 (Lambda)            (None, 28, 28, 1)         0         \n",
      "_________________________________________________________________\n",
      "conv2d_9 (Conv2D)            (None, 28, 28, 6)         156       \n",
      "_________________________________________________________________\n",
      "batch_normalization_16 (Batc (None, 28, 28, 6)         24        \n",
      "_________________________________________________________________\n",
      "max_pooling2d_8 (MaxPooling2 (None, 14, 14, 6)         0         \n",
      "_________________________________________________________________\n",
      "conv2d_10 (Conv2D)           (None, 10, 10, 16)        2416      \n",
      "_________________________________________________________________\n",
      "batch_normalization_17 (Batc (None, 10, 10, 16)        64        \n",
      "_________________________________________________________________\n",
      "max_pooling2d_9 (MaxPooling2 (None, 5, 5, 16)          0         \n",
      "_________________________________________________________________\n",
      "flatten_4 (Flatten)          (None, 400)               0         \n",
      "_________________________________________________________________\n",
      "dense_12 (Dense)             (None, 256)               102656    \n",
      "_________________________________________________________________\n",
      "batch_normalization_18 (Batc (None, 256)               1024      \n",
      "_________________________________________________________________\n",
      "dropout_8 (Dropout)          (None, 256)               0         \n",
      "_________________________________________________________________\n",
      "dense_13 (Dense)             (None, 128)               32896     \n",
      "_________________________________________________________________\n",
      "batch_normalization_19 (Batc (None, 128)               512       \n",
      "_________________________________________________________________\n",
      "dropout_9 (Dropout)          (None, 128)               0         \n",
      "_________________________________________________________________\n",
      "dense_14 (Dense)             (None, 62)                7998      \n",
      "=================================================================\n",
      "Total params: 147,746\n",
      "Trainable params: 146,934\n",
      "Non-trainable params: 812\n",
      "_________________________________________________________________\n"
     ]
    }
   ],
   "source": [
    "model3.summary()"
   ]
  },
  {
   "cell_type": "code",
   "execution_count": null,
   "metadata": {
    "id": "2GcWULycp_Gc"
   },
   "outputs": [],
   "source": [
    "model3.compile(loss='categorical_crossentropy', optimizer=Adam(), metrics=['accuracy'])"
   ]
  },
  {
   "cell_type": "markdown",
   "metadata": {
    "id": "iCHSnieIsEEg"
   },
   "source": [
    "Saving the checkpoint"
   ]
  },
  {
   "cell_type": "code",
   "execution_count": null,
   "metadata": {
    "id": "7sAxVbjwsG1H"
   },
   "outputs": [],
   "source": [
    "checkpoint_filepath3 = 'exp3/checkpoint'\n",
    "model_checkpoint_callback3 = tf.keras.callbacks.ModelCheckpoint(\n",
    "    filepath=checkpoint_filepath3,\n",
    "    save_weights_only=True,\n",
    "    monitor='val_loss',\n",
    "    mode='min',\n",
    "    save_best_only=True)"
   ]
  },
  {
   "cell_type": "code",
   "execution_count": null,
   "metadata": {
    "colab": {
     "base_uri": "https://localhost:8080/"
    },
    "id": "KK7OP0K2q55R",
    "outputId": "1f037b1a-f271-4596-f7a2-4f98f42a2b24"
   },
   "outputs": [
    {
     "name": "stdout",
     "output_type": "stream",
     "text": [
      "Epoch 1/400\n",
      "31/31 [==============================] - 40s 1s/step - loss: 4.9238 - accuracy: 0.0266 - val_loss: 4.1515 - val_accuracy: 0.0134\n",
      "Epoch 2/400\n",
      "31/31 [==============================] - 37s 1s/step - loss: 3.8077 - accuracy: 0.0993 - val_loss: 4.2567 - val_accuracy: 0.0156\n",
      "Epoch 3/400\n",
      "31/31 [==============================] - 37s 1s/step - loss: 3.2195 - accuracy: 0.1945 - val_loss: 4.3816 - val_accuracy: 0.0179\n",
      "Epoch 4/400\n",
      "31/31 [==============================] - 37s 1s/step - loss: 2.8448 - accuracy: 0.2681 - val_loss: 4.4611 - val_accuracy: 0.0134\n",
      "Epoch 5/400\n",
      "31/31 [==============================] - 37s 1s/step - loss: 2.5315 - accuracy: 0.3386 - val_loss: 4.4283 - val_accuracy: 0.0179\n",
      "Epoch 6/400\n",
      "31/31 [==============================] - 37s 1s/step - loss: 2.2639 - accuracy: 0.4173 - val_loss: 4.4882 - val_accuracy: 0.0179\n",
      "Epoch 7/400\n",
      "31/31 [==============================] - 37s 1s/step - loss: 2.1102 - accuracy: 0.4271 - val_loss: 4.4642 - val_accuracy: 0.0246\n",
      "Epoch 8/400\n",
      "31/31 [==============================] - 37s 1s/step - loss: 1.9080 - accuracy: 0.4965 - val_loss: 4.4612 - val_accuracy: 0.0312\n",
      "Epoch 9/400\n",
      "31/31 [==============================] - 37s 1s/step - loss: 1.7929 - accuracy: 0.5288 - val_loss: 4.3792 - val_accuracy: 0.0357\n",
      "Epoch 10/400\n",
      "31/31 [==============================] - 37s 1s/step - loss: 1.6198 - accuracy: 0.5701 - val_loss: 4.1353 - val_accuracy: 0.0536\n",
      "Epoch 11/400\n",
      "31/31 [==============================] - 37s 1s/step - loss: 1.4427 - accuracy: 0.6180 - val_loss: 3.9084 - val_accuracy: 0.0826\n",
      "Epoch 12/400\n",
      "31/31 [==============================] - 37s 1s/step - loss: 1.3872 - accuracy: 0.6358 - val_loss: 3.5125 - val_accuracy: 0.1585\n",
      "Epoch 13/400\n",
      "31/31 [==============================] - 37s 1s/step - loss: 1.2686 - accuracy: 0.6511 - val_loss: 3.4489 - val_accuracy: 0.1629\n",
      "Epoch 14/400\n",
      "31/31 [==============================] - 37s 1s/step - loss: 1.1243 - accuracy: 0.7029 - val_loss: 3.1760 - val_accuracy: 0.2210\n",
      "Epoch 15/400\n",
      "31/31 [==============================] - 37s 1s/step - loss: 1.0083 - accuracy: 0.7348 - val_loss: 3.0905 - val_accuracy: 0.2411\n",
      "Epoch 16/400\n",
      "31/31 [==============================] - 38s 1s/step - loss: 1.0226 - accuracy: 0.7115 - val_loss: 2.5326 - val_accuracy: 0.3527\n",
      "Epoch 17/400\n",
      "31/31 [==============================] - 37s 1s/step - loss: 0.9417 - accuracy: 0.7337 - val_loss: 2.6130 - val_accuracy: 0.3304\n",
      "Epoch 18/400\n",
      "31/31 [==============================] - 37s 1s/step - loss: 0.8189 - accuracy: 0.7852 - val_loss: 2.3660 - val_accuracy: 0.4040\n",
      "Epoch 19/400\n",
      "31/31 [==============================] - 37s 1s/step - loss: 0.7793 - accuracy: 0.7889 - val_loss: 2.2848 - val_accuracy: 0.4018\n",
      "Epoch 20/400\n",
      "31/31 [==============================] - 37s 1s/step - loss: 0.7237 - accuracy: 0.8143 - val_loss: 2.3281 - val_accuracy: 0.3906\n",
      "Epoch 21/400\n",
      "31/31 [==============================] - 37s 1s/step - loss: 0.7046 - accuracy: 0.8139 - val_loss: 2.6179 - val_accuracy: 0.3594\n",
      "Epoch 22/400\n",
      "31/31 [==============================] - 37s 1s/step - loss: 0.6245 - accuracy: 0.8436 - val_loss: 2.1490 - val_accuracy: 0.4308\n",
      "Epoch 23/400\n",
      "31/31 [==============================] - 37s 1s/step - loss: 0.5827 - accuracy: 0.8399 - val_loss: 2.1528 - val_accuracy: 0.4442\n",
      "Epoch 24/400\n",
      "31/31 [==============================] - 37s 1s/step - loss: 0.5779 - accuracy: 0.8506 - val_loss: 2.3637 - val_accuracy: 0.3973\n",
      "Epoch 25/400\n",
      "31/31 [==============================] - 37s 1s/step - loss: 0.5390 - accuracy: 0.8463 - val_loss: 2.3321 - val_accuracy: 0.4219\n",
      "Epoch 26/400\n",
      "31/31 [==============================] - 37s 1s/step - loss: 0.5005 - accuracy: 0.8700 - val_loss: 2.1540 - val_accuracy: 0.4330\n",
      "Epoch 27/400\n",
      "31/31 [==============================] - 37s 1s/step - loss: 0.5079 - accuracy: 0.8603 - val_loss: 2.1453 - val_accuracy: 0.4397\n",
      "Epoch 28/400\n",
      "31/31 [==============================] - 36s 1s/step - loss: 0.4628 - accuracy: 0.8690 - val_loss: 2.2682 - val_accuracy: 0.4263\n",
      "Epoch 29/400\n",
      "31/31 [==============================] - 36s 1s/step - loss: 0.4201 - accuracy: 0.8810 - val_loss: 2.3403 - val_accuracy: 0.4196\n",
      "Epoch 30/400\n",
      "31/31 [==============================] - 36s 1s/step - loss: 0.3814 - accuracy: 0.9025 - val_loss: 2.2534 - val_accuracy: 0.4263\n",
      "Epoch 31/400\n",
      "31/31 [==============================] - 36s 1s/step - loss: 0.3789 - accuracy: 0.9030 - val_loss: 2.1394 - val_accuracy: 0.4598\n",
      "Epoch 32/400\n",
      "31/31 [==============================] - 37s 1s/step - loss: 0.3672 - accuracy: 0.9033 - val_loss: 2.4519 - val_accuracy: 0.4330\n",
      "Epoch 33/400\n",
      "31/31 [==============================] - 37s 1s/step - loss: 0.3402 - accuracy: 0.9130 - val_loss: 2.4075 - val_accuracy: 0.4241\n",
      "Epoch 34/400\n",
      "31/31 [==============================] - 37s 1s/step - loss: 0.3090 - accuracy: 0.9154 - val_loss: 2.2416 - val_accuracy: 0.4732\n",
      "Epoch 35/400\n",
      "31/31 [==============================] - 37s 1s/step - loss: 0.2895 - accuracy: 0.9247 - val_loss: 2.1780 - val_accuracy: 0.4665\n",
      "Epoch 36/400\n",
      "31/31 [==============================] - 37s 1s/step - loss: 0.3024 - accuracy: 0.9267 - val_loss: 2.1670 - val_accuracy: 0.4643\n",
      "Epoch 37/400\n",
      "31/31 [==============================] - 37s 1s/step - loss: 0.2943 - accuracy: 0.9190 - val_loss: 2.3336 - val_accuracy: 0.4375\n",
      "Epoch 38/400\n",
      "31/31 [==============================] - 37s 1s/step - loss: 0.2721 - accuracy: 0.9259 - val_loss: 2.2386 - val_accuracy: 0.4397\n",
      "Epoch 39/400\n",
      "31/31 [==============================] - 37s 1s/step - loss: 0.2492 - accuracy: 0.9399 - val_loss: 2.4461 - val_accuracy: 0.4375\n",
      "Epoch 40/400\n",
      "31/31 [==============================] - 37s 1s/step - loss: 0.2537 - accuracy: 0.9271 - val_loss: 2.3309 - val_accuracy: 0.4487\n",
      "Epoch 41/400\n",
      "31/31 [==============================] - 37s 1s/step - loss: 0.2149 - accuracy: 0.9474 - val_loss: 2.2564 - val_accuracy: 0.4531\n",
      "Epoch 42/400\n",
      "31/31 [==============================] - 37s 1s/step - loss: 0.2330 - accuracy: 0.9441 - val_loss: 2.8769 - val_accuracy: 0.4330\n",
      "Epoch 43/400\n",
      "31/31 [==============================] - 37s 1s/step - loss: 0.1878 - accuracy: 0.9553 - val_loss: 2.6698 - val_accuracy: 0.4174\n",
      "Epoch 44/400\n",
      "31/31 [==============================] - 37s 1s/step - loss: 0.2190 - accuracy: 0.9330 - val_loss: 2.4294 - val_accuracy: 0.4442\n",
      "Epoch 45/400\n",
      "31/31 [==============================] - 37s 1s/step - loss: 0.1724 - accuracy: 0.9581 - val_loss: 2.5843 - val_accuracy: 0.4442\n",
      "Epoch 46/400\n",
      "31/31 [==============================] - 36s 1s/step - loss: 0.1778 - accuracy: 0.9464 - val_loss: 2.3843 - val_accuracy: 0.4688\n",
      "Epoch 47/400\n",
      "31/31 [==============================] - 36s 1s/step - loss: 0.1820 - accuracy: 0.9528 - val_loss: 2.4827 - val_accuracy: 0.4241\n",
      "Epoch 48/400\n",
      "31/31 [==============================] - 36s 1s/step - loss: 0.1540 - accuracy: 0.9590 - val_loss: 2.5212 - val_accuracy: 0.4397\n",
      "Epoch 49/400\n",
      "31/31 [==============================] - 36s 1s/step - loss: 0.1612 - accuracy: 0.9595 - val_loss: 2.6670 - val_accuracy: 0.4397\n",
      "Epoch 50/400\n",
      "31/31 [==============================] - 36s 1s/step - loss: 0.1595 - accuracy: 0.9595 - val_loss: 2.5618 - val_accuracy: 0.4286\n",
      "Epoch 51/400\n",
      "31/31 [==============================] - 36s 1s/step - loss: 0.1643 - accuracy: 0.9547 - val_loss: 2.5758 - val_accuracy: 0.4196\n",
      "Restoring model weights from the end of the best epoch.\n",
      "Epoch 00051: early stopping\n"
     ]
    }
   ],
   "source": [
    "history3 = model3.fit(\n",
    "    train_generator1,\n",
    "    epochs=EPOCHS,\n",
    "    validation_data=validation_generator1,\n",
    "    steps_per_epoch = train_generator1.samples // BATCH_SIZE,\n",
    "    validation_steps = validation_generator1.samples // BATCH_SIZE,\n",
    "    callbacks=[model_checkpoint_callback3, early_stopping_callback]\n",
    ")"
   ]
  },
  {
   "cell_type": "code",
   "execution_count": null,
   "metadata": {
    "colab": {
     "base_uri": "https://localhost:8080/",
     "height": 295
    },
    "id": "IGRhV1nnrwoV",
    "outputId": "8bd2088e-4437-40c7-d90f-98a3a566909c"
   },
   "outputs": [
    {
     "data": {
      "image/png": "[encoded data removed]",
      "text/plain": [
       "<Figure size 432x288 with 1 Axes>"
      ]
     },
     "metadata": {
      "needs_background": "light",
      "tags": []
     },
     "output_type": "display_data"
    }
   ],
   "source": [
    "plt.plot(history3.history['accuracy'])\n",
    "plt.plot(history3.history['val_accuracy'])\n",
    "plt.title('model accuracy')\n",
    "plt.ylabel('accuracy')\n",
    "plt.xlabel('epoch')\n",
    "plt.legend(['training', 'validation'], loc='best')\n",
    "plt.show()"
   ]
  },
  {
   "cell_type": "code",
   "execution_count": null,
   "metadata": {
    "colab": {
     "base_uri": "https://localhost:8080/",
     "height": 295
    },
    "id": "OOi-sW85rxPB",
    "outputId": "b383895c-245c-4b30-fbf7-58fdff12daf1"
   },
   "outputs": [
    {
     "data": {
      "image/png": "[encoded data removed]",
      "text/plain": [
       "<Figure size 432x288 with 1 Axes>"
      ]
     },
     "metadata": {
      "needs_background": "light",
      "tags": []
     },
     "output_type": "display_data"
    }
   ],
   "source": [
    "plt.plot(history3.history['loss'])\n",
    "plt.plot(history3.history['val_loss'])\n",
    "plt.title('model loss')\n",
    "plt.ylabel('loss')\n",
    "plt.xlabel('epoch')\n",
    "plt.legend(['training', 'validation'], loc='best')\n",
    "plt.show()"
   ]
  },
  {
   "cell_type": "markdown",
   "metadata": {
    "id": "dBFe6_NmWuM6"
   },
   "source": [
    "This model performs \"slightly\" better than our model from Experiment 1 and also does so in less epochs. However, there is some variance as the model overfits. We used early stopping with patience level 20, so our model gives best results at around epoch 31."
   ]
  },
  {
   "cell_type": "markdown",
   "metadata": {
    "id": "G6ge_4Jtzf4w"
   },
   "source": [
    "### Experiment 4: Using higher temperature in Softmax"
   ]
  },
  {
   "cell_type": "markdown",
   "metadata": {
    "id": "ZGnfPBDEzuXT"
   },
   "source": [
    "Higher temperature in softmax helps get 'softer' weights. This can help improve accuracy further as the 'probability' is nor more evenly distributed across the classes."
   ]
  },
  {
   "cell_type": "code",
   "execution_count": null,
   "metadata": {
    "id": "QVjYWYnwz9pb"
   },
   "outputs": [],
   "source": [
    "model4 = Sequential()\n",
    "\n",
    "# Lambda Layer for adding Padding\n",
    "model4.add(Lambda(lambda image: tf.image.resize_with_crop_or_pad(\n",
    "        image, 28, 28), input_shape=(*IMAGE_SIZE, 1)))\n",
    "\n",
    "# 1st Convolution Layer\n",
    "model4.add(Conv2D(6, kernel_size=(5,5), padding='same', activation='relu'))\n",
    "model4.add(BatchNormalization())\n",
    "model4.add(MaxPooling2D(pool_size=(2,2), strides=2))\n",
    "\n",
    "# 2nd Convolution Layer\n",
    "model4.add(Conv2D(16, kernel_size=(5,5), activation=mish))\n",
    "model4.add(BatchNormalization())\n",
    "model4.add(MaxPooling2D(pool_size=(2,2), strides=2))\n",
    "\n",
    "# Passing to a Fully Connected Layer\n",
    "model4.add(Flatten())\n",
    "\n",
    "# 1st Fully Connected Layer\n",
    "model4.add(Dense(256, activation=mish))\n",
    "model4.add(BatchNormalization())\n",
    "model4.add(Dropout(0.4))\n",
    "\n",
    "# 2nd Fully Connected Layer\n",
    "model4.add(Dense(128, activation=mish))\n",
    "model4.add(BatchNormalization())\n",
    "model4.add(Dropout(0.4))\n",
    "\n",
    "# Output Layer\n",
    "# Increasing the softmax temperature\n",
    "temp = 5\n",
    "model4.add(Lambda(lambda x: x / temp))\n",
    "model4.add(Dense(62, activation='softmax'))"
   ]
  },
  {
   "cell_type": "code",
   "execution_count": null,
   "metadata": {
    "colab": {
     "base_uri": "https://localhost:8080/"
    },
    "id": "KppXteeT0hao",
    "outputId": "8790432f-67e9-42f1-bf25-f1b1a3d9e7d4"
   },
   "outputs": [
    {
     "name": "stdout",
     "output_type": "stream",
     "text": [
      "Model: \"sequential_1\"\n",
      "_________________________________________________________________\n",
      "Layer (type)                 Output Shape              Param #   \n",
      "=================================================================\n",
      "lambda_1 (Lambda)            (None, 28, 28, 1)         0         \n",
      "_________________________________________________________________\n",
      "conv2d_1 (Conv2D)            (None, 28, 28, 6)         156       \n",
      "_________________________________________________________________\n",
      "batch_normalization_1 (Batch (None, 28, 28, 6)         24        \n",
      "_________________________________________________________________\n",
      "max_pooling2d_1 (MaxPooling2 (None, 14, 14, 6)         0         \n",
      "_________________________________________________________________\n",
      "conv2d_2 (Conv2D)            (None, 10, 10, 16)        2416      \n",
      "_________________________________________________________________\n",
      "batch_normalization_2 (Batch (None, 10, 10, 16)        64        \n",
      "_________________________________________________________________\n",
      "max_pooling2d_2 (MaxPooling2 (None, 5, 5, 16)          0         \n",
      "_________________________________________________________________\n",
      "flatten (Flatten)            (None, 400)               0         \n",
      "_________________________________________________________________\n",
      "dense (Dense)                (None, 256)               102656    \n",
      "_________________________________________________________________\n",
      "batch_normalization_3 (Batch (None, 256)               1024      \n",
      "_________________________________________________________________\n",
      "dropout (Dropout)            (None, 256)               0         \n",
      "_________________________________________________________________\n",
      "dense_1 (Dense)              (None, 128)               32896     \n",
      "_________________________________________________________________\n",
      "batch_normalization_4 (Batch (None, 128)               512       \n",
      "_________________________________________________________________\n",
      "dropout_1 (Dropout)          (None, 128)               0         \n",
      "_________________________________________________________________\n",
      "lambda_2 (Lambda)            (None, 128)               0         \n",
      "_________________________________________________________________\n",
      "dense_2 (Dense)              (None, 62)                7998      \n",
      "=================================================================\n",
      "Total params: 147,746\n",
      "Trainable params: 146,934\n",
      "Non-trainable params: 812\n",
      "_________________________________________________________________\n"
     ]
    }
   ],
   "source": [
    "model4.summary()"
   ]
  },
  {
   "cell_type": "code",
   "execution_count": null,
   "metadata": {
    "id": "7AK04uC40qwd"
   },
   "outputs": [],
   "source": [
    "model4.compile(loss='categorical_crossentropy', optimizer=Adam(), metrics=['accuracy'])"
   ]
  },
  {
   "cell_type": "code",
   "execution_count": null,
   "metadata": {
    "id": "duj5YJtgztD7"
   },
   "outputs": [],
   "source": [
    "checkpoint_filepath4 = 'exp4/checkpoint'\n",
    "model_checkpoint_callback4 = tf.keras.callbacks.ModelCheckpoint(\n",
    "    filepath=checkpoint_filepath4,\n",
    "    save_weights_only=True,\n",
    "    monitor='val_loss',\n",
    "    mode='min',\n",
    "    save_best_only=True)"
   ]
  },
  {
   "cell_type": "code",
   "execution_count": null,
   "metadata": {
    "colab": {
     "base_uri": "https://localhost:8080/"
    },
    "id": "YGhwE7EO03oD",
    "outputId": "2ea70a39-8473-447b-c582-002c675d45bd"
   },
   "outputs": [
    {
     "name": "stdout",
     "output_type": "stream",
     "text": [
      "Epoch 1/400\n",
      "31/31 [==============================] - 63s 991ms/step - loss: 4.1323 - accuracy: 0.0277 - val_loss: 4.1238 - val_accuracy: 0.0134\n",
      "Epoch 2/400\n",
      "31/31 [==============================] - 30s 980ms/step - loss: 3.8507 - accuracy: 0.1154 - val_loss: 4.1265 - val_accuracy: 0.0179\n",
      "Epoch 3/400\n",
      "31/31 [==============================] - 30s 974ms/step - loss: 3.6529 - accuracy: 0.2144 - val_loss: 4.1399 - val_accuracy: 0.0179\n",
      "Epoch 4/400\n",
      "31/31 [==============================] - 30s 977ms/step - loss: 3.4515 - accuracy: 0.2855 - val_loss: 4.1655 - val_accuracy: 0.0179\n",
      "Epoch 5/400\n",
      "31/31 [==============================] - 30s 973ms/step - loss: 3.2286 - accuracy: 0.3662 - val_loss: 4.1651 - val_accuracy: 0.0179\n",
      "Epoch 6/400\n",
      "31/31 [==============================] - 30s 973ms/step - loss: 3.0389 - accuracy: 0.4318 - val_loss: 4.1768 - val_accuracy: 0.0156\n",
      "Epoch 7/400\n",
      "31/31 [==============================] - 30s 976ms/step - loss: 2.8271 - accuracy: 0.4688 - val_loss: 4.1357 - val_accuracy: 0.0134\n",
      "Epoch 8/400\n",
      "31/31 [==============================] - 30s 971ms/step - loss: 2.6800 - accuracy: 0.5179 - val_loss: 4.0965 - val_accuracy: 0.0156\n",
      "Epoch 9/400\n",
      "31/31 [==============================] - 30s 985ms/step - loss: 2.4400 - accuracy: 0.5749 - val_loss: 4.0263 - val_accuracy: 0.0201\n",
      "Epoch 10/400\n",
      "31/31 [==============================] - 30s 973ms/step - loss: 2.2798 - accuracy: 0.6201 - val_loss: 3.9638 - val_accuracy: 0.0491\n",
      "Epoch 11/400\n",
      "31/31 [==============================] - 30s 975ms/step - loss: 2.0604 - accuracy: 0.6669 - val_loss: 3.7348 - val_accuracy: 0.0670\n",
      "Epoch 12/400\n",
      "31/31 [==============================] - 30s 981ms/step - loss: 1.9174 - accuracy: 0.6509 - val_loss: 3.5989 - val_accuracy: 0.1049\n",
      "Epoch 13/400\n",
      "31/31 [==============================] - 30s 973ms/step - loss: 1.7477 - accuracy: 0.7129 - val_loss: 3.4710 - val_accuracy: 0.1406\n",
      "Epoch 14/400\n",
      "31/31 [==============================] - 30s 972ms/step - loss: 1.6214 - accuracy: 0.7249 - val_loss: 3.1647 - val_accuracy: 0.2188\n",
      "Epoch 15/400\n",
      "31/31 [==============================] - 30s 974ms/step - loss: 1.4487 - accuracy: 0.7668 - val_loss: 3.0287 - val_accuracy: 0.2321\n",
      "Epoch 16/400\n",
      "31/31 [==============================] - 30s 973ms/step - loss: 1.2949 - accuracy: 0.7949 - val_loss: 2.5981 - val_accuracy: 0.3281\n",
      "Epoch 17/400\n",
      "31/31 [==============================] - 30s 975ms/step - loss: 1.2116 - accuracy: 0.8257 - val_loss: 2.5388 - val_accuracy: 0.3438\n",
      "Epoch 18/400\n",
      "31/31 [==============================] - 30s 980ms/step - loss: 1.0757 - accuracy: 0.8483 - val_loss: 2.3304 - val_accuracy: 0.4107\n",
      "Epoch 19/400\n",
      "31/31 [==============================] - 30s 982ms/step - loss: 0.9624 - accuracy: 0.8597 - val_loss: 2.2412 - val_accuracy: 0.4286\n",
      "Epoch 20/400\n",
      "31/31 [==============================] - 30s 977ms/step - loss: 0.8800 - accuracy: 0.8718 - val_loss: 2.1417 - val_accuracy: 0.4308\n",
      "Epoch 21/400\n",
      "31/31 [==============================] - 30s 974ms/step - loss: 0.8075 - accuracy: 0.8760 - val_loss: 2.1626 - val_accuracy: 0.4308\n",
      "Epoch 22/400\n",
      "31/31 [==============================] - 30s 976ms/step - loss: 0.7716 - accuracy: 0.8862 - val_loss: 2.2033 - val_accuracy: 0.4129\n",
      "Epoch 23/400\n",
      "31/31 [==============================] - 30s 976ms/step - loss: 0.6725 - accuracy: 0.9092 - val_loss: 1.9373 - val_accuracy: 0.4754\n",
      "Epoch 24/400\n",
      "31/31 [==============================] - 30s 970ms/step - loss: 0.5959 - accuracy: 0.9146 - val_loss: 1.9298 - val_accuracy: 0.4821\n",
      "Epoch 25/400\n",
      "31/31 [==============================] - 30s 974ms/step - loss: 0.5605 - accuracy: 0.9423 - val_loss: 1.9122 - val_accuracy: 0.4888\n",
      "Epoch 26/400\n",
      "31/31 [==============================] - 30s 973ms/step - loss: 0.4715 - accuracy: 0.9533 - val_loss: 1.9479 - val_accuracy: 0.4598\n",
      "Epoch 27/400\n",
      "31/31 [==============================] - 30s 970ms/step - loss: 0.4661 - accuracy: 0.9359 - val_loss: 1.9799 - val_accuracy: 0.4531\n",
      "Epoch 28/400\n",
      "31/31 [==============================] - 30s 973ms/step - loss: 0.4278 - accuracy: 0.9543 - val_loss: 1.8585 - val_accuracy: 0.5022\n",
      "Epoch 29/400\n",
      "31/31 [==============================] - 30s 978ms/step - loss: 0.3650 - accuracy: 0.9591 - val_loss: 1.9026 - val_accuracy: 0.4688\n",
      "Epoch 30/400\n",
      "31/31 [==============================] - 30s 976ms/step - loss: 0.3498 - accuracy: 0.9648 - val_loss: 1.9449 - val_accuracy: 0.4487\n",
      "Epoch 31/400\n",
      "31/31 [==============================] - 30s 973ms/step - loss: 0.3252 - accuracy: 0.9624 - val_loss: 2.0093 - val_accuracy: 0.4464\n",
      "Epoch 32/400\n",
      "31/31 [==============================] - 30s 978ms/step - loss: 0.2969 - accuracy: 0.9650 - val_loss: 1.9374 - val_accuracy: 0.4487\n",
      "Epoch 33/400\n",
      "31/31 [==============================] - 30s 972ms/step - loss: 0.2831 - accuracy: 0.9660 - val_loss: 1.8723 - val_accuracy: 0.4777\n",
      "Epoch 34/400\n",
      "31/31 [==============================] - 30s 976ms/step - loss: 0.2665 - accuracy: 0.9678 - val_loss: 1.9376 - val_accuracy: 0.4598\n",
      "Epoch 35/400\n",
      "31/31 [==============================] - 30s 972ms/step - loss: 0.2329 - accuracy: 0.9817 - val_loss: 1.9904 - val_accuracy: 0.4688\n",
      "Epoch 36/400\n",
      "31/31 [==============================] - 30s 977ms/step - loss: 0.2290 - accuracy: 0.9727 - val_loss: 2.0521 - val_accuracy: 0.4107\n",
      "Epoch 37/400\n",
      "31/31 [==============================] - 30s 980ms/step - loss: 0.2256 - accuracy: 0.9739 - val_loss: 1.9637 - val_accuracy: 0.4531\n",
      "Epoch 38/400\n",
      "31/31 [==============================] - 30s 979ms/step - loss: 0.1992 - accuracy: 0.9830 - val_loss: 1.9705 - val_accuracy: 0.4621\n",
      "Epoch 39/400\n",
      "31/31 [==============================] - 30s 983ms/step - loss: 0.1922 - accuracy: 0.9827 - val_loss: 2.1982 - val_accuracy: 0.4062\n",
      "Epoch 40/400\n",
      "31/31 [==============================] - 30s 983ms/step - loss: 0.1709 - accuracy: 0.9852 - val_loss: 1.9766 - val_accuracy: 0.4888\n",
      "Epoch 41/400\n",
      "31/31 [==============================] - 30s 975ms/step - loss: 0.1803 - accuracy: 0.9800 - val_loss: 1.9562 - val_accuracy: 0.4888\n",
      "Epoch 42/400\n",
      "31/31 [==============================] - 30s 982ms/step - loss: 0.1542 - accuracy: 0.9809 - val_loss: 2.0347 - val_accuracy: 0.4777\n",
      "Epoch 43/400\n",
      "31/31 [==============================] - 30s 978ms/step - loss: 0.1449 - accuracy: 0.9886 - val_loss: 2.0074 - val_accuracy: 0.4710\n",
      "Epoch 44/400\n",
      "31/31 [==============================] - 30s 979ms/step - loss: 0.1430 - accuracy: 0.9827 - val_loss: 1.9388 - val_accuracy: 0.4777\n",
      "Epoch 45/400\n",
      "31/31 [==============================] - 30s 978ms/step - loss: 0.1281 - accuracy: 0.9916 - val_loss: 1.9889 - val_accuracy: 0.4754\n",
      "Epoch 46/400\n",
      "31/31 [==============================] - 30s 980ms/step - loss: 0.1262 - accuracy: 0.9885 - val_loss: 1.9810 - val_accuracy: 0.4643\n",
      "Epoch 47/400\n",
      "31/31 [==============================] - 30s 983ms/step - loss: 0.1284 - accuracy: 0.9813 - val_loss: 2.0325 - val_accuracy: 0.4621\n",
      "Epoch 48/400\n",
      "31/31 [==============================] - 30s 978ms/step - loss: 0.1186 - accuracy: 0.9898 - val_loss: 2.0685 - val_accuracy: 0.4844\n",
      "Restoring model weights from the end of the best epoch.\n",
      "Epoch 00048: early stopping\n"
     ]
    }
   ],
   "source": [
    "history4 = model4.fit(\n",
    "    train_generator1,\n",
    "    epochs=EPOCHS,\n",
    "    validation_data=validation_generator1,\n",
    "    steps_per_epoch = train_generator1.samples // BATCH_SIZE,\n",
    "    validation_steps = validation_generator1.samples // BATCH_SIZE,\n",
    "    callbacks=[model_checkpoint_callback4, early_stopping_callback]\n",
    ")"
   ]
  },
  {
   "cell_type": "code",
   "execution_count": null,
   "metadata": {
    "colab": {
     "base_uri": "https://localhost:8080/",
     "height": 295
    },
    "id": "XHtptUqK015r",
    "outputId": "269076ec-3630-4a67-dd86-ac8d3b160379"
   },
   "outputs": [
    {
     "data": {
      "image/png": "[encoded data removed]",
      "text/plain": [
       "<Figure size 432x288 with 1 Axes>"
      ]
     },
     "metadata": {
      "needs_background": "light",
      "tags": []
     },
     "output_type": "display_data"
    }
   ],
   "source": [
    "plt.plot(history4.history['accuracy'])\n",
    "plt.plot(history4.history['val_accuracy'])\n",
    "plt.title('model accuracy')\n",
    "plt.ylabel('accuracy')\n",
    "plt.xlabel('epoch')\n",
    "plt.legend(['training', 'validation'], loc='best')\n",
    "plt.show()"
   ]
  },
  {
   "cell_type": "code",
   "execution_count": null,
   "metadata": {
    "colab": {
     "base_uri": "https://localhost:8080/",
     "height": 295
    },
    "id": "SlTLI35X0vQT",
    "outputId": "90f57110-ffe9-423f-e2aa-f0fded7a9378"
   },
   "outputs": [
    {
     "data": {
      "image/png": "[encoded data removed]",
      "text/plain": [
       "<Figure size 432x288 with 1 Axes>"
      ]
     },
     "metadata": {
      "needs_background": "light",
      "tags": []
     },
     "output_type": "display_data"
    }
   ],
   "source": [
    "plt.plot(history4.history['loss'])\n",
    "plt.plot(history4.history['val_loss'])\n",
    "plt.title('model loss')\n",
    "plt.ylabel('loss')\n",
    "plt.xlabel('epoch')\n",
    "plt.legend(['training', 'validation'], loc='best')\n",
    "plt.show()"
   ]
  },
  {
   "cell_type": "markdown",
   "metadata": {},
   "source": [
    "This is a slight improvement over the last experiment. This can be due to the case that the 'probabilities' are now more spread out."
   ]
  },
  {
   "cell_type": "markdown",
   "metadata": {
    "id": "lcPcnxHTYZC-"
   },
   "source": [
    "### Experiment 5: Changing the Model Architecture"
   ]
  },
  {
   "cell_type": "markdown",
   "metadata": {
    "id": "LgIGFOzMYosy"
   },
   "source": [
    "From ref. [1] and [2], I modify the architecture to see if it gives better results. This model is actually shown to give some very good results on the MNIST competition in Kaggle."
   ]
  },
  {
   "cell_type": "code",
   "execution_count": 12,
   "metadata": {
    "id": "MLtL7h06ZBnW"
   },
   "outputs": [],
   "source": [
    "model5 = Sequential()\n",
    "\n",
    "# Lambda Layer for adding Padding\n",
    "model5.add(Lambda(lambda image: tf.image.resize_with_crop_or_pad(\n",
    "        image, 28, 28), input_shape=(*IMAGE_SIZE, 1)))\n",
    "\n",
    "# 1st Convolution Layer\n",
    "model5.add(Conv2D(32, kernel_size=3, activation=mish))\n",
    "model5.add(BatchNormalization())\n",
    "model5.add(Conv2D(32, kernel_size=3, activation=mish))\n",
    "model5.add(BatchNormalization())\n",
    "model5.add(Conv2D(32, kernel_size=5, strides=2, padding='same', activation=mish))\n",
    "model5.add(BatchNormalization())\n",
    "model5.add(Dropout(0.4))\n",
    "\n",
    "# 2nd Convolution Layer\n",
    "model5.add(Conv2D(64, kernel_size=3, activation=mish))\n",
    "model5.add(BatchNormalization())\n",
    "model5.add(Conv2D(64, kernel_size=3, activation=mish))\n",
    "model5.add(BatchNormalization())\n",
    "model5.add(Conv2D(64, kernel_size=5, strides=2, padding='same', activation=mish))\n",
    "model5.add(BatchNormalization())\n",
    "model5.add(Dropout(0.4))\n",
    "\n",
    "# 3rd Convolution Layer\n",
    "model5.add(Conv2D(128, kernel_size = 4, activation=mish))\n",
    "model5.add(BatchNormalization())\n",
    "\n",
    "# Passing to a Fully Connected Layer\n",
    "model5.add(Flatten())\n",
    "model5.add(Dropout(0.4))\n",
    "\n",
    "# Output Layer\n",
    "# Increasing the softmax temperature\n",
    "temp = 5\n",
    "model5.add(Lambda(lambda x: x / temp))\n",
    "\n",
    "model5.add(Dense(62, activation='softmax'))"
   ]
  },
  {
   "cell_type": "code",
   "execution_count": 13,
   "metadata": {
    "colab": {
     "base_uri": "https://localhost:8080/"
    },
    "id": "aISq2GZbae1D",
    "outputId": "a2503090-9a7d-49db-b057-dd8b972f8ddb"
   },
   "outputs": [
    {
     "name": "stdout",
     "output_type": "stream",
     "text": [
      "Model: \"sequential_1\"\n",
      "_________________________________________________________________\n",
      "Layer (type)                 Output Shape              Param #   \n",
      "=================================================================\n",
      "lambda_1 (Lambda)            (None, 28, 28, 1)         0         \n",
      "_________________________________________________________________\n",
      "conv2d_7 (Conv2D)            (None, 26, 26, 32)        320       \n",
      "_________________________________________________________________\n",
      "batch_normalization_7 (Batch (None, 26, 26, 32)        128       \n",
      "_________________________________________________________________\n",
      "conv2d_8 (Conv2D)            (None, 24, 24, 32)        9248      \n",
      "_________________________________________________________________\n",
      "batch_normalization_8 (Batch (None, 24, 24, 32)        128       \n",
      "_________________________________________________________________\n",
      "conv2d_9 (Conv2D)            (None, 12, 12, 32)        25632     \n",
      "_________________________________________________________________\n",
      "batch_normalization_9 (Batch (None, 12, 12, 32)        128       \n",
      "_________________________________________________________________\n",
      "dropout_3 (Dropout)          (None, 12, 12, 32)        0         \n",
      "_________________________________________________________________\n",
      "conv2d_10 (Conv2D)           (None, 10, 10, 64)        18496     \n",
      "_________________________________________________________________\n",
      "batch_normalization_10 (Batc (None, 10, 10, 64)        256       \n",
      "_________________________________________________________________\n",
      "conv2d_11 (Conv2D)           (None, 8, 8, 64)          36928     \n",
      "_________________________________________________________________\n",
      "batch_normalization_11 (Batc (None, 8, 8, 64)          256       \n",
      "_________________________________________________________________\n",
      "conv2d_12 (Conv2D)           (None, 4, 4, 64)          102464    \n",
      "_________________________________________________________________\n",
      "batch_normalization_12 (Batc (None, 4, 4, 64)          256       \n",
      "_________________________________________________________________\n",
      "dropout_4 (Dropout)          (None, 4, 4, 64)          0         \n",
      "_________________________________________________________________\n",
      "conv2d_13 (Conv2D)           (None, 1, 1, 128)         131200    \n",
      "_________________________________________________________________\n",
      "batch_normalization_13 (Batc (None, 1, 1, 128)         512       \n",
      "_________________________________________________________________\n",
      "flatten_1 (Flatten)          (None, 128)               0         \n",
      "_________________________________________________________________\n",
      "dropout_5 (Dropout)          (None, 128)               0         \n",
      "_________________________________________________________________\n",
      "lambda_2 (Lambda)            (None, 128)               0         \n",
      "_________________________________________________________________\n",
      "dense_1 (Dense)              (None, 62)                7998      \n",
      "=================================================================\n",
      "Total params: 333,950\n",
      "Trainable params: 333,118\n",
      "Non-trainable params: 832\n",
      "_________________________________________________________________\n"
     ]
    }
   ],
   "source": [
    "model5.summary()"
   ]
  },
  {
   "cell_type": "code",
   "execution_count": 18,
   "metadata": {
    "id": "2yL26QMsagvn"
   },
   "outputs": [],
   "source": [
    "model5.compile(loss='categorical_crossentropy', optimizer=Adam(), metrics=['accuracy'])"
   ]
  },
  {
   "cell_type": "markdown",
   "metadata": {
    "id": "n_I2GQxsao7h"
   },
   "source": [
    "Saving the Checkpoint"
   ]
  },
  {
   "cell_type": "code",
   "execution_count": 19,
   "metadata": {
    "id": "CjHVXw7Wa3UF"
   },
   "outputs": [],
   "source": [
    "checkpoint_filepath5 = 'exp5/checkpoint'\n",
    "model_checkpoint_callback5 = tf.keras.callbacks.ModelCheckpoint(\n",
    "    filepath=checkpoint_filepath5,\n",
    "    save_weights_only=True,\n",
    "    monitor='val_loss',\n",
    "    mode='min',\n",
    "    save_best_only=True)"
   ]
  },
  {
   "cell_type": "code",
   "execution_count": 20,
   "metadata": {
    "colab": {
     "base_uri": "https://localhost:8080/"
    },
    "id": "cHwXnGVia1Cr",
    "outputId": "74ed4c32-758b-4458-c59a-809838c3cbd9"
   },
   "outputs": [
    {
     "name": "stdout",
     "output_type": "stream",
     "text": [
      "Epoch 1/400\n",
      "31/31 [==============================] - 33s 1s/step - loss: 3.1841 - accuracy: 0.3234 - val_loss: 4.0727 - val_accuracy: 0.0246\n",
      "Epoch 2/400\n",
      "31/31 [==============================] - 31s 1s/step - loss: 2.9242 - accuracy: 0.4321 - val_loss: 4.1239 - val_accuracy: 0.0290\n",
      "Epoch 3/400\n",
      "31/31 [==============================] - 31s 1000ms/step - loss: 2.6343 - accuracy: 0.5060 - val_loss: 4.0812 - val_accuracy: 0.0446\n",
      "Epoch 4/400\n",
      "31/31 [==============================] - 31s 1s/step - loss: 2.4394 - accuracy: 0.5597 - val_loss: 4.0960 - val_accuracy: 0.0424\n",
      "Epoch 5/400\n",
      "31/31 [==============================] - 31s 1s/step - loss: 2.1861 - accuracy: 0.6308 - val_loss: 4.0556 - val_accuracy: 0.0536\n",
      "Epoch 6/400\n",
      "31/31 [==============================] - 31s 1s/step - loss: 1.9959 - accuracy: 0.6641 - val_loss: 3.9447 - val_accuracy: 0.0915\n",
      "Epoch 7/400\n",
      "31/31 [==============================] - 31s 1s/step - loss: 1.7984 - accuracy: 0.6955 - val_loss: 3.7015 - val_accuracy: 0.1161\n",
      "Epoch 8/400\n",
      "31/31 [==============================] - 31s 1s/step - loss: 1.5956 - accuracy: 0.7308 - val_loss: 2.8872 - val_accuracy: 0.3080\n",
      "Epoch 9/400\n",
      "31/31 [==============================] - 31s 1s/step - loss: 1.4371 - accuracy: 0.7673 - val_loss: 2.9189 - val_accuracy: 0.2701\n",
      "Epoch 10/400\n",
      "31/31 [==============================] - 31s 1s/step - loss: 1.2780 - accuracy: 0.7878 - val_loss: 2.5545 - val_accuracy: 0.3728\n",
      "Epoch 11/400\n",
      "31/31 [==============================] - 31s 1s/step - loss: 1.1382 - accuracy: 0.8218 - val_loss: 2.2063 - val_accuracy: 0.4643\n",
      "Epoch 12/400\n",
      "31/31 [==============================] - 31s 1s/step - loss: 0.9887 - accuracy: 0.8514 - val_loss: 2.4770 - val_accuracy: 0.3817\n",
      "Epoch 13/400\n",
      "31/31 [==============================] - 31s 999ms/step - loss: 0.8759 - accuracy: 0.8842 - val_loss: 1.6656 - val_accuracy: 0.6049\n",
      "Epoch 14/400\n",
      "31/31 [==============================] - 31s 1s/step - loss: 0.7964 - accuracy: 0.8834 - val_loss: 1.5947 - val_accuracy: 0.6071\n",
      "Epoch 15/400\n",
      "31/31 [==============================] - 31s 1s/step - loss: 0.7168 - accuracy: 0.8920 - val_loss: 1.3526 - val_accuracy: 0.6629\n",
      "Epoch 16/400\n",
      "31/31 [==============================] - 31s 1s/step - loss: 0.6451 - accuracy: 0.9087 - val_loss: 1.3519 - val_accuracy: 0.6339\n",
      "Epoch 17/400\n",
      "31/31 [==============================] - 31s 1s/step - loss: 0.5804 - accuracy: 0.9138 - val_loss: 1.2571 - val_accuracy: 0.6518\n",
      "Epoch 18/400\n",
      "31/31 [==============================] - 31s 1s/step - loss: 0.5334 - accuracy: 0.9205 - val_loss: 1.1376 - val_accuracy: 0.6830\n",
      "Epoch 19/400\n",
      "31/31 [==============================] - 31s 1s/step - loss: 0.4586 - accuracy: 0.9406 - val_loss: 1.1997 - val_accuracy: 0.6964\n",
      "Epoch 20/400\n",
      "31/31 [==============================] - 31s 1s/step - loss: 0.4115 - accuracy: 0.9452 - val_loss: 1.3390 - val_accuracy: 0.6384\n",
      "Epoch 21/400\n",
      "31/31 [==============================] - 32s 1s/step - loss: 0.3837 - accuracy: 0.9473 - val_loss: 1.0999 - val_accuracy: 0.6942\n",
      "Epoch 22/400\n",
      "31/31 [==============================] - 31s 1s/step - loss: 0.3531 - accuracy: 0.9535 - val_loss: 1.0842 - val_accuracy: 0.6875\n",
      "Epoch 23/400\n",
      "31/31 [==============================] - 31s 1s/step - loss: 0.3024 - accuracy: 0.9622 - val_loss: 1.1422 - val_accuracy: 0.6763\n",
      "Epoch 24/400\n",
      "31/31 [==============================] - 31s 1s/step - loss: 0.2903 - accuracy: 0.9608 - val_loss: 1.1675 - val_accuracy: 0.6719\n",
      "Epoch 25/400\n",
      "31/31 [==============================] - 31s 1s/step - loss: 0.2511 - accuracy: 0.9785 - val_loss: 1.1351 - val_accuracy: 0.6830\n",
      "Epoch 26/400\n",
      "31/31 [==============================] - 31s 1s/step - loss: 0.2368 - accuracy: 0.9721 - val_loss: 1.0954 - val_accuracy: 0.6897\n",
      "Epoch 27/400\n",
      "31/31 [==============================] - 31s 1s/step - loss: 0.2059 - accuracy: 0.9838 - val_loss: 1.2542 - val_accuracy: 0.6585\n",
      "Epoch 28/400\n",
      "31/31 [==============================] - 31s 1s/step - loss: 0.1972 - accuracy: 0.9802 - val_loss: 1.0532 - val_accuracy: 0.6964\n",
      "Epoch 29/400\n",
      "31/31 [==============================] - 31s 1s/step - loss: 0.1714 - accuracy: 0.9878 - val_loss: 1.0767 - val_accuracy: 0.6964\n",
      "Epoch 30/400\n",
      "31/31 [==============================] - 31s 1s/step - loss: 0.1723 - accuracy: 0.9813 - val_loss: 1.0640 - val_accuracy: 0.7098\n",
      "Epoch 31/400\n",
      "31/31 [==============================] - 31s 1s/step - loss: 0.1543 - accuracy: 0.9878 - val_loss: 1.0837 - val_accuracy: 0.7009\n",
      "Epoch 32/400\n",
      "31/31 [==============================] - 31s 999ms/step - loss: 0.1501 - accuracy: 0.9857 - val_loss: 1.1099 - val_accuracy: 0.6942\n",
      "Epoch 33/400\n",
      "31/31 [==============================] - 31s 1s/step - loss: 0.1503 - accuracy: 0.9784 - val_loss: 1.8992 - val_accuracy: 0.5156\n",
      "Epoch 34/400\n",
      "31/31 [==============================] - 31s 1000ms/step - loss: 0.1311 - accuracy: 0.9885 - val_loss: 1.5575 - val_accuracy: 0.5848\n",
      "Epoch 35/400\n",
      "31/31 [==============================] - 31s 997ms/step - loss: 0.1309 - accuracy: 0.9828 - val_loss: 1.0923 - val_accuracy: 0.6808\n",
      "Epoch 36/400\n",
      "31/31 [==============================] - 31s 1s/step - loss: 0.1215 - accuracy: 0.9868 - val_loss: 1.0968 - val_accuracy: 0.6897\n",
      "Epoch 37/400\n",
      "31/31 [==============================] - 31s 1000ms/step - loss: 0.1171 - accuracy: 0.9904 - val_loss: 1.1810 - val_accuracy: 0.6830\n",
      "Epoch 38/400\n",
      "31/31 [==============================] - 32s 1s/step - loss: 0.1018 - accuracy: 0.9915 - val_loss: 1.0821 - val_accuracy: 0.6897\n",
      "Epoch 39/400\n",
      "31/31 [==============================] - 34s 1s/step - loss: 0.1058 - accuracy: 0.9864 - val_loss: 1.0334 - val_accuracy: 0.7009\n",
      "Epoch 40/400\n",
      "31/31 [==============================] - 33s 1s/step - loss: 0.0967 - accuracy: 0.9879 - val_loss: 1.1909 - val_accuracy: 0.6897\n",
      "Epoch 41/400\n",
      "31/31 [==============================] - 32s 1s/step - loss: 0.0905 - accuracy: 0.9896 - val_loss: 1.1311 - val_accuracy: 0.6920\n",
      "Epoch 42/400\n",
      "31/31 [==============================] - 32s 1s/step - loss: 0.0891 - accuracy: 0.9928 - val_loss: 1.0773 - val_accuracy: 0.7143\n",
      "Epoch 43/400\n",
      "31/31 [==============================] - 32s 1s/step - loss: 0.0850 - accuracy: 0.9908 - val_loss: 1.1309 - val_accuracy: 0.6942\n",
      "Epoch 44/400\n",
      "31/31 [==============================] - 32s 1s/step - loss: 0.0850 - accuracy: 0.9880 - val_loss: 1.4652 - val_accuracy: 0.6429\n",
      "Epoch 45/400\n",
      "31/31 [==============================] - 32s 1s/step - loss: 0.0786 - accuracy: 0.9925 - val_loss: 1.0613 - val_accuracy: 0.7054\n",
      "Epoch 46/400\n",
      "31/31 [==============================] - 32s 1s/step - loss: 0.0687 - accuracy: 0.9924 - val_loss: 1.1210 - val_accuracy: 0.6830\n",
      "Epoch 47/400\n",
      "31/31 [==============================] - 31s 1s/step - loss: 0.0765 - accuracy: 0.9910 - val_loss: 1.2553 - val_accuracy: 0.6540\n",
      "Epoch 48/400\n",
      "31/31 [==============================] - 31s 1s/step - loss: 0.0688 - accuracy: 0.9947 - val_loss: 1.0441 - val_accuracy: 0.7076\n",
      "Epoch 49/400\n",
      "31/31 [==============================] - 31s 1s/step - loss: 0.0616 - accuracy: 0.9929 - val_loss: 1.1608 - val_accuracy: 0.6942\n",
      "Epoch 50/400\n",
      "31/31 [==============================] - 32s 1s/step - loss: 0.0683 - accuracy: 0.9918 - val_loss: 1.9271 - val_accuracy: 0.5357\n",
      "Epoch 51/400\n",
      "31/31 [==============================] - 32s 1s/step - loss: 0.0758 - accuracy: 0.9872 - val_loss: 1.2352 - val_accuracy: 0.6786\n",
      "Epoch 52/400\n",
      "31/31 [==============================] - 31s 1s/step - loss: 0.0678 - accuracy: 0.9896 - val_loss: 1.1573 - val_accuracy: 0.6853\n",
      "Epoch 53/400\n",
      "31/31 [==============================] - 31s 1s/step - loss: 0.0777 - accuracy: 0.9883 - val_loss: 1.1964 - val_accuracy: 0.6830\n",
      "Epoch 54/400\n",
      "31/31 [==============================] - 31s 1s/step - loss: 0.0666 - accuracy: 0.9878 - val_loss: 1.2779 - val_accuracy: 0.6518\n",
      "Epoch 55/400\n",
      "31/31 [==============================] - 31s 1s/step - loss: 0.0598 - accuracy: 0.9932 - val_loss: 1.2255 - val_accuracy: 0.6920\n",
      "Epoch 56/400\n",
      "31/31 [==============================] - 31s 1s/step - loss: 0.0656 - accuracy: 0.9905 - val_loss: 1.1773 - val_accuracy: 0.6875\n",
      "Epoch 57/400\n",
      "31/31 [==============================] - 31s 1s/step - loss: 0.0590 - accuracy: 0.9905 - val_loss: 1.1688 - val_accuracy: 0.6875\n",
      "Epoch 58/400\n",
      "31/31 [==============================] - 31s 1s/step - loss: 0.0446 - accuracy: 0.9944 - val_loss: 1.1803 - val_accuracy: 0.6652\n",
      "Epoch 59/400\n",
      "31/31 [==============================] - 31s 1s/step - loss: 0.0505 - accuracy: 0.9906 - val_loss: 1.5860 - val_accuracy: 0.5982\n",
      "Restoring model weights from the end of the best epoch.\n",
      "Epoch 00059: early stopping\n"
     ]
    }
   ],
   "source": [
    "history5 = model5.fit(\n",
    "    train_generator1,\n",
    "    epochs=EPOCHS,\n",
    "    validation_data=validation_generator1,\n",
    "    steps_per_epoch = train_generator1.samples // BATCH_SIZE,\n",
    "    validation_steps = validation_generator1.samples // BATCH_SIZE,\n",
    "    callbacks=[model_checkpoint_callback5, early_stopping_callback]\n",
    ")"
   ]
  },
  {
   "cell_type": "code",
   "execution_count": 21,
   "metadata": {
    "colab": {
     "base_uri": "https://localhost:8080/",
     "height": 295
    },
    "id": "aLt7Y-3eay0x",
    "outputId": "06f3b69a-c724-4644-e88c-cacfd5b6b2d9"
   },
   "outputs": [
    {
     "data": {
      "image/png": "[encoded data removed]",
      "text/plain": [
       "<Figure size 432x288 with 1 Axes>"
      ]
     },
     "metadata": {
      "needs_background": "light",
      "tags": []
     },
     "output_type": "display_data"
    }
   ],
   "source": [
    "plt.plot(history5.history['accuracy'])\n",
    "plt.plot(history5.history['val_accuracy'])\n",
    "plt.title('model accuracy')\n",
    "plt.ylabel('accuracy')\n",
    "plt.xlabel('epoch')\n",
    "plt.legend(['training', 'validation'], loc='best')\n",
    "plt.show()"
   ]
  },
  {
   "cell_type": "code",
   "execution_count": 22,
   "metadata": {
    "colab": {
     "base_uri": "https://localhost:8080/",
     "height": 295
    },
    "id": "FIrowmRyanSr",
    "outputId": "6c29aab5-ed1d-40c8-affc-3e7c5d226f2f"
   },
   "outputs": [
    {
     "data": {
      "image/png": "[encoded data removed]",
      "text/plain": [
       "<Figure size 432x288 with 1 Axes>"
      ]
     },
     "metadata": {
      "needs_background": "light",
      "tags": []
     },
     "output_type": "display_data"
    }
   ],
   "source": [
    "plt.plot(history5.history['loss'])\n",
    "plt.plot(history5.history['val_loss'])\n",
    "plt.title('model loss')\n",
    "plt.ylabel('loss')\n",
    "plt.xlabel('epoch')\n",
    "plt.legend(['training', 'validation'], loc='best')\n",
    "plt.show()"
   ]
  },
  {
   "cell_type": "markdown",
   "metadata": {
    "id": "scPYLCbYkQ0r"
   },
   "source": [
    "This gives the best accuracy among all of the previous examples. Works great!"
   ]
  },
  {
   "cell_type": "markdown",
   "metadata": {
    "id": "rZwpVNUxkFk3"
   },
   "source": [
    "### Experiment 6: Changing the Model Architecture even further: Using Efficientnet"
   ]
  },
  {
   "cell_type": "markdown",
   "metadata": {
    "id": "qgEsDXVZe71F"
   },
   "source": [
    "Effecient Net is being used a lot nowdays so, I'll see how this architecture works for this dataset. I don't have very high hopes for this because:\n",
    "1. We are not using pre-trained weights\n",
    "2. We don't have a large trainign data\n",
    "\n",
    "But I'll still give it a try to see how it does."
   ]
  },
  {
   "cell_type": "markdown",
   "metadata": {
    "id": "QuTQjwWd0DyS"
   },
   "source": [
    "For this EfficientNet Model, I would use Early Stopping with larger patience value. This is so because the Keras Website says\n",
    "\n",
    "> \"Note: the accuracy will increase very slowly and may overfit.\"\n",
    "\n",
    "on Training a model with EfficientNet from scratch.\n"
   ]
  },
  {
   "cell_type": "markdown",
   "metadata": {
    "id": "BodJXMVvlYCw"
   },
   "source": [
    "Saving the Checkpoint"
   ]
  },
  {
   "cell_type": "code",
   "execution_count": null,
   "metadata": {
    "id": "kui7Dgk7lUwt"
   },
   "outputs": [],
   "source": [
    "checkpoint_filepath6 = 'exp6/checkpoint'\n",
    "model_checkpoint_callback6 = tf.keras.callbacks.ModelCheckpoint(\n",
    "    filepath=checkpoint_filepath6,\n",
    "    save_weights_only=True,\n",
    "    monitor='val_loss',\n",
    "    mode='min',\n",
    "    save_best_only=True)"
   ]
  },
  {
   "cell_type": "markdown",
   "metadata": {
    "id": "SascTQsatoYi"
   },
   "source": [
    "Early Stopping Callback"
   ]
  },
  {
   "cell_type": "code",
   "execution_count": null,
   "metadata": {
    "id": "PZ3dnK7ktr1H"
   },
   "outputs": [],
   "source": [
    "early_stopping_callback2 = tf.keras.callbacks.EarlyStopping(\n",
    "    monitor='val_loss',\n",
    "    mode='min',\n",
    "    patience=100,\n",
    "    restore_best_weights=True,\n",
    "    verbose=1)"
   ]
  },
  {
   "cell_type": "code",
   "execution_count": null,
   "metadata": {
    "colab": {
     "base_uri": "https://localhost:8080/"
    },
    "id": "s12YWe6Mkbtz",
    "outputId": "467aef73-df34-4410-d3bf-537262eef84b"
   },
   "outputs": [
    {
     "name": "stdout",
     "output_type": "stream",
     "text": [
      "Model: \"model_7\"\n",
      "_________________________________________________________________\n",
      "Layer (type)                 Output Shape              Param #   \n",
      "=================================================================\n",
      "input_19 (InputLayer)        [(None, 45, 60, 1)]       0         \n",
      "_________________________________________________________________\n",
      "efficientnetb0 (Functional)  (None, 2, 2, 1280)        4048991   \n",
      "_________________________________________________________________\n",
      "avg_pool (GlobalAveragePooli (None, 1280)              0         \n",
      "_________________________________________________________________\n",
      "top_dropout (Dropout)        (None, 1280)              0         \n",
      "_________________________________________________________________\n",
      "predictions (Dense)          (None, 62)                79422     \n",
      "=================================================================\n",
      "Total params: 4,128,413\n",
      "Trainable params: 4,086,394\n",
      "Non-trainable params: 42,019\n",
      "_________________________________________________________________\n"
     ]
    }
   ],
   "source": [
    "from tensorflow.keras.applications import EfficientNetB0\n",
    "\n",
    "# Initializer taken from the source code\n",
    "DENSE_KERNEL_INITIALIZER = {\n",
    "    'class_name': 'VarianceScaling',\n",
    "    'config': {\n",
    "        'scale': 1. / 3.,\n",
    "        'mode': 'fan_out',\n",
    "        'distribution': 'uniform'\n",
    "    }\n",
    "}\n",
    "\n",
    "# Input Layer\n",
    "inputs = tf.keras.layers.Input(shape=(*IMAGE_SIZE, 1))\n",
    "\n",
    "# Lambda Layer for adding Padding\n",
    "x = tf.keras.layers.Lambda(lambda image: tf.image.resize_with_crop_or_pad(\n",
    "        image, 28, 28), input_shape=(*IMAGE_SIZE, 1))(inputs)\n",
    "\n",
    "# Efficient layer except the top layer\n",
    "x = EfficientNetB0(include_top=False, weights=None,\n",
    "    input_shape=(48, 48, 1))(x)\n",
    "\n",
    "# Top\n",
    "\n",
    "# Global Average Pooling Layer\n",
    "x = tf.keras.layers.GlobalAveragePooling2D(name='avg_pool')(x)\n",
    "x = tf.keras.layers.Dropout(0.4, name='top_dropout')(x)\n",
    "\n",
    "# Output Layer\n",
    "outputs = tf.keras.layers.Dense(62,\n",
    "    activation='softmax',\n",
    "    kernel_initializer=DENSE_KERNEL_INITIALIZER,\n",
    "    name='predictions')(x)\n",
    "\n",
    "model6 = tf.keras.Model(inputs, outputs)\n",
    "\n",
    "model6.compile(\n",
    "    optimizer=\"adam\", loss=\"categorical_crossentropy\", metrics=[\"accuracy\"]\n",
    ")\n",
    "\n",
    "model6.summary()"
   ]
  },
  {
   "cell_type": "code",
   "execution_count": null,
   "metadata": {
    "colab": {
     "base_uri": "https://localhost:8080/"
    },
    "id": "cvfxH00flDfY",
    "outputId": "eca7eb5e-6c27-4949-fc0e-2e9494f6398c"
   },
   "outputs": [
    {
     "name": "stdout",
     "output_type": "stream",
     "text": [
      "Epoch 1/400\n",
      "31/31 [==============================] - 42s 1s/step - loss: 4.9151 - accuracy: 0.0201 - val_loss: 4.1315 - val_accuracy: 0.0179\n",
      "Epoch 2/400\n",
      "31/31 [==============================] - 32s 1s/step - loss: 4.4224 - accuracy: 0.0468 - val_loss: 4.1495 - val_accuracy: 0.0156\n",
      "Epoch 3/400\n",
      "31/31 [==============================] - 32s 1s/step - loss: 4.2469 - accuracy: 0.0709 - val_loss: 4.1952 - val_accuracy: 0.0179\n",
      "Epoch 4/400\n",
      "31/31 [==============================] - 32s 1s/step - loss: 3.8510 - accuracy: 0.1198 - val_loss: 4.2058 - val_accuracy: 0.0134\n",
      "Epoch 5/400\n",
      "31/31 [==============================] - 32s 1s/step - loss: 3.4325 - accuracy: 0.2088 - val_loss: 4.2741 - val_accuracy: 0.0156\n",
      "Epoch 6/400\n",
      "31/31 [==============================] - 32s 1s/step - loss: 2.8368 - accuracy: 0.3269 - val_loss: 4.3717 - val_accuracy: 0.0179\n",
      "Epoch 7/400\n",
      "31/31 [==============================] - 32s 1s/step - loss: 2.2589 - accuracy: 0.4527 - val_loss: 4.7584 - val_accuracy: 0.0156\n",
      "Epoch 8/400\n",
      "31/31 [==============================] - 32s 1s/step - loss: 1.6094 - accuracy: 0.5704 - val_loss: 5.0353 - val_accuracy: 0.0134\n",
      "Epoch 9/400\n",
      "31/31 [==============================] - 32s 1s/step - loss: 1.2984 - accuracy: 0.6688 - val_loss: 5.7188 - val_accuracy: 0.0179\n",
      "Epoch 10/400\n",
      "31/31 [==============================] - 32s 1s/step - loss: 0.9605 - accuracy: 0.7401 - val_loss: 6.1509 - val_accuracy: 0.0156\n",
      "Epoch 11/400\n",
      "31/31 [==============================] - 32s 1s/step - loss: 0.7479 - accuracy: 0.7929 - val_loss: 6.6623 - val_accuracy: 0.0156\n",
      "Epoch 12/400\n",
      "31/31 [==============================] - 32s 1s/step - loss: 0.6724 - accuracy: 0.7995 - val_loss: 7.3675 - val_accuracy: 0.0156\n",
      "Epoch 13/400\n",
      "31/31 [==============================] - 32s 1s/step - loss: 0.6412 - accuracy: 0.8292 - val_loss: 8.9104 - val_accuracy: 0.0156\n",
      "Epoch 14/400\n",
      "31/31 [==============================] - 32s 1s/step - loss: 0.4667 - accuracy: 0.8784 - val_loss: 8.4325 - val_accuracy: 0.0179\n",
      "Epoch 15/400\n",
      "31/31 [==============================] - 32s 1s/step - loss: 0.4531 - accuracy: 0.8752 - val_loss: 8.1772 - val_accuracy: 0.0156\n",
      "Epoch 16/400\n",
      "31/31 [==============================] - 32s 1s/step - loss: 0.4186 - accuracy: 0.8964 - val_loss: 8.1100 - val_accuracy: 0.0179\n",
      "Epoch 17/400\n",
      "31/31 [==============================] - 32s 1s/step - loss: 0.4693 - accuracy: 0.8748 - val_loss: 6.7461 - val_accuracy: 0.0268\n",
      "Epoch 18/400\n",
      "31/31 [==============================] - 32s 1s/step - loss: 0.4318 - accuracy: 0.8759 - val_loss: 6.5141 - val_accuracy: 0.0179\n",
      "Epoch 19/400\n",
      "31/31 [==============================] - 32s 1s/step - loss: 0.4297 - accuracy: 0.8865 - val_loss: 8.9487 - val_accuracy: 0.0223\n",
      "Epoch 20/400\n",
      "31/31 [==============================] - 32s 1s/step - loss: 0.3713 - accuracy: 0.8911 - val_loss: 9.2894 - val_accuracy: 0.0179\n",
      "Epoch 21/400\n",
      "31/31 [==============================] - 32s 1s/step - loss: 0.4135 - accuracy: 0.8883 - val_loss: 9.7851 - val_accuracy: 0.0179\n",
      "Epoch 22/400\n",
      "31/31 [==============================] - 32s 1s/step - loss: 0.3804 - accuracy: 0.8952 - val_loss: 8.2647 - val_accuracy: 0.0246\n",
      "Epoch 23/400\n",
      "31/31 [==============================] - 32s 1s/step - loss: 0.2838 - accuracy: 0.9314 - val_loss: 6.5974 - val_accuracy: 0.0491\n",
      "Epoch 24/400\n",
      "31/31 [==============================] - 32s 1s/step - loss: 0.2819 - accuracy: 0.9231 - val_loss: 7.7193 - val_accuracy: 0.0424\n",
      "Epoch 25/400\n",
      "31/31 [==============================] - 32s 1s/step - loss: 0.2607 - accuracy: 0.9325 - val_loss: 6.6000 - val_accuracy: 0.1183\n",
      "Epoch 26/400\n",
      "31/31 [==============================] - 32s 1s/step - loss: 0.2471 - accuracy: 0.9353 - val_loss: 5.7006 - val_accuracy: 0.1518\n",
      "Epoch 27/400\n",
      "31/31 [==============================] - 32s 1s/step - loss: 0.2334 - accuracy: 0.9373 - val_loss: 5.6679 - val_accuracy: 0.1830\n",
      "Epoch 28/400\n",
      "31/31 [==============================] - 32s 1s/step - loss: 0.2431 - accuracy: 0.9280 - val_loss: 5.2927 - val_accuracy: 0.1920\n",
      "Epoch 29/400\n",
      "31/31 [==============================] - 32s 1s/step - loss: 0.2262 - accuracy: 0.9401 - val_loss: 5.1008 - val_accuracy: 0.2366\n",
      "Epoch 30/400\n",
      "31/31 [==============================] - 32s 1s/step - loss: 0.2060 - accuracy: 0.9410 - val_loss: 5.3950 - val_accuracy: 0.2143\n",
      "Epoch 31/400\n",
      "31/31 [==============================] - 32s 1s/step - loss: 0.1982 - accuracy: 0.9356 - val_loss: 6.5190 - val_accuracy: 0.1585\n",
      "Epoch 32/400\n",
      "31/31 [==============================] - 32s 1s/step - loss: 0.2223 - accuracy: 0.9415 - val_loss: 5.8759 - val_accuracy: 0.2009\n",
      "Epoch 33/400\n",
      "31/31 [==============================] - 32s 1s/step - loss: 0.1850 - accuracy: 0.9443 - val_loss: 5.5675 - val_accuracy: 0.2076\n",
      "Epoch 34/400\n",
      "31/31 [==============================] - 32s 1s/step - loss: 0.1874 - accuracy: 0.9465 - val_loss: 5.6272 - val_accuracy: 0.2188\n",
      "Epoch 35/400\n",
      "31/31 [==============================] - 32s 1s/step - loss: 0.2202 - accuracy: 0.9338 - val_loss: 5.9353 - val_accuracy: 0.1987\n",
      "Epoch 36/400\n",
      "31/31 [==============================] - 32s 1s/step - loss: 0.2147 - accuracy: 0.9442 - val_loss: 6.0334 - val_accuracy: 0.1830\n",
      "Epoch 37/400\n",
      "31/31 [==============================] - 32s 1s/step - loss: 0.2092 - accuracy: 0.9382 - val_loss: 6.3359 - val_accuracy: 0.2188\n",
      "Epoch 38/400\n",
      "31/31 [==============================] - 32s 1s/step - loss: 0.2211 - accuracy: 0.9304 - val_loss: 5.9970 - val_accuracy: 0.2098\n",
      "Epoch 39/400\n",
      "31/31 [==============================] - 32s 1s/step - loss: 0.1915 - accuracy: 0.9412 - val_loss: 6.3312 - val_accuracy: 0.2143\n",
      "Epoch 40/400\n",
      "31/31 [==============================] - 32s 1s/step - loss: 0.2200 - accuracy: 0.9326 - val_loss: 6.4238 - val_accuracy: 0.2143\n",
      "Epoch 41/400\n",
      "31/31 [==============================] - 32s 1s/step - loss: 0.2278 - accuracy: 0.9385 - val_loss: 6.2502 - val_accuracy: 0.2031\n",
      "Epoch 42/400\n",
      "31/31 [==============================] - 32s 1s/step - loss: 0.2487 - accuracy: 0.9292 - val_loss: 5.7950 - val_accuracy: 0.2522\n",
      "Epoch 43/400\n",
      "31/31 [==============================] - 32s 1s/step - loss: 0.2104 - accuracy: 0.9415 - val_loss: 5.5785 - val_accuracy: 0.2545\n",
      "Epoch 44/400\n",
      "31/31 [==============================] - 32s 1s/step - loss: 0.1827 - accuracy: 0.9417 - val_loss: 6.5161 - val_accuracy: 0.2455\n",
      "Epoch 45/400\n",
      "31/31 [==============================] - 32s 1s/step - loss: 0.1858 - accuracy: 0.9436 - val_loss: 6.1442 - val_accuracy: 0.2031\n",
      "Epoch 46/400\n",
      "31/31 [==============================] - 32s 1s/step - loss: 0.1728 - accuracy: 0.9513 - val_loss: 6.6339 - val_accuracy: 0.1786\n",
      "Epoch 47/400\n",
      "31/31 [==============================] - 32s 1s/step - loss: 0.1473 - accuracy: 0.9556 - val_loss: 5.2963 - val_accuracy: 0.2723\n",
      "Epoch 48/400\n",
      "31/31 [==============================] - 32s 1s/step - loss: 0.1677 - accuracy: 0.9508 - val_loss: 6.0020 - val_accuracy: 0.2433\n",
      "Epoch 49/400\n",
      "31/31 [==============================] - 32s 1s/step - loss: 0.2041 - accuracy: 0.9449 - val_loss: 5.8678 - val_accuracy: 0.2500\n",
      "Epoch 50/400\n",
      "31/31 [==============================] - 32s 1s/step - loss: 0.1601 - accuracy: 0.9616 - val_loss: 5.5817 - val_accuracy: 0.2522\n",
      "Epoch 51/400\n",
      "31/31 [==============================] - 32s 1s/step - loss: 0.1253 - accuracy: 0.9651 - val_loss: 5.5550 - val_accuracy: 0.2656\n",
      "Epoch 52/400\n",
      "31/31 [==============================] - 32s 1s/step - loss: 0.1480 - accuracy: 0.9604 - val_loss: 5.1319 - val_accuracy: 0.2589\n",
      "Epoch 53/400\n",
      "31/31 [==============================] - 32s 1s/step - loss: 0.1346 - accuracy: 0.9591 - val_loss: 5.7757 - val_accuracy: 0.2455\n",
      "Epoch 54/400\n",
      "31/31 [==============================] - 32s 1s/step - loss: 0.1710 - accuracy: 0.9507 - val_loss: 5.8126 - val_accuracy: 0.2612\n",
      "Epoch 55/400\n",
      "31/31 [==============================] - 32s 1s/step - loss: 0.1060 - accuracy: 0.9709 - val_loss: 5.4918 - val_accuracy: 0.2478\n",
      "Epoch 56/400\n",
      "31/31 [==============================] - 32s 1s/step - loss: 0.0894 - accuracy: 0.9723 - val_loss: 5.1332 - val_accuracy: 0.2589\n",
      "Epoch 57/400\n",
      "31/31 [==============================] - 32s 1s/step - loss: 0.0752 - accuracy: 0.9770 - val_loss: 5.1077 - val_accuracy: 0.2679\n",
      "Epoch 58/400\n",
      "31/31 [==============================] - 32s 1s/step - loss: 0.1364 - accuracy: 0.9625 - val_loss: 5.5382 - val_accuracy: 0.2321\n",
      "Epoch 59/400\n",
      "31/31 [==============================] - 32s 1s/step - loss: 0.0782 - accuracy: 0.9789 - val_loss: 5.3676 - val_accuracy: 0.2522\n",
      "Epoch 60/400\n",
      "31/31 [==============================] - 32s 1s/step - loss: 0.0827 - accuracy: 0.9771 - val_loss: 5.4748 - val_accuracy: 0.2835\n",
      "Epoch 61/400\n",
      "31/31 [==============================] - 32s 1s/step - loss: 0.0941 - accuracy: 0.9738 - val_loss: 5.1669 - val_accuracy: 0.2188\n",
      "Epoch 62/400\n",
      "31/31 [==============================] - 32s 1s/step - loss: 0.1117 - accuracy: 0.9675 - val_loss: 5.1975 - val_accuracy: 0.2656\n",
      "Epoch 63/400\n",
      "31/31 [==============================] - 31s 1s/step - loss: 0.0793 - accuracy: 0.9790 - val_loss: 5.4748 - val_accuracy: 0.2768\n",
      "Epoch 64/400\n",
      "31/31 [==============================] - 32s 1s/step - loss: 0.1675 - accuracy: 0.9548 - val_loss: 6.8398 - val_accuracy: 0.1875\n",
      "Epoch 65/400\n",
      "31/31 [==============================] - 32s 1s/step - loss: 0.1590 - accuracy: 0.9543 - val_loss: 6.5336 - val_accuracy: 0.2321\n",
      "Epoch 66/400\n",
      "31/31 [==============================] - 32s 1s/step - loss: 0.1743 - accuracy: 0.9508 - val_loss: 6.0277 - val_accuracy: 0.2522\n",
      "Epoch 67/400\n",
      "31/31 [==============================] - 33s 1s/step - loss: 0.1331 - accuracy: 0.9639 - val_loss: 5.5973 - val_accuracy: 0.2567\n",
      "Epoch 68/400\n",
      "31/31 [==============================] - 32s 1s/step - loss: 0.1496 - accuracy: 0.9551 - val_loss: 5.4199 - val_accuracy: 0.2522\n",
      "Epoch 69/400\n",
      "31/31 [==============================] - 32s 1s/step - loss: 0.1073 - accuracy: 0.9657 - val_loss: 5.3094 - val_accuracy: 0.2656\n",
      "Epoch 70/400\n",
      "31/31 [==============================] - 32s 1s/step - loss: 0.1745 - accuracy: 0.9510 - val_loss: 5.9611 - val_accuracy: 0.3080\n",
      "Epoch 71/400\n",
      "31/31 [==============================] - 32s 1s/step - loss: 0.1436 - accuracy: 0.9619 - val_loss: 6.7030 - val_accuracy: 0.2545\n",
      "Epoch 72/400\n",
      "31/31 [==============================] - 32s 1s/step - loss: 0.1382 - accuracy: 0.9589 - val_loss: 5.7207 - val_accuracy: 0.3058\n",
      "Epoch 73/400\n",
      "31/31 [==============================] - 32s 1s/step - loss: 0.1525 - accuracy: 0.9569 - val_loss: 5.5011 - val_accuracy: 0.2879\n",
      "Epoch 74/400\n",
      "31/31 [==============================] - 32s 1s/step - loss: 0.1293 - accuracy: 0.9704 - val_loss: 6.1242 - val_accuracy: 0.2299\n",
      "Epoch 75/400\n",
      "31/31 [==============================] - 32s 1s/step - loss: 0.1456 - accuracy: 0.9605 - val_loss: 5.5948 - val_accuracy: 0.2969\n",
      "Epoch 76/400\n",
      "31/31 [==============================] - 33s 1s/step - loss: 0.0789 - accuracy: 0.9792 - val_loss: 5.0845 - val_accuracy: 0.2991\n",
      "Epoch 77/400\n",
      "31/31 [==============================] - 33s 1s/step - loss: 0.1044 - accuracy: 0.9736 - val_loss: 5.4756 - val_accuracy: 0.3147\n",
      "Epoch 78/400\n",
      "31/31 [==============================] - 32s 1s/step - loss: 0.0819 - accuracy: 0.9782 - val_loss: 5.4632 - val_accuracy: 0.3326\n",
      "Epoch 79/400\n",
      "31/31 [==============================] - 32s 1s/step - loss: 0.1429 - accuracy: 0.9582 - val_loss: 5.0367 - val_accuracy: 0.2790\n",
      "Epoch 80/400\n",
      "31/31 [==============================] - 32s 1s/step - loss: 0.1364 - accuracy: 0.9656 - val_loss: 5.1341 - val_accuracy: 0.3036\n",
      "Epoch 81/400\n",
      "31/31 [==============================] - 32s 1s/step - loss: 0.0854 - accuracy: 0.9695 - val_loss: 5.0010 - val_accuracy: 0.2857\n",
      "Epoch 82/400\n",
      "31/31 [==============================] - 32s 1s/step - loss: 0.0764 - accuracy: 0.9776 - val_loss: 4.7405 - val_accuracy: 0.3304\n",
      "Epoch 83/400\n",
      "31/31 [==============================] - 32s 1s/step - loss: 0.0855 - accuracy: 0.9755 - val_loss: 5.2778 - val_accuracy: 0.2679\n",
      "Epoch 84/400\n",
      "31/31 [==============================] - 32s 1s/step - loss: 0.0981 - accuracy: 0.9753 - val_loss: 5.1260 - val_accuracy: 0.3013\n",
      "Epoch 85/400\n",
      "31/31 [==============================] - 32s 1s/step - loss: 0.0479 - accuracy: 0.9835 - val_loss: 4.8906 - val_accuracy: 0.3147\n",
      "Epoch 86/400\n",
      "31/31 [==============================] - 31s 1s/step - loss: 0.0572 - accuracy: 0.9886 - val_loss: 4.5963 - val_accuracy: 0.3371\n",
      "Epoch 87/400\n",
      "31/31 [==============================] - 31s 1s/step - loss: 0.0698 - accuracy: 0.9780 - val_loss: 4.7077 - val_accuracy: 0.3214\n",
      "Epoch 88/400\n",
      "31/31 [==============================] - 31s 1s/step - loss: 0.0604 - accuracy: 0.9848 - val_loss: 4.8737 - val_accuracy: 0.3304\n",
      "Epoch 89/400\n",
      "31/31 [==============================] - 31s 1s/step - loss: 0.0778 - accuracy: 0.9751 - val_loss: 4.8525 - val_accuracy: 0.3438\n",
      "Epoch 90/400\n",
      "31/31 [==============================] - 32s 1s/step - loss: 0.0640 - accuracy: 0.9795 - val_loss: 4.9865 - val_accuracy: 0.3281\n",
      "Epoch 91/400\n",
      "31/31 [==============================] - 32s 1s/step - loss: 0.0600 - accuracy: 0.9865 - val_loss: 4.9824 - val_accuracy: 0.3170\n",
      "Epoch 92/400\n",
      "31/31 [==============================] - 32s 1s/step - loss: 0.0794 - accuracy: 0.9811 - val_loss: 5.0791 - val_accuracy: 0.3438\n",
      "Epoch 93/400\n",
      "31/31 [==============================] - 31s 1s/step - loss: 0.0570 - accuracy: 0.9834 - val_loss: 5.2380 - val_accuracy: 0.3281\n",
      "Epoch 94/400\n",
      "31/31 [==============================] - 31s 1s/step - loss: 0.1120 - accuracy: 0.9740 - val_loss: 6.1203 - val_accuracy: 0.2500\n",
      "Epoch 95/400\n",
      "31/31 [==============================] - 32s 1s/step - loss: 0.0696 - accuracy: 0.9751 - val_loss: 5.0995 - val_accuracy: 0.3103\n",
      "Epoch 96/400\n",
      "31/31 [==============================] - 32s 1s/step - loss: 0.0898 - accuracy: 0.9723 - val_loss: 5.0952 - val_accuracy: 0.3326\n",
      "Epoch 97/400\n",
      "31/31 [==============================] - 32s 1s/step - loss: 0.1033 - accuracy: 0.9724 - val_loss: 5.6316 - val_accuracy: 0.3147\n",
      "Epoch 98/400\n",
      "31/31 [==============================] - 32s 1s/step - loss: 0.0979 - accuracy: 0.9698 - val_loss: 5.4321 - val_accuracy: 0.3237\n",
      "Epoch 99/400\n",
      "31/31 [==============================] - 32s 1s/step - loss: 0.0772 - accuracy: 0.9730 - val_loss: 5.2021 - val_accuracy: 0.3192\n",
      "Epoch 100/400\n",
      "31/31 [==============================] - 32s 1s/step - loss: 0.0845 - accuracy: 0.9761 - val_loss: 5.2520 - val_accuracy: 0.3281\n",
      "Epoch 101/400\n",
      "31/31 [==============================] - 32s 1s/step - loss: 0.0814 - accuracy: 0.9800 - val_loss: 5.7342 - val_accuracy: 0.2812\n",
      "Restoring model weights from the end of the best epoch.\n",
      "Epoch 00101: early stopping\n"
     ]
    }
   ],
   "source": [
    "history6 = model6.fit(\n",
    "    train_generator1,\n",
    "    epochs=EPOCHS,\n",
    "    validation_data=validation_generator1,\n",
    "    steps_per_epoch = train_generator1.samples // BATCH_SIZE,\n",
    "    validation_steps = validation_generator1.samples // BATCH_SIZE,\n",
    "    callbacks=[model_checkpoint_callback6, early_stopping_callback2]\n",
    ")"
   ]
  },
  {
   "cell_type": "code",
   "execution_count": null,
   "metadata": {
    "colab": {
     "base_uri": "https://localhost:8080/",
     "height": 573
    },
    "id": "FoGI9bpbpka6",
    "outputId": "f2456ca8-5a23-41f0-e909-205687a26fec"
   },
   "outputs": [
    {
     "data": {
      "image/png": "[encoded data removed]",
      "text/plain": [
       "<Figure size 432x288 with 1 Axes>"
      ]
     },
     "metadata": {
      "needs_background": "light",
      "tags": []
     },
     "output_type": "display_data"
    },
    {
     "data": {
      "image/png": "[encoded data removed]",
      "text/plain": [
       "<Figure size 432x288 with 1 Axes>"
      ]
     },
     "metadata": {
      "needs_background": "light",
      "tags": []
     },
     "output_type": "display_data"
    }
   ],
   "source": [
    "plt.plot(history6.history['accuracy'])\n",
    "plt.plot(history6.history['val_accuracy'])\n",
    "plt.title('model accuracy')\n",
    "plt.ylabel('accuracy')\n",
    "plt.xlabel('epoch')\n",
    "plt.legend(['training', 'validation'], loc='best')\n",
    "plt.show()"
   ]
  },
  {
   "cell_type": "code",
   "execution_count": null,
   "metadata": {
    "colab": {
     "base_uri": "https://localhost:8080/",
     "height": 573
    },
    "id": "9SEDqMfLpkF1",
    "outputId": "4a625b63-88d7-455a-adba-fdb7d9c3e440"
   },
   "outputs": [
    {
     "data": {
      "image/png": "[encoded data removed]",
      "text/plain": [
       "<Figure size 432x288 with 1 Axes>"
      ]
     },
     "metadata": {
      "needs_background": "light",
      "tags": []
     },
     "output_type": "display_data"
    },
    {
     "data": {
      "image/png": "[encoded data removed]",
      "text/plain": [
       "<Figure size 432x288 with 1 Axes>"
      ]
     },
     "metadata": {
      "needs_background": "light",
      "tags": []
     },
     "output_type": "display_data"
    }
   ],
   "source": [
    "plt.plot(history6.history['loss'])\n",
    "plt.plot(history6.history['val_loss'])\n",
    "plt.title('model loss')\n",
    "plt.ylabel('loss')\n",
    "plt.xlabel('epoch')\n",
    "plt.legend(['training', 'validation'], loc='best')\n",
    "plt.show()"
   ]
  },
  {
   "cell_type": "markdown",
   "metadata": {
    "id": "g6MReuaIe71Q"
   },
   "source": [
    "As expected, this does not converge. Infact, it's only half as good. This accuracy result is similar to the one shown in ref. [6] [here](https://keras.io/img/examples/vision/image_classification_efficientnet_fine_tuning/image_classification_efficientnet_fine_tuning_20_0.png)."
   ]
  },
  {
   "cell_type": "markdown",
   "metadata": {
    "id": "t6P-HX5ow297"
   },
   "source": [
    "## Observations form these experiments"
   ]
  },
  {
   "cell_type": "markdown",
   "metadata": {
    "id": "0dMn1BdBw297"
   },
   "source": [
    "- I downscaled the images to the dimensions of that of the MNIST Images while making sure that the images are still recognizable from each other. This would reduce the number of parameters in our network. I also padded the images with 0 to maintain the aspect ratio and inverted the images so that the background now has 0 as the pixel value.\n",
    "- I started with a modified version of the original LeNet, which was used to classify on the MNIST dataset, as our current dataset closely resembles it, I got an accuracy of around 50%.\n",
    "- Data Augmentation did not help for this dataset as the augmented data was very different from the original data and it actually performed worse. I did not use Data augmentation for later experiments.\n",
    "- I tried the Mish Activation function instead of ReLU and it reached the the same accuracy in lesser epochs, however it had some variance issues for the training accuracy in the later epochs.\n",
    "- Using Softmax with greater temperature, which spreads the probabilities and it actually gave similar results in lesser epochs.\n",
    "- I tried different architectures: One which is known to give pretty good accuracy on the MNIST dataset in Kaggle Competitions and one Modified EfficientNet Architecture.\n",
    "    - The first of them gave very good results compared to the original LeNet and in lesser epoch. **It achieved an accuracy of 71.43%**! An improvement of more than 20% on the original experiment.\n",
    "    - The EfficientNet architecture actually gave the worst results in all of the experiments, but I think this was due to the scarcity of training data and not using a pretrained model.\n"
   ]
  },
  {
   "cell_type": "markdown",
   "metadata": {
    "id": "YjJCT2OQw299"
   },
   "source": [
    "## Conclusions and Future Improvements"
   ]
  },
  {
   "cell_type": "markdown",
   "metadata": {
    "id": "QY0NMeISw299"
   },
   "source": [
    "- Overall, I think the Experiment 5 gave very good result, with around 71.43% accuracy, followed by LeNet with Mish and higher temperature Softmax. Clearly, the models were overfitting the data and I think that if trained with more data, they would perform better. For the future parts of this task, I would be using these two architectures.\n",
    "- EfficientNet can give better results than from Experiment 6 but again, it neeeds more data and some pre-trainined weights. EfficientNetV2, released recently can also be a good model, but I can't find an Open Source Implementation of it and it's a little complex to build it in this duration, so I didn not try it, but I'm sure that it would give better results than what I got from EfficientNet here.\n",
    "- I have tuned the hyperparameters from what I could read online. However, I think using [Weights & Biases Sweeps](https://docs.wandb.com/sweeps/overview) would give better insights. I got to know about this relatively late and there was not much time left to set it up. But it would be sweet in the future to improve the model using this."
   ]
  },
  {
   "cell_type": "markdown",
   "metadata": {
    "id": "z6AV7-6BbZTC"
   },
   "source": [
    "# References"
   ]
  },
  {
   "cell_type": "markdown",
   "metadata": {
    "execution": {
     "iopub.execute_input": "2021-04-07T07:12:12.775294Z",
     "iopub.status.busy": "2021-04-07T07:12:12.774772Z",
     "iopub.status.idle": "2021-04-07T07:12:12.785070Z",
     "shell.execute_reply": "2021-04-07T07:12:12.782772Z",
     "shell.execute_reply.started": "2021-04-07T07:12:12.775233Z"
    },
    "id": "dvXZ8i_RbZTG"
   },
   "source": [
    "- [1] [EMNIST handwritten character recognition with Deep Learning](https://medium.com/@mrkardostamas/emnist-handwritten-character-recognition-with-deep-learning-b5d61ac1aab7)\n",
    "- [2] [How to choose CNN Architecture MNIST](https://www.kaggle.com/cdeotte/how-to-choose-cnn-architecture-mnist)\n",
    "- [3] [Swish Vs Mish: Latest Activation Functions](https://krutikabapat.github.io/Swish-Vs-Mish-Latest-Activation-Functions/)\n",
    "- [4] [Mish Class Definition in Keras](https://gist.github.com/digantamisra98/35ca0ec94ebefb99af6f444922fa52cd)\n",
    "- [5] [Mnist_EfficientNet Kaggle Notebook](https://www.kaggle.com/ateplyuk/mnist-efficientnet)\n",
    "- [6] [Image classification via fine-tuning with EfficientNet](https://keras.io/examples/vision/image_classification_efficientnet_fine_tuning/#training-a-model-from-scratch)\n",
    "- [7] [Keras EfficientNet Implementation Source Code](https://github.com/tensorflow/tensorflow/blob/v2.4.1/tensorflow/python/keras/applications/efficientnet.py#L517-L540)\n",
    "- [8] [Keras ModelCheckpoint Documentaion](https://www.tensorflow.org/api_docs/python/tf/keras/callbacks/ModelCheckpoint)\n",
    "- [9] [Keras EarlyStopping Documentaion](https://www.tensorflow.org/api_docs/python/tf/keras/callbacks/EarlyStopping)\n",
    "- [10] [Keras ImageDataGenerator Documentation](https://www.tensorflow.org/api_docs/python/tf/keras/preprocessing/image/ImageDataGenerator)\n",
    "- [11] [Keras EfficientNetB0 Documentation](https://www.tensorflow.org/api_docs/python/tf/keras/applications/EfficientNetB0)\n",
    "- [12] [Effect of Batch Size on Neural Net Training](https://medium.com/deep-learning-experiments/effect-of-batch-size-on-neural-net-training-c5ae8516e57)\n",
    "- [13] [How does temperature affect softmax in machine learning?](http://www.kasimte.com/2020/02/14/how-does-temperature-affect-softmax-in-machine-learning.html)\n",
    "- [14] [Temperatured softmax · Issue #3092 · keras-team/keras](https://github.com/keras-team/keras/issues/3092)\n",
    "- [15] [EfficientNetV2: Smaller Models and Faster Training](https://arxiv.org/pdf/2104.00298.pdf)\n",
    "- [16] [Notes from Deeplearning.ai's Deep Learning Speciaization](https://www.coursera.org/specializations/deep-learning)"
   ]
  },
  {
   "cell_type": "code",
   "execution_count": null,
   "metadata": {
    "id": "Gbz4WAEsZiq3"
   },
   "outputs": [],
   "source": []
  }
 ],
 "metadata": {
  "accelerator": "GPU",
  "colab": {
   "collapsed_sections": [],
   "name": "midastask2part1.ipynb",
   "provenance": [],
   "toc_visible": true
  },
  "kernelspec": {
   "display_name": "Python 3",
   "language": "python",
   "name": "python3"
  },
  "language_info": {
   "codemirror_mode": {
    "name": "ipython",
    "version": 3
   },
   "file_extension": ".py",
   "mimetype": "text/x-python",
   "name": "python",
   "nbconvert_exporter": "python",
   "pygments_lexer": "ipython3",
   "version": "3.8.8"
  }
 },
 "nbformat": 4,
 "nbformat_minor": 4
}
